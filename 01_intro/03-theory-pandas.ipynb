{
 "cells": [
  {
   "cell_type": "markdown",
   "metadata": {},
   "source": [
    "# Pandas\n",
    "\n",
    "Это библиотека для анализа данных. С помощью неё можно загружать, обрабатывать и анализировать табличные данные, загружая их из csv, из БД sql и так далее, даже из mongoDB. Это такой особый \"Excel\". Если вы познаете всю мощью pandas, вам всё захочется делеть через него.\n",
    "\n",
    "## Литература \n",
    "\n",
    "- [Шпаргалка по pandas](https://github.com/pandas-dev/pandas/blob/master/doc/cheatsheet/Pandas_Cheat_Sheet.pdf)\n",
    "- [10 Minutes to pandas](http://pandas.pydata.org/pandas-docs/stable/10min.html)\n",
    "- [Pandas cookbook](http://pandas.pydata.org/pandas-docs/stable/cookbook.html#cookbook)\n",
    "- [Индексация в pandas](https://pandas.pydata.org/pandas-docs/stable/indexing.html)\n",
    "- [Работа с пропусками в pandas](https://pandas.pydata.org/pandas-docs/stable/missing_data.html)"
   ]
  },
  {
   "cell_type": "code",
   "execution_count": 1,
   "metadata": {
    "scrolled": true
   },
   "outputs": [],
   "source": [
    "# Если нужно, то раскомментируйте строчку или поставьте из консоли зависимости\n",
    "#!pip install pandas numpy matplotlib seaborn"
   ]
  },
  {
   "cell_type": "code",
   "execution_count": 2,
   "metadata": {},
   "outputs": [],
   "source": [
    "import pandas as pd\n",
    "import numpy as np"
   ]
  },
  {
   "cell_type": "markdown",
   "metadata": {},
   "source": [
    "Основными структурами данных в Pandas являются классы Series и DataFrame:\n",
    "- Series одномерный индексированный массив данных некоторого фиксированного типа.\n",
    "- DataFrame - двухмерная структура данных, представляющая собой таблицу, каждый столбец которой содержит данные одного типа. То есть это набор Series с именами.\n",
    "\n",
    "Внутри себя pandas использует библиотеку numpy, поэтому обычно их используют сразу и вместе. Многие функции, знакомые нам с numpy тут работают.\n",
    "\n",
    "Рассмотрим по отдельности Series и Dataframe"
   ]
  },
  {
   "cell_type": "markdown",
   "metadata": {},
   "source": [
    "## Series"
   ]
  },
  {
   "cell_type": "code",
   "execution_count": 3,
   "metadata": {},
   "outputs": [],
   "source": [
    "?pd.Series"
   ]
  },
  {
   "cell_type": "code",
   "execution_count": 4,
   "metadata": {},
   "outputs": [
    {
     "data": {
      "text/plain": [
       "0    3.0\n",
       "1    5.0\n",
       "2    1.0\n",
       "3    7.0\n",
       "4    NaN\n",
       "5    5.0\n",
       "dtype: float64"
      ]
     },
     "execution_count": 4,
     "metadata": {},
     "output_type": "execute_result"
    }
   ],
   "source": [
    "# Series состоящий из чисел, кстати можно хранить numpy NaN\n",
    "\n",
    "s=pd.Series([3,5,1,7,np.nan, 5])\n",
    "s"
   ]
  },
  {
   "cell_type": "code",
   "execution_count": 5,
   "metadata": {},
   "outputs": [
    {
     "data": {
      "text/plain": [
       "(7.0, nan)"
      ]
     },
     "execution_count": 5,
     "metadata": {},
     "output_type": "execute_result"
    }
   ],
   "source": [
    "s[3], s[4]  # доступна индексация"
   ]
  },
  {
   "cell_type": "code",
   "execution_count": 6,
   "metadata": {},
   "outputs": [
    {
     "data": {
      "text/plain": [
       "A    0\n",
       "B    1\n",
       "C    2\n",
       "D    3\n",
       "E    4\n",
       "dtype: int64"
      ]
     },
     "execution_count": 6,
     "metadata": {},
     "output_type": "execute_result"
    }
   ],
   "source": [
    "# Ключами могут быть не только числа, но и строки\n",
    "\n",
    "s = pd.Series(np.arange(5), index=list('ABCDE'))\n",
    "s"
   ]
  },
  {
   "cell_type": "code",
   "execution_count": 7,
   "metadata": {},
   "outputs": [
    {
     "data": {
      "text/plain": [
       "(0, 4)"
      ]
     },
     "execution_count": 7,
     "metadata": {},
     "output_type": "execute_result"
    }
   ],
   "source": [
    "s['A'], s['E']"
   ]
  },
  {
   "cell_type": "code",
   "execution_count": 8,
   "metadata": {},
   "outputs": [
    {
     "data": {
      "text/plain": [
       "D    3\n",
       "E    4\n",
       "dtype: int64"
      ]
     },
     "execution_count": 8,
     "metadata": {},
     "output_type": "execute_result"
    }
   ],
   "source": [
    "# Точно так же как и numpy pandas поддерживает логическое индексирование(маски)\n",
    "\n",
    "s[s > 2]"
   ]
  },
  {
   "cell_type": "code",
   "execution_count": 9,
   "metadata": {},
   "outputs": [
    {
     "data": {
      "text/plain": [
       "A    0\n",
       "B    1\n",
       "dtype: int64"
      ]
     },
     "execution_count": 9,
     "metadata": {},
     "output_type": "execute_result"
    }
   ],
   "source": [
    "s[:2] # можно даже применять обычное индексирование, если ваши индексы это строки"
   ]
  },
  {
   "cell_type": "code",
   "execution_count": 10,
   "metadata": {},
   "outputs": [
    {
     "data": {
      "text/plain": [
       "A     1.000000\n",
       "B     2.718282\n",
       "C     7.389056\n",
       "D    20.085537\n",
       "E    54.598150\n",
       "dtype: float64"
      ]
     },
     "execution_count": 10,
     "metadata": {},
     "output_type": "execute_result"
    }
   ],
   "source": [
    "# Над Series можно выполнять функции из numpy!\n",
    "np.exp(s)"
   ]
  },
  {
   "cell_type": "code",
   "execution_count": 11,
   "metadata": {},
   "outputs": [
    {
     "name": "stdout",
     "output_type": "stream",
     "text": [
      "0\n",
      "2\n",
      "4\n",
      "6\n",
      "8\n"
     ]
    },
    {
     "data": {
      "text/plain": [
       "A    None\n",
       "B    None\n",
       "C    None\n",
       "D    None\n",
       "E    None\n",
       "dtype: object"
      ]
     },
     "execution_count": 11,
     "metadata": {},
     "output_type": "execute_result"
    }
   ],
   "source": [
    "s.apply(lambda el: print(el * 2))"
   ]
  },
  {
   "cell_type": "code",
   "execution_count": 12,
   "metadata": {},
   "outputs": [
    {
     "data": {
      "text/plain": [
       "'E'"
      ]
     },
     "execution_count": 12,
     "metadata": {},
     "output_type": "execute_result"
    }
   ],
   "source": [
    "# можно как и в np.argmax вызвать idxmax, то есть idx максимального эжлемента\n",
    "s.idxmax()"
   ]
  },
  {
   "cell_type": "markdown",
   "metadata": {},
   "source": [
    "## DataFrame\n",
    "\n",
    "Из документации:\n",
    "\n",
    "DataFrame is a 2-dimensional labeled data structure with columns of potentially different types. You can think of it like a spreadsheet or SQL table, or a dict of Series objects. It is generally the most commonly used pandas object. Like Series, DataFrame accepts many different kinds of input:\n",
    "\n",
    "- Dict of 1D ndarrays, lists, dicts, or Series\n",
    "- 2-D numpy.ndarray\n",
    "- Structured or record ndarray\n",
    "- A Series\n",
    "- Another DataFrame"
   ]
  },
  {
   "cell_type": "code",
   "execution_count": 13,
   "metadata": {},
   "outputs": [],
   "source": [
    "# посмотриеть документацию\n",
    "?pd.DataFrame"
   ]
  },
  {
   "cell_type": "code",
   "execution_count": 14,
   "metadata": {},
   "outputs": [
    {
     "data": {
      "text/html": [
       "<div>\n",
       "<style scoped>\n",
       "    .dataframe tbody tr th:only-of-type {\n",
       "        vertical-align: middle;\n",
       "    }\n",
       "\n",
       "    .dataframe tbody tr th {\n",
       "        vertical-align: top;\n",
       "    }\n",
       "\n",
       "    .dataframe thead th {\n",
       "        text-align: right;\n",
       "    }\n",
       "</style>\n",
       "<table border=\"1\" class=\"dataframe\">\n",
       "  <thead>\n",
       "    <tr style=\"text-align: right;\">\n",
       "      <th></th>\n",
       "      <th>a</th>\n",
       "      <th>b</th>\n",
       "      <th>c</th>\n",
       "    </tr>\n",
       "  </thead>\n",
       "  <tbody>\n",
       "    <tr>\n",
       "      <th>0</th>\n",
       "      <td>0.698976</td>\n",
       "      <td>h</td>\n",
       "      <td>0.00</td>\n",
       "    </tr>\n",
       "    <tr>\n",
       "      <th>1</th>\n",
       "      <td>0.610622</td>\n",
       "      <td>e</td>\n",
       "      <td>0.25</td>\n",
       "    </tr>\n",
       "    <tr>\n",
       "      <th>2</th>\n",
       "      <td>0.090192</td>\n",
       "      <td>l</td>\n",
       "      <td>0.50</td>\n",
       "    </tr>\n",
       "    <tr>\n",
       "      <th>3</th>\n",
       "      <td>0.903680</td>\n",
       "      <td>l</td>\n",
       "      <td>0.75</td>\n",
       "    </tr>\n",
       "    <tr>\n",
       "      <th>4</th>\n",
       "      <td>0.266462</td>\n",
       "      <td>o</td>\n",
       "      <td>1.00</td>\n",
       "    </tr>\n",
       "  </tbody>\n",
       "</table>\n",
       "</div>"
      ],
      "text/plain": [
       "          a  b     c\n",
       "0  0.698976  h  0.00\n",
       "1  0.610622  e  0.25\n",
       "2  0.090192  l  0.50\n",
       "3  0.903680  l  0.75\n",
       "4  0.266462  o  1.00"
      ]
     },
     "execution_count": 14,
     "metadata": {},
     "output_type": "execute_result"
    }
   ],
   "source": [
    "# Создать таблицу (DataFrame) можно в лоб - просто перевести словарь в таблицу\n",
    "\n",
    "df = pd.DataFrame({'a': np.random.rand(5), \n",
    "              'b': list('hello'), \n",
    "              'c': np.linspace(0,1,5)})\n",
    "df # если вы заканчиваете ячейку датафреймом, то jupyter красиво нарисует таблицу."
   ]
  },
  {
   "cell_type": "code",
   "execution_count": 15,
   "metadata": {},
   "outputs": [
    {
     "data": {
      "text/plain": [
       "DatetimeIndex(['2017-01-01', '2017-01-02', '2017-01-03', '2017-01-04',\n",
       "               '2017-01-05', '2017-01-06', '2017-01-07', '2017-01-08',\n",
       "               '2017-01-09', '2017-01-10', '2017-01-11', '2017-01-12'],\n",
       "              dtype='datetime64[ns]', freq='D')"
      ]
     },
     "execution_count": 15,
     "metadata": {},
     "output_type": "execute_result"
    }
   ],
   "source": [
    "# можно построить таблицу на основе numpy матрицы\n",
    "\n",
    "indexes = pd.date_range('20170101', periods=12)  # создадим timeseries индексы!\n",
    "indexes"
   ]
  },
  {
   "cell_type": "code",
   "execution_count": 16,
   "metadata": {},
   "outputs": [
    {
     "data": {
      "text/plain": [
       "array([[ 0.63481919,  0.3125262 ,  0.05623823, -1.45425083, -0.60076727],\n",
       "       [-0.77289917,  0.70273988, -1.40783757,  0.27539491,  1.09656302],\n",
       "       [ 1.02091231,  1.31445543,  0.209904  ,  0.26502029,  0.4512876 ],\n",
       "       [ 1.05286837, -0.81351031, -0.21514317,  1.35382744,  1.74907741],\n",
       "       [ 2.55867889, -0.39317828,  1.0730476 , -0.15054945,  1.24939044],\n",
       "       [-1.88488096, -0.16298659, -1.01168518,  0.46079205,  0.36909298],\n",
       "       [ 0.3955236 , -1.00864591, -0.10332442, -1.64124088, -0.96861949],\n",
       "       [-1.32112212,  1.02045549, -1.59671103,  0.55402115, -0.82589877],\n",
       "       [ 1.1718681 , -0.48059665, -1.46004652,  1.91970623, -1.43677198],\n",
       "       [-1.0503315 ,  1.81860054, -2.44198548,  0.64281383, -0.32902878],\n",
       "       [ 0.96049663,  0.66160607, -0.03479166, -1.35379972,  0.9246359 ],\n",
       "       [ 0.40824096,  0.05307354,  0.46523839, -2.12573612, -0.54574152]])"
      ]
     },
     "execution_count": 16,
     "metadata": {},
     "output_type": "execute_result"
    }
   ],
   "source": [
    "matrix = np.random.randn(12, 5)  # матрица с данными!\n",
    "matrix"
   ]
  },
  {
   "cell_type": "code",
   "execution_count": 17,
   "metadata": {},
   "outputs": [
    {
     "data": {
      "text/html": [
       "<div>\n",
       "<style scoped>\n",
       "    .dataframe tbody tr th:only-of-type {\n",
       "        vertical-align: middle;\n",
       "    }\n",
       "\n",
       "    .dataframe tbody tr th {\n",
       "        vertical-align: top;\n",
       "    }\n",
       "\n",
       "    .dataframe thead th {\n",
       "        text-align: right;\n",
       "    }\n",
       "</style>\n",
       "<table border=\"1\" class=\"dataframe\">\n",
       "  <thead>\n",
       "    <tr style=\"text-align: right;\">\n",
       "      <th></th>\n",
       "      <th>a1</th>\n",
       "      <th>a2</th>\n",
       "      <th>a3</th>\n",
       "      <th>a4</th>\n",
       "      <th>a5</th>\n",
       "    </tr>\n",
       "  </thead>\n",
       "  <tbody>\n",
       "    <tr>\n",
       "      <th>2017-01-01</th>\n",
       "      <td>0.634819</td>\n",
       "      <td>0.312526</td>\n",
       "      <td>0.056238</td>\n",
       "      <td>-1.454251</td>\n",
       "      <td>-0.600767</td>\n",
       "    </tr>\n",
       "    <tr>\n",
       "      <th>2017-01-02</th>\n",
       "      <td>-0.772899</td>\n",
       "      <td>0.702740</td>\n",
       "      <td>-1.407838</td>\n",
       "      <td>0.275395</td>\n",
       "      <td>1.096563</td>\n",
       "    </tr>\n",
       "    <tr>\n",
       "      <th>2017-01-03</th>\n",
       "      <td>1.020912</td>\n",
       "      <td>1.314455</td>\n",
       "      <td>0.209904</td>\n",
       "      <td>0.265020</td>\n",
       "      <td>0.451288</td>\n",
       "    </tr>\n",
       "    <tr>\n",
       "      <th>2017-01-04</th>\n",
       "      <td>1.052868</td>\n",
       "      <td>-0.813510</td>\n",
       "      <td>-0.215143</td>\n",
       "      <td>1.353827</td>\n",
       "      <td>1.749077</td>\n",
       "    </tr>\n",
       "    <tr>\n",
       "      <th>2017-01-05</th>\n",
       "      <td>2.558679</td>\n",
       "      <td>-0.393178</td>\n",
       "      <td>1.073048</td>\n",
       "      <td>-0.150549</td>\n",
       "      <td>1.249390</td>\n",
       "    </tr>\n",
       "  </tbody>\n",
       "</table>\n",
       "</div>"
      ],
      "text/plain": [
       "                  a1        a2        a3        a4        a5\n",
       "2017-01-01  0.634819  0.312526  0.056238 -1.454251 -0.600767\n",
       "2017-01-02 -0.772899  0.702740 -1.407838  0.275395  1.096563\n",
       "2017-01-03  1.020912  1.314455  0.209904  0.265020  0.451288\n",
       "2017-01-04  1.052868 -0.813510 -0.215143  1.353827  1.749077\n",
       "2017-01-05  2.558679 -0.393178  1.073048 -0.150549  1.249390"
      ]
     },
     "execution_count": 17,
     "metadata": {},
     "output_type": "execute_result"
    }
   ],
   "source": [
    "df = pd.DataFrame(data=matrix, index=indexes, columns=['a1', 'a2', 'a3', 'a4', 'a5'])\n",
    "df.head(5)  # покажем только первые 5 элементов таблицы"
   ]
  },
  {
   "cell_type": "markdown",
   "metadata": {},
   "source": [
    "### Индексация, селекция и поиск в DataFrame\n",
    "\n",
    "https://pandas.pydata.org/pandas-docs/stable/indexing.html\n",
    "\n",
    "Всё точно так же как и в numpy. То есть мы можем выбрать только те строки, для которых выполняется условие по одной из колонок."
   ]
  },
  {
   "cell_type": "code",
   "execution_count": 18,
   "metadata": {},
   "outputs": [
    {
     "data": {
      "text/html": [
       "<div>\n",
       "<style scoped>\n",
       "    .dataframe tbody tr th:only-of-type {\n",
       "        vertical-align: middle;\n",
       "    }\n",
       "\n",
       "    .dataframe tbody tr th {\n",
       "        vertical-align: top;\n",
       "    }\n",
       "\n",
       "    .dataframe thead th {\n",
       "        text-align: right;\n",
       "    }\n",
       "</style>\n",
       "<table border=\"1\" class=\"dataframe\">\n",
       "  <thead>\n",
       "    <tr style=\"text-align: right;\">\n",
       "      <th></th>\n",
       "      <th>a1</th>\n",
       "      <th>a2</th>\n",
       "      <th>a3</th>\n",
       "      <th>a4</th>\n",
       "      <th>a5</th>\n",
       "    </tr>\n",
       "  </thead>\n",
       "  <tbody>\n",
       "    <tr>\n",
       "      <th>2017-01-01</th>\n",
       "      <td>0.634819</td>\n",
       "      <td>0.312526</td>\n",
       "      <td>0.056238</td>\n",
       "      <td>-1.454251</td>\n",
       "      <td>-0.600767</td>\n",
       "    </tr>\n",
       "    <tr>\n",
       "      <th>2017-01-03</th>\n",
       "      <td>1.020912</td>\n",
       "      <td>1.314455</td>\n",
       "      <td>0.209904</td>\n",
       "      <td>0.265020</td>\n",
       "      <td>0.451288</td>\n",
       "    </tr>\n",
       "    <tr>\n",
       "      <th>2017-01-04</th>\n",
       "      <td>1.052868</td>\n",
       "      <td>-0.813510</td>\n",
       "      <td>-0.215143</td>\n",
       "      <td>1.353827</td>\n",
       "      <td>1.749077</td>\n",
       "    </tr>\n",
       "    <tr>\n",
       "      <th>2017-01-05</th>\n",
       "      <td>2.558679</td>\n",
       "      <td>-0.393178</td>\n",
       "      <td>1.073048</td>\n",
       "      <td>-0.150549</td>\n",
       "      <td>1.249390</td>\n",
       "    </tr>\n",
       "    <tr>\n",
       "      <th>2017-01-07</th>\n",
       "      <td>0.395524</td>\n",
       "      <td>-1.008646</td>\n",
       "      <td>-0.103324</td>\n",
       "      <td>-1.641241</td>\n",
       "      <td>-0.968619</td>\n",
       "    </tr>\n",
       "    <tr>\n",
       "      <th>2017-01-09</th>\n",
       "      <td>1.171868</td>\n",
       "      <td>-0.480597</td>\n",
       "      <td>-1.460047</td>\n",
       "      <td>1.919706</td>\n",
       "      <td>-1.436772</td>\n",
       "    </tr>\n",
       "    <tr>\n",
       "      <th>2017-01-11</th>\n",
       "      <td>0.960497</td>\n",
       "      <td>0.661606</td>\n",
       "      <td>-0.034792</td>\n",
       "      <td>-1.353800</td>\n",
       "      <td>0.924636</td>\n",
       "    </tr>\n",
       "    <tr>\n",
       "      <th>2017-01-12</th>\n",
       "      <td>0.408241</td>\n",
       "      <td>0.053074</td>\n",
       "      <td>0.465238</td>\n",
       "      <td>-2.125736</td>\n",
       "      <td>-0.545742</td>\n",
       "    </tr>\n",
       "  </tbody>\n",
       "</table>\n",
       "</div>"
      ],
      "text/plain": [
       "                  a1        a2        a3        a4        a5\n",
       "2017-01-01  0.634819  0.312526  0.056238 -1.454251 -0.600767\n",
       "2017-01-03  1.020912  1.314455  0.209904  0.265020  0.451288\n",
       "2017-01-04  1.052868 -0.813510 -0.215143  1.353827  1.749077\n",
       "2017-01-05  2.558679 -0.393178  1.073048 -0.150549  1.249390\n",
       "2017-01-07  0.395524 -1.008646 -0.103324 -1.641241 -0.968619\n",
       "2017-01-09  1.171868 -0.480597 -1.460047  1.919706 -1.436772\n",
       "2017-01-11  0.960497  0.661606 -0.034792 -1.353800  0.924636\n",
       "2017-01-12  0.408241  0.053074  0.465238 -2.125736 -0.545742"
      ]
     },
     "execution_count": 18,
     "metadata": {},
     "output_type": "execute_result"
    }
   ],
   "source": [
    "df[df['a1'] > 0]"
   ]
  },
  {
   "cell_type": "code",
   "execution_count": 19,
   "metadata": {},
   "outputs": [
    {
     "data": {
      "text/html": [
       "<div>\n",
       "<style scoped>\n",
       "    .dataframe tbody tr th:only-of-type {\n",
       "        vertical-align: middle;\n",
       "    }\n",
       "\n",
       "    .dataframe tbody tr th {\n",
       "        vertical-align: top;\n",
       "    }\n",
       "\n",
       "    .dataframe thead th {\n",
       "        text-align: right;\n",
       "    }\n",
       "</style>\n",
       "<table border=\"1\" class=\"dataframe\">\n",
       "  <thead>\n",
       "    <tr style=\"text-align: right;\">\n",
       "      <th></th>\n",
       "      <th>a1</th>\n",
       "      <th>a2</th>\n",
       "      <th>a3</th>\n",
       "      <th>a4</th>\n",
       "      <th>a5</th>\n",
       "    </tr>\n",
       "  </thead>\n",
       "  <tbody>\n",
       "    <tr>\n",
       "      <th>2017-01-09</th>\n",
       "      <td>1.171868</td>\n",
       "      <td>-0.480597</td>\n",
       "      <td>-1.460047</td>\n",
       "      <td>1.919706</td>\n",
       "      <td>-1.436772</td>\n",
       "    </tr>\n",
       "    <tr>\n",
       "      <th>2017-01-07</th>\n",
       "      <td>0.395524</td>\n",
       "      <td>-1.008646</td>\n",
       "      <td>-0.103324</td>\n",
       "      <td>-1.641241</td>\n",
       "      <td>-0.968619</td>\n",
       "    </tr>\n",
       "    <tr>\n",
       "      <th>2017-01-08</th>\n",
       "      <td>-1.321122</td>\n",
       "      <td>1.020455</td>\n",
       "      <td>-1.596711</td>\n",
       "      <td>0.554021</td>\n",
       "      <td>-0.825899</td>\n",
       "    </tr>\n",
       "    <tr>\n",
       "      <th>2017-01-01</th>\n",
       "      <td>0.634819</td>\n",
       "      <td>0.312526</td>\n",
       "      <td>0.056238</td>\n",
       "      <td>-1.454251</td>\n",
       "      <td>-0.600767</td>\n",
       "    </tr>\n",
       "    <tr>\n",
       "      <th>2017-01-12</th>\n",
       "      <td>0.408241</td>\n",
       "      <td>0.053074</td>\n",
       "      <td>0.465238</td>\n",
       "      <td>-2.125736</td>\n",
       "      <td>-0.545742</td>\n",
       "    </tr>\n",
       "    <tr>\n",
       "      <th>2017-01-10</th>\n",
       "      <td>-1.050331</td>\n",
       "      <td>1.818601</td>\n",
       "      <td>-2.441985</td>\n",
       "      <td>0.642814</td>\n",
       "      <td>-0.329029</td>\n",
       "    </tr>\n",
       "    <tr>\n",
       "      <th>2017-01-06</th>\n",
       "      <td>-1.884881</td>\n",
       "      <td>-0.162987</td>\n",
       "      <td>-1.011685</td>\n",
       "      <td>0.460792</td>\n",
       "      <td>0.369093</td>\n",
       "    </tr>\n",
       "    <tr>\n",
       "      <th>2017-01-03</th>\n",
       "      <td>1.020912</td>\n",
       "      <td>1.314455</td>\n",
       "      <td>0.209904</td>\n",
       "      <td>0.265020</td>\n",
       "      <td>0.451288</td>\n",
       "    </tr>\n",
       "    <tr>\n",
       "      <th>2017-01-11</th>\n",
       "      <td>0.960497</td>\n",
       "      <td>0.661606</td>\n",
       "      <td>-0.034792</td>\n",
       "      <td>-1.353800</td>\n",
       "      <td>0.924636</td>\n",
       "    </tr>\n",
       "    <tr>\n",
       "      <th>2017-01-02</th>\n",
       "      <td>-0.772899</td>\n",
       "      <td>0.702740</td>\n",
       "      <td>-1.407838</td>\n",
       "      <td>0.275395</td>\n",
       "      <td>1.096563</td>\n",
       "    </tr>\n",
       "    <tr>\n",
       "      <th>2017-01-05</th>\n",
       "      <td>2.558679</td>\n",
       "      <td>-0.393178</td>\n",
       "      <td>1.073048</td>\n",
       "      <td>-0.150549</td>\n",
       "      <td>1.249390</td>\n",
       "    </tr>\n",
       "    <tr>\n",
       "      <th>2017-01-04</th>\n",
       "      <td>1.052868</td>\n",
       "      <td>-0.813510</td>\n",
       "      <td>-0.215143</td>\n",
       "      <td>1.353827</td>\n",
       "      <td>1.749077</td>\n",
       "    </tr>\n",
       "  </tbody>\n",
       "</table>\n",
       "</div>"
      ],
      "text/plain": [
       "                  a1        a2        a3        a4        a5\n",
       "2017-01-09  1.171868 -0.480597 -1.460047  1.919706 -1.436772\n",
       "2017-01-07  0.395524 -1.008646 -0.103324 -1.641241 -0.968619\n",
       "2017-01-08 -1.321122  1.020455 -1.596711  0.554021 -0.825899\n",
       "2017-01-01  0.634819  0.312526  0.056238 -1.454251 -0.600767\n",
       "2017-01-12  0.408241  0.053074  0.465238 -2.125736 -0.545742\n",
       "2017-01-10 -1.050331  1.818601 -2.441985  0.642814 -0.329029\n",
       "2017-01-06 -1.884881 -0.162987 -1.011685  0.460792  0.369093\n",
       "2017-01-03  1.020912  1.314455  0.209904  0.265020  0.451288\n",
       "2017-01-11  0.960497  0.661606 -0.034792 -1.353800  0.924636\n",
       "2017-01-02 -0.772899  0.702740 -1.407838  0.275395  1.096563\n",
       "2017-01-05  2.558679 -0.393178  1.073048 -0.150549  1.249390\n",
       "2017-01-04  1.052868 -0.813510 -0.215143  1.353827  1.749077"
      ]
     },
     "execution_count": 19,
     "metadata": {},
     "output_type": "execute_result"
    }
   ],
   "source": [
    "df.sort_values(by=['a5', 'a4'])  # можно упорядочить строки таблицы по определенной колонке"
   ]
  },
  {
   "cell_type": "code",
   "execution_count": 20,
   "metadata": {},
   "outputs": [
    {
     "data": {
      "text/html": [
       "<div>\n",
       "<style scoped>\n",
       "    .dataframe tbody tr th:only-of-type {\n",
       "        vertical-align: middle;\n",
       "    }\n",
       "\n",
       "    .dataframe tbody tr th {\n",
       "        vertical-align: top;\n",
       "    }\n",
       "\n",
       "    .dataframe thead th {\n",
       "        text-align: right;\n",
       "    }\n",
       "</style>\n",
       "<table border=\"1\" class=\"dataframe\">\n",
       "  <thead>\n",
       "    <tr style=\"text-align: right;\">\n",
       "      <th></th>\n",
       "      <th>a1</th>\n",
       "      <th>a2</th>\n",
       "    </tr>\n",
       "  </thead>\n",
       "  <tbody>\n",
       "    <tr>\n",
       "      <th>2017-01-01</th>\n",
       "      <td>0.634819</td>\n",
       "      <td>0.312526</td>\n",
       "    </tr>\n",
       "    <tr>\n",
       "      <th>2017-01-02</th>\n",
       "      <td>-0.772899</td>\n",
       "      <td>0.702740</td>\n",
       "    </tr>\n",
       "    <tr>\n",
       "      <th>2017-01-03</th>\n",
       "      <td>1.020912</td>\n",
       "      <td>1.314455</td>\n",
       "    </tr>\n",
       "  </tbody>\n",
       "</table>\n",
       "</div>"
      ],
      "text/plain": [
       "                  a1        a2\n",
       "2017-01-01  0.634819  0.312526\n",
       "2017-01-02 -0.772899  0.702740\n",
       "2017-01-03  1.020912  1.314455"
      ]
     },
     "execution_count": 20,
     "metadata": {},
     "output_type": "execute_result"
    }
   ],
   "source": [
    "df[['a1', 'a2']].head(n=3) # выбрать только несколько колонок и 3 строки"
   ]
  },
  {
   "cell_type": "markdown",
   "metadata": {},
   "source": [
    "#### Точечная индексация"
   ]
  },
  {
   "cell_type": "code",
   "execution_count": 21,
   "metadata": {},
   "outputs": [
    {
     "data": {
      "text/html": [
       "<div>\n",
       "<style scoped>\n",
       "    .dataframe tbody tr th:only-of-type {\n",
       "        vertical-align: middle;\n",
       "    }\n",
       "\n",
       "    .dataframe tbody tr th {\n",
       "        vertical-align: top;\n",
       "    }\n",
       "\n",
       "    .dataframe thead th {\n",
       "        text-align: right;\n",
       "    }\n",
       "</style>\n",
       "<table border=\"1\" class=\"dataframe\">\n",
       "  <thead>\n",
       "    <tr style=\"text-align: right;\">\n",
       "      <th></th>\n",
       "      <th>a1</th>\n",
       "      <th>a2</th>\n",
       "      <th>a3</th>\n",
       "    </tr>\n",
       "  </thead>\n",
       "  <tbody>\n",
       "    <tr>\n",
       "      <th>a</th>\n",
       "      <td>0.369027</td>\n",
       "      <td>h</td>\n",
       "      <td>0.00</td>\n",
       "    </tr>\n",
       "    <tr>\n",
       "      <th>b</th>\n",
       "      <td>0.010378</td>\n",
       "      <td>e</td>\n",
       "      <td>0.25</td>\n",
       "    </tr>\n",
       "    <tr>\n",
       "      <th>c</th>\n",
       "      <td>0.465939</td>\n",
       "      <td>l</td>\n",
       "      <td>0.50</td>\n",
       "    </tr>\n",
       "    <tr>\n",
       "      <th>d</th>\n",
       "      <td>0.842287</td>\n",
       "      <td>l</td>\n",
       "      <td>0.75</td>\n",
       "    </tr>\n",
       "    <tr>\n",
       "      <th>e</th>\n",
       "      <td>0.188023</td>\n",
       "      <td>o</td>\n",
       "      <td>1.00</td>\n",
       "    </tr>\n",
       "  </tbody>\n",
       "</table>\n",
       "</div>"
      ],
      "text/plain": [
       "         a1 a2    a3\n",
       "a  0.369027  h  0.00\n",
       "b  0.010378  e  0.25\n",
       "c  0.465939  l  0.50\n",
       "d  0.842287  l  0.75\n",
       "e  0.188023  o  1.00"
      ]
     },
     "execution_count": 21,
     "metadata": {},
     "output_type": "execute_result"
    }
   ],
   "source": [
    "df = pd.DataFrame({'a1': np.random.rand(5), \n",
    "              'a2': list('hello'), \n",
    "              'a3': np.linspace(0,1,5)}, index=list('abcde'))\n",
    "df"
   ]
  },
  {
   "cell_type": "code",
   "execution_count": 22,
   "metadata": {},
   "outputs": [
    {
     "data": {
      "text/plain": [
       "'h'"
      ]
     },
     "execution_count": 22,
     "metadata": {},
     "output_type": "execute_result"
    }
   ],
   "source": [
    "df.at['a','a2']"
   ]
  },
  {
   "cell_type": "code",
   "execution_count": 23,
   "metadata": {},
   "outputs": [
    {
     "data": {
      "text/plain": [
       "0.18802323031092172"
      ]
     },
     "execution_count": 23,
     "metadata": {},
     "output_type": "execute_result"
    }
   ],
   "source": [
    "df.at['e','a1']"
   ]
  },
  {
   "cell_type": "code",
   "execution_count": 24,
   "metadata": {},
   "outputs": [
    {
     "data": {
      "text/html": [
       "<div>\n",
       "<style scoped>\n",
       "    .dataframe tbody tr th:only-of-type {\n",
       "        vertical-align: middle;\n",
       "    }\n",
       "\n",
       "    .dataframe tbody tr th {\n",
       "        vertical-align: top;\n",
       "    }\n",
       "\n",
       "    .dataframe thead th {\n",
       "        text-align: right;\n",
       "    }\n",
       "</style>\n",
       "<table border=\"1\" class=\"dataframe\">\n",
       "  <thead>\n",
       "    <tr style=\"text-align: right;\">\n",
       "      <th></th>\n",
       "      <th>a1</th>\n",
       "      <th>a2</th>\n",
       "      <th>a3</th>\n",
       "    </tr>\n",
       "  </thead>\n",
       "  <tbody>\n",
       "    <tr>\n",
       "      <th>a</th>\n",
       "      <td>0.369027</td>\n",
       "      <td>H</td>\n",
       "      <td>0.00</td>\n",
       "    </tr>\n",
       "    <tr>\n",
       "      <th>b</th>\n",
       "      <td>0.010378</td>\n",
       "      <td>e</td>\n",
       "      <td>0.25</td>\n",
       "    </tr>\n",
       "    <tr>\n",
       "      <th>c</th>\n",
       "      <td>0.465939</td>\n",
       "      <td>l</td>\n",
       "      <td>0.50</td>\n",
       "    </tr>\n",
       "    <tr>\n",
       "      <th>d</th>\n",
       "      <td>0.842287</td>\n",
       "      <td>l</td>\n",
       "      <td>0.75</td>\n",
       "    </tr>\n",
       "    <tr>\n",
       "      <th>e</th>\n",
       "      <td>0.188023</td>\n",
       "      <td>o</td>\n",
       "      <td>1.00</td>\n",
       "    </tr>\n",
       "  </tbody>\n",
       "</table>\n",
       "</div>"
      ],
      "text/plain": [
       "         a1 a2    a3\n",
       "a  0.369027  H  0.00\n",
       "b  0.010378  e  0.25\n",
       "c  0.465939  l  0.50\n",
       "d  0.842287  l  0.75\n",
       "e  0.188023  o  1.00"
      ]
     },
     "execution_count": 24,
     "metadata": {},
     "output_type": "execute_result"
    }
   ],
   "source": [
    "# Изменение элементов\n",
    "df.at['a','a2'] = 'H'\n",
    "df"
   ]
  },
  {
   "cell_type": "code",
   "execution_count": 25,
   "metadata": {},
   "outputs": [
    {
     "data": {
      "text/plain": [
       "a1    0.188023\n",
       "a2           o\n",
       "a3         1.0\n",
       "Name: e, dtype: object"
      ]
     },
     "execution_count": 25,
     "metadata": {},
     "output_type": "execute_result"
    }
   ],
   "source": [
    "df.loc['e'] # взять целую строчку"
   ]
  },
  {
   "cell_type": "code",
   "execution_count": 26,
   "metadata": {},
   "outputs": [
    {
     "data": {
      "text/html": [
       "<div>\n",
       "<style scoped>\n",
       "    .dataframe tbody tr th:only-of-type {\n",
       "        vertical-align: middle;\n",
       "    }\n",
       "\n",
       "    .dataframe tbody tr th {\n",
       "        vertical-align: top;\n",
       "    }\n",
       "\n",
       "    .dataframe thead th {\n",
       "        text-align: right;\n",
       "    }\n",
       "</style>\n",
       "<table border=\"1\" class=\"dataframe\">\n",
       "  <thead>\n",
       "    <tr style=\"text-align: right;\">\n",
       "      <th></th>\n",
       "      <th>a1</th>\n",
       "      <th>a2</th>\n",
       "      <th>a3</th>\n",
       "    </tr>\n",
       "  </thead>\n",
       "  <tbody>\n",
       "    <tr>\n",
       "      <th>a</th>\n",
       "      <td>0.369027</td>\n",
       "      <td>H</td>\n",
       "      <td>0.00</td>\n",
       "    </tr>\n",
       "    <tr>\n",
       "      <th>b</th>\n",
       "      <td>0.010378</td>\n",
       "      <td>e</td>\n",
       "      <td>0.25</td>\n",
       "    </tr>\n",
       "    <tr>\n",
       "      <th>c</th>\n",
       "      <td>0.465939</td>\n",
       "      <td>l</td>\n",
       "      <td>0.50</td>\n",
       "    </tr>\n",
       "    <tr>\n",
       "      <th>d</th>\n",
       "      <td>0.842287</td>\n",
       "      <td>l</td>\n",
       "      <td>0.75</td>\n",
       "    </tr>\n",
       "    <tr>\n",
       "      <th>e</th>\n",
       "      <td>0.188023</td>\n",
       "      <td>o</td>\n",
       "      <td>1.00</td>\n",
       "    </tr>\n",
       "    <tr>\n",
       "      <th>f</th>\n",
       "      <td>777.000000</td>\n",
       "      <td>Z</td>\n",
       "      <td>2.00</td>\n",
       "    </tr>\n",
       "  </tbody>\n",
       "</table>\n",
       "</div>"
      ],
      "text/plain": [
       "           a1 a2    a3\n",
       "a    0.369027  H  0.00\n",
       "b    0.010378  e  0.25\n",
       "c    0.465939  l  0.50\n",
       "d    0.842287  l  0.75\n",
       "e    0.188023  o  1.00\n",
       "f  777.000000  Z  2.00"
      ]
     },
     "execution_count": 26,
     "metadata": {},
     "output_type": "execute_result"
    }
   ],
   "source": [
    "df.loc['f'] = [777, 'Z', 2]  # можно добавить значение\n",
    "df"
   ]
  },
  {
   "cell_type": "markdown",
   "metadata": {},
   "source": [
    "### Удаление пропусков данных\n",
    "\n",
    "https://pandas.pydata.org/pandas-docs/stable/missing_data.html - тысяча и один способ убрать, добавить, интерполировать, заполнять пропущенные значения."
   ]
  },
  {
   "cell_type": "code",
   "execution_count": 27,
   "metadata": {},
   "outputs": [
    {
     "data": {
      "text/html": [
       "<div>\n",
       "<style scoped>\n",
       "    .dataframe tbody tr th:only-of-type {\n",
       "        vertical-align: middle;\n",
       "    }\n",
       "\n",
       "    .dataframe tbody tr th {\n",
       "        vertical-align: top;\n",
       "    }\n",
       "\n",
       "    .dataframe thead th {\n",
       "        text-align: right;\n",
       "    }\n",
       "</style>\n",
       "<table border=\"1\" class=\"dataframe\">\n",
       "  <thead>\n",
       "    <tr style=\"text-align: right;\">\n",
       "      <th></th>\n",
       "      <th>a1</th>\n",
       "      <th>a2</th>\n",
       "      <th>a3</th>\n",
       "    </tr>\n",
       "  </thead>\n",
       "  <tbody>\n",
       "    <tr>\n",
       "      <th>a</th>\n",
       "      <td>0.369027</td>\n",
       "      <td>H</td>\n",
       "      <td>0.00</td>\n",
       "    </tr>\n",
       "    <tr>\n",
       "      <th>b</th>\n",
       "      <td>NaN</td>\n",
       "      <td>e</td>\n",
       "      <td>0.25</td>\n",
       "    </tr>\n",
       "    <tr>\n",
       "      <th>c</th>\n",
       "      <td>0.465939</td>\n",
       "      <td>l</td>\n",
       "      <td>0.50</td>\n",
       "    </tr>\n",
       "    <tr>\n",
       "      <th>d</th>\n",
       "      <td>0.842287</td>\n",
       "      <td>l</td>\n",
       "      <td>0.75</td>\n",
       "    </tr>\n",
       "    <tr>\n",
       "      <th>e</th>\n",
       "      <td>0.188023</td>\n",
       "      <td>o</td>\n",
       "      <td>NaN</td>\n",
       "    </tr>\n",
       "    <tr>\n",
       "      <th>f</th>\n",
       "      <td>777.000000</td>\n",
       "      <td>Z</td>\n",
       "      <td>2.00</td>\n",
       "    </tr>\n",
       "  </tbody>\n",
       "</table>\n",
       "</div>"
      ],
      "text/plain": [
       "           a1 a2    a3\n",
       "a    0.369027  H  0.00\n",
       "b         NaN  e  0.25\n",
       "c    0.465939  l  0.50\n",
       "d    0.842287  l  0.75\n",
       "e    0.188023  o   NaN\n",
       "f  777.000000  Z  2.00"
      ]
     },
     "execution_count": 27,
     "metadata": {},
     "output_type": "execute_result"
    }
   ],
   "source": [
    "# nan- это пропущенные значения\n",
    "df.at['b', 'a1'] = np.nan\n",
    "df.at['e', 'a3'] = np.nan\n",
    "df"
   ]
  },
  {
   "cell_type": "code",
   "execution_count": 28,
   "metadata": {},
   "outputs": [
    {
     "data": {
      "text/html": [
       "<div>\n",
       "<style scoped>\n",
       "    .dataframe tbody tr th:only-of-type {\n",
       "        vertical-align: middle;\n",
       "    }\n",
       "\n",
       "    .dataframe tbody tr th {\n",
       "        vertical-align: top;\n",
       "    }\n",
       "\n",
       "    .dataframe thead th {\n",
       "        text-align: right;\n",
       "    }\n",
       "</style>\n",
       "<table border=\"1\" class=\"dataframe\">\n",
       "  <thead>\n",
       "    <tr style=\"text-align: right;\">\n",
       "      <th></th>\n",
       "      <th>a1</th>\n",
       "      <th>a2</th>\n",
       "      <th>a3</th>\n",
       "    </tr>\n",
       "  </thead>\n",
       "  <tbody>\n",
       "    <tr>\n",
       "      <th>a</th>\n",
       "      <td>False</td>\n",
       "      <td>False</td>\n",
       "      <td>False</td>\n",
       "    </tr>\n",
       "    <tr>\n",
       "      <th>b</th>\n",
       "      <td>True</td>\n",
       "      <td>False</td>\n",
       "      <td>False</td>\n",
       "    </tr>\n",
       "    <tr>\n",
       "      <th>c</th>\n",
       "      <td>False</td>\n",
       "      <td>False</td>\n",
       "      <td>False</td>\n",
       "    </tr>\n",
       "    <tr>\n",
       "      <th>d</th>\n",
       "      <td>False</td>\n",
       "      <td>False</td>\n",
       "      <td>False</td>\n",
       "    </tr>\n",
       "    <tr>\n",
       "      <th>e</th>\n",
       "      <td>False</td>\n",
       "      <td>False</td>\n",
       "      <td>True</td>\n",
       "    </tr>\n",
       "    <tr>\n",
       "      <th>f</th>\n",
       "      <td>False</td>\n",
       "      <td>False</td>\n",
       "      <td>False</td>\n",
       "    </tr>\n",
       "  </tbody>\n",
       "</table>\n",
       "</div>"
      ],
      "text/plain": [
       "      a1     a2     a3\n",
       "a  False  False  False\n",
       "b   True  False  False\n",
       "c  False  False  False\n",
       "d  False  False  False\n",
       "e  False  False   True\n",
       "f  False  False  False"
      ]
     },
     "execution_count": 28,
     "metadata": {},
     "output_type": "execute_result"
    }
   ],
   "source": [
    "pd.isnull(df) # вернем датафрейс-маску"
   ]
  },
  {
   "cell_type": "code",
   "execution_count": 29,
   "metadata": {},
   "outputs": [
    {
     "data": {
      "text/html": [
       "<div>\n",
       "<style scoped>\n",
       "    .dataframe tbody tr th:only-of-type {\n",
       "        vertical-align: middle;\n",
       "    }\n",
       "\n",
       "    .dataframe tbody tr th {\n",
       "        vertical-align: top;\n",
       "    }\n",
       "\n",
       "    .dataframe thead th {\n",
       "        text-align: right;\n",
       "    }\n",
       "</style>\n",
       "<table border=\"1\" class=\"dataframe\">\n",
       "  <thead>\n",
       "    <tr style=\"text-align: right;\">\n",
       "      <th></th>\n",
       "      <th>a1</th>\n",
       "      <th>a2</th>\n",
       "      <th>a3</th>\n",
       "    </tr>\n",
       "  </thead>\n",
       "  <tbody>\n",
       "    <tr>\n",
       "      <th>a</th>\n",
       "      <td>0.369027</td>\n",
       "      <td>H</td>\n",
       "      <td>0.00</td>\n",
       "    </tr>\n",
       "    <tr>\n",
       "      <th>c</th>\n",
       "      <td>0.465939</td>\n",
       "      <td>l</td>\n",
       "      <td>0.50</td>\n",
       "    </tr>\n",
       "    <tr>\n",
       "      <th>d</th>\n",
       "      <td>0.842287</td>\n",
       "      <td>l</td>\n",
       "      <td>0.75</td>\n",
       "    </tr>\n",
       "    <tr>\n",
       "      <th>f</th>\n",
       "      <td>777.000000</td>\n",
       "      <td>Z</td>\n",
       "      <td>2.00</td>\n",
       "    </tr>\n",
       "  </tbody>\n",
       "</table>\n",
       "</div>"
      ],
      "text/plain": [
       "           a1 a2    a3\n",
       "a    0.369027  H  0.00\n",
       "c    0.465939  l  0.50\n",
       "d    0.842287  l  0.75\n",
       "f  777.000000  Z  2.00"
      ]
     },
     "execution_count": 29,
     "metadata": {},
     "output_type": "execute_result"
    }
   ],
   "source": [
    "df.dropna() # можно просто удалить пропущенные данные"
   ]
  },
  {
   "cell_type": "code",
   "execution_count": 30,
   "metadata": {},
   "outputs": [
    {
     "data": {
      "text/html": [
       "<div>\n",
       "<style scoped>\n",
       "    .dataframe tbody tr th:only-of-type {\n",
       "        vertical-align: middle;\n",
       "    }\n",
       "\n",
       "    .dataframe tbody tr th {\n",
       "        vertical-align: top;\n",
       "    }\n",
       "\n",
       "    .dataframe thead th {\n",
       "        text-align: right;\n",
       "    }\n",
       "</style>\n",
       "<table border=\"1\" class=\"dataframe\">\n",
       "  <thead>\n",
       "    <tr style=\"text-align: right;\">\n",
       "      <th></th>\n",
       "      <th>a1</th>\n",
       "      <th>a2</th>\n",
       "      <th>a3</th>\n",
       "    </tr>\n",
       "  </thead>\n",
       "  <tbody>\n",
       "    <tr>\n",
       "      <th>a</th>\n",
       "      <td>0.369027</td>\n",
       "      <td>H</td>\n",
       "      <td>0.00</td>\n",
       "    </tr>\n",
       "    <tr>\n",
       "      <th>b</th>\n",
       "      <td>9000.000000</td>\n",
       "      <td>e</td>\n",
       "      <td>0.25</td>\n",
       "    </tr>\n",
       "    <tr>\n",
       "      <th>c</th>\n",
       "      <td>0.465939</td>\n",
       "      <td>l</td>\n",
       "      <td>0.50</td>\n",
       "    </tr>\n",
       "    <tr>\n",
       "      <th>d</th>\n",
       "      <td>0.842287</td>\n",
       "      <td>l</td>\n",
       "      <td>0.75</td>\n",
       "    </tr>\n",
       "    <tr>\n",
       "      <th>e</th>\n",
       "      <td>0.188023</td>\n",
       "      <td>o</td>\n",
       "      <td>9000.00</td>\n",
       "    </tr>\n",
       "    <tr>\n",
       "      <th>f</th>\n",
       "      <td>777.000000</td>\n",
       "      <td>Z</td>\n",
       "      <td>2.00</td>\n",
       "    </tr>\n",
       "  </tbody>\n",
       "</table>\n",
       "</div>"
      ],
      "text/plain": [
       "            a1 a2       a3\n",
       "a     0.369027  H     0.00\n",
       "b  9000.000000  e     0.25\n",
       "c     0.465939  l     0.50\n",
       "d     0.842287  l     0.75\n",
       "e     0.188023  o  9000.00\n",
       "f   777.000000  Z     2.00"
      ]
     },
     "execution_count": 30,
     "metadata": {},
     "output_type": "execute_result"
    }
   ],
   "source": [
    "df.fillna(9000)  # или заполнить определенным числом"
   ]
  },
  {
   "cell_type": "markdown",
   "metadata": {},
   "source": [
    "## Чтение данных из файла\n",
    "\n",
    "Одна из основных фич pandas - это парсинг файлов разных форматов.\n",
    "\n",
    "Мы с вами рассмотрим на примере датасета `beauty.csv` (Hamermesh, D. S., and J. E. Biddle (1994), Beauty and the Labor Market, Amerian Eonomi Review 84, 1174-1194) то, как\n",
    "- прочитать файл в pandas\n",
    "- смотреть на данные\n",
    "- визуализировать данные"
   ]
  },
  {
   "cell_type": "code",
   "execution_count": 31,
   "metadata": {},
   "outputs": [],
   "source": [
    "df = pd.read_csv('data/beauty.csv', sep=';') # можно указать разделитель, в нашем случае это ;"
   ]
  },
  {
   "cell_type": "markdown",
   "metadata": {},
   "source": [
    "Первое что надо сделать - это посмотреть сколько данных у нас есть, какого они типа, какие колонки есть и что они могут значить."
   ]
  },
  {
   "cell_type": "code",
   "execution_count": 32,
   "metadata": {},
   "outputs": [
    {
     "data": {
      "text/plain": [
       "(1260, 10)"
      ]
     },
     "execution_count": 32,
     "metadata": {},
     "output_type": "execute_result"
    }
   ],
   "source": [
    "df.shape"
   ]
  },
  {
   "cell_type": "code",
   "execution_count": 33,
   "metadata": {},
   "outputs": [
    {
     "data": {
      "text/plain": [
       "array(['wage', 'exper', 'union', 'goodhlth', 'black', 'female', 'married',\n",
       "       'service', 'educ', 'looks'], dtype=object)"
      ]
     },
     "execution_count": 33,
     "metadata": {},
     "output_type": "execute_result"
    }
   ],
   "source": [
    "df.columns.values # посмотрим как гназываются колонки"
   ]
  },
  {
   "cell_type": "code",
   "execution_count": 34,
   "metadata": {},
   "outputs": [
    {
     "name": "stdout",
     "output_type": "stream",
     "text": [
      "<class 'pandas.core.frame.DataFrame'>\n",
      "RangeIndex: 1260 entries, 0 to 1259\n",
      "Data columns (total 10 columns):\n",
      " #   Column    Non-Null Count  Dtype  \n",
      "---  ------    --------------  -----  \n",
      " 0   wage      1260 non-null   float64\n",
      " 1   exper     1260 non-null   int64  \n",
      " 2   union     1260 non-null   int64  \n",
      " 3   goodhlth  1260 non-null   int64  \n",
      " 4   black     1260 non-null   int64  \n",
      " 5   female    1260 non-null   int64  \n",
      " 6   married   1260 non-null   int64  \n",
      " 7   service   1260 non-null   int64  \n",
      " 8   educ      1260 non-null   int64  \n",
      " 9   looks     1260 non-null   int64  \n",
      "dtypes: float64(1), int64(9)\n",
      "memory usage: 98.6 KB\n"
     ]
    }
   ],
   "source": [
    "df.info() # информация по дата фрейму"
   ]
  },
  {
   "cell_type": "code",
   "execution_count": 35,
   "metadata": {},
   "outputs": [
    {
     "data": {
      "text/html": [
       "<div>\n",
       "<style scoped>\n",
       "    .dataframe tbody tr th:only-of-type {\n",
       "        vertical-align: middle;\n",
       "    }\n",
       "\n",
       "    .dataframe tbody tr th {\n",
       "        vertical-align: top;\n",
       "    }\n",
       "\n",
       "    .dataframe thead th {\n",
       "        text-align: right;\n",
       "    }\n",
       "</style>\n",
       "<table border=\"1\" class=\"dataframe\">\n",
       "  <thead>\n",
       "    <tr style=\"text-align: right;\">\n",
       "      <th></th>\n",
       "      <th>wage</th>\n",
       "      <th>exper</th>\n",
       "      <th>union</th>\n",
       "      <th>goodhlth</th>\n",
       "      <th>black</th>\n",
       "      <th>female</th>\n",
       "      <th>married</th>\n",
       "      <th>service</th>\n",
       "      <th>educ</th>\n",
       "      <th>looks</th>\n",
       "    </tr>\n",
       "  </thead>\n",
       "  <tbody>\n",
       "    <tr>\n",
       "      <th>0</th>\n",
       "      <td>5.73</td>\n",
       "      <td>30</td>\n",
       "      <td>0</td>\n",
       "      <td>1</td>\n",
       "      <td>0</td>\n",
       "      <td>1</td>\n",
       "      <td>1</td>\n",
       "      <td>1</td>\n",
       "      <td>14</td>\n",
       "      <td>4</td>\n",
       "    </tr>\n",
       "    <tr>\n",
       "      <th>1</th>\n",
       "      <td>4.28</td>\n",
       "      <td>28</td>\n",
       "      <td>0</td>\n",
       "      <td>1</td>\n",
       "      <td>0</td>\n",
       "      <td>1</td>\n",
       "      <td>1</td>\n",
       "      <td>0</td>\n",
       "      <td>12</td>\n",
       "      <td>3</td>\n",
       "    </tr>\n",
       "    <tr>\n",
       "      <th>2</th>\n",
       "      <td>7.96</td>\n",
       "      <td>35</td>\n",
       "      <td>0</td>\n",
       "      <td>1</td>\n",
       "      <td>0</td>\n",
       "      <td>1</td>\n",
       "      <td>0</td>\n",
       "      <td>0</td>\n",
       "      <td>10</td>\n",
       "      <td>4</td>\n",
       "    </tr>\n",
       "    <tr>\n",
       "      <th>3</th>\n",
       "      <td>11.57</td>\n",
       "      <td>38</td>\n",
       "      <td>0</td>\n",
       "      <td>1</td>\n",
       "      <td>0</td>\n",
       "      <td>0</td>\n",
       "      <td>1</td>\n",
       "      <td>1</td>\n",
       "      <td>16</td>\n",
       "      <td>3</td>\n",
       "    </tr>\n",
       "    <tr>\n",
       "      <th>4</th>\n",
       "      <td>11.42</td>\n",
       "      <td>27</td>\n",
       "      <td>0</td>\n",
       "      <td>1</td>\n",
       "      <td>0</td>\n",
       "      <td>0</td>\n",
       "      <td>1</td>\n",
       "      <td>0</td>\n",
       "      <td>16</td>\n",
       "      <td>3</td>\n",
       "    </tr>\n",
       "  </tbody>\n",
       "</table>\n",
       "</div>"
      ],
      "text/plain": [
       "    wage  exper  union  goodhlth  black  female  married  service  educ  looks\n",
       "0   5.73     30      0         1      0       1        1        1    14      4\n",
       "1   4.28     28      0         1      0       1        1        0    12      3\n",
       "2   7.96     35      0         1      0       1        0        0    10      4\n",
       "3  11.57     38      0         1      0       0        1        1    16      3\n",
       "4  11.42     27      0         1      0       0        1        0    16      3"
      ]
     },
     "execution_count": 35,
     "metadata": {},
     "output_type": "execute_result"
    }
   ],
   "source": [
    "df.head()"
   ]
  },
  {
   "cell_type": "markdown",
   "metadata": {},
   "source": [
    "#### Про что даные?\n",
    "\n",
    "*Влияние внешней привлекательности на уровень заработка*\n",
    "\n",
    "- wage - заработная плата за час работы, доллар\n",
    "- exper - опыт работы, лет\n",
    "- union - членство в профсоюзе, состоинт/ не состоит\n",
    "- goodhlth - состояние здоровья, хорошее/плохое\n",
    "- black - цвет кожи, черный/белый\n",
    "- female - пол, женщина/мужчина\n",
    "- married - семейное положение\n",
    "- service - занятость в сфере обслуживание, да/нет\n",
    "- educ - образование, лет\n",
    "- looks - привлекательность, в баллах от 1 до 5"
   ]
  },
  {
   "cell_type": "markdown",
   "metadata": {},
   "source": [
    "Метод `describe` показывает основные статистические характеристики данных по каждому признаку: \n",
    "- число непропущенных значений\n",
    "- среднее\n",
    "- стандартное отклонение\n",
    "- диапазон\n",
    "- медиану\n",
    "- квантили 0.25 и 0.75.\n",
    "- максимум/минимум"
   ]
  },
  {
   "cell_type": "code",
   "execution_count": 36,
   "metadata": {},
   "outputs": [
    {
     "data": {
      "text/html": [
       "<div>\n",
       "<style scoped>\n",
       "    .dataframe tbody tr th:only-of-type {\n",
       "        vertical-align: middle;\n",
       "    }\n",
       "\n",
       "    .dataframe tbody tr th {\n",
       "        vertical-align: top;\n",
       "    }\n",
       "\n",
       "    .dataframe thead th {\n",
       "        text-align: right;\n",
       "    }\n",
       "</style>\n",
       "<table border=\"1\" class=\"dataframe\">\n",
       "  <thead>\n",
       "    <tr style=\"text-align: right;\">\n",
       "      <th></th>\n",
       "      <th>wage</th>\n",
       "      <th>exper</th>\n",
       "      <th>union</th>\n",
       "      <th>goodhlth</th>\n",
       "      <th>black</th>\n",
       "      <th>female</th>\n",
       "      <th>married</th>\n",
       "      <th>service</th>\n",
       "      <th>educ</th>\n",
       "      <th>looks</th>\n",
       "    </tr>\n",
       "  </thead>\n",
       "  <tbody>\n",
       "    <tr>\n",
       "      <th>count</th>\n",
       "      <td>1260.000000</td>\n",
       "      <td>1260.000000</td>\n",
       "      <td>1260.000000</td>\n",
       "      <td>1260.000000</td>\n",
       "      <td>1260.000000</td>\n",
       "      <td>1260.000000</td>\n",
       "      <td>1260.000000</td>\n",
       "      <td>1260.000000</td>\n",
       "      <td>1260.000000</td>\n",
       "      <td>1260.000000</td>\n",
       "    </tr>\n",
       "    <tr>\n",
       "      <th>mean</th>\n",
       "      <td>6.306690</td>\n",
       "      <td>18.206349</td>\n",
       "      <td>0.272222</td>\n",
       "      <td>0.933333</td>\n",
       "      <td>0.073810</td>\n",
       "      <td>0.346032</td>\n",
       "      <td>0.691270</td>\n",
       "      <td>0.273810</td>\n",
       "      <td>12.563492</td>\n",
       "      <td>3.185714</td>\n",
       "    </tr>\n",
       "    <tr>\n",
       "      <th>std</th>\n",
       "      <td>4.660639</td>\n",
       "      <td>11.963485</td>\n",
       "      <td>0.445280</td>\n",
       "      <td>0.249543</td>\n",
       "      <td>0.261564</td>\n",
       "      <td>0.475892</td>\n",
       "      <td>0.462153</td>\n",
       "      <td>0.446089</td>\n",
       "      <td>2.624489</td>\n",
       "      <td>0.684877</td>\n",
       "    </tr>\n",
       "    <tr>\n",
       "      <th>min</th>\n",
       "      <td>1.020000</td>\n",
       "      <td>0.000000</td>\n",
       "      <td>0.000000</td>\n",
       "      <td>0.000000</td>\n",
       "      <td>0.000000</td>\n",
       "      <td>0.000000</td>\n",
       "      <td>0.000000</td>\n",
       "      <td>0.000000</td>\n",
       "      <td>5.000000</td>\n",
       "      <td>1.000000</td>\n",
       "    </tr>\n",
       "    <tr>\n",
       "      <th>25%</th>\n",
       "      <td>3.707500</td>\n",
       "      <td>8.000000</td>\n",
       "      <td>0.000000</td>\n",
       "      <td>1.000000</td>\n",
       "      <td>0.000000</td>\n",
       "      <td>0.000000</td>\n",
       "      <td>0.000000</td>\n",
       "      <td>0.000000</td>\n",
       "      <td>12.000000</td>\n",
       "      <td>3.000000</td>\n",
       "    </tr>\n",
       "    <tr>\n",
       "      <th>50%</th>\n",
       "      <td>5.300000</td>\n",
       "      <td>15.000000</td>\n",
       "      <td>0.000000</td>\n",
       "      <td>1.000000</td>\n",
       "      <td>0.000000</td>\n",
       "      <td>0.000000</td>\n",
       "      <td>1.000000</td>\n",
       "      <td>0.000000</td>\n",
       "      <td>12.000000</td>\n",
       "      <td>3.000000</td>\n",
       "    </tr>\n",
       "    <tr>\n",
       "      <th>75%</th>\n",
       "      <td>7.695000</td>\n",
       "      <td>27.000000</td>\n",
       "      <td>1.000000</td>\n",
       "      <td>1.000000</td>\n",
       "      <td>0.000000</td>\n",
       "      <td>1.000000</td>\n",
       "      <td>1.000000</td>\n",
       "      <td>1.000000</td>\n",
       "      <td>13.000000</td>\n",
       "      <td>4.000000</td>\n",
       "    </tr>\n",
       "    <tr>\n",
       "      <th>max</th>\n",
       "      <td>77.720000</td>\n",
       "      <td>48.000000</td>\n",
       "      <td>1.000000</td>\n",
       "      <td>1.000000</td>\n",
       "      <td>1.000000</td>\n",
       "      <td>1.000000</td>\n",
       "      <td>1.000000</td>\n",
       "      <td>1.000000</td>\n",
       "      <td>17.000000</td>\n",
       "      <td>5.000000</td>\n",
       "    </tr>\n",
       "  </tbody>\n",
       "</table>\n",
       "</div>"
      ],
      "text/plain": [
       "              wage        exper        union     goodhlth        black  \\\n",
       "count  1260.000000  1260.000000  1260.000000  1260.000000  1260.000000   \n",
       "mean      6.306690    18.206349     0.272222     0.933333     0.073810   \n",
       "std       4.660639    11.963485     0.445280     0.249543     0.261564   \n",
       "min       1.020000     0.000000     0.000000     0.000000     0.000000   \n",
       "25%       3.707500     8.000000     0.000000     1.000000     0.000000   \n",
       "50%       5.300000    15.000000     0.000000     1.000000     0.000000   \n",
       "75%       7.695000    27.000000     1.000000     1.000000     0.000000   \n",
       "max      77.720000    48.000000     1.000000     1.000000     1.000000   \n",
       "\n",
       "            female      married      service         educ        looks  \n",
       "count  1260.000000  1260.000000  1260.000000  1260.000000  1260.000000  \n",
       "mean      0.346032     0.691270     0.273810    12.563492     3.185714  \n",
       "std       0.475892     0.462153     0.446089     2.624489     0.684877  \n",
       "min       0.000000     0.000000     0.000000     5.000000     1.000000  \n",
       "25%       0.000000     0.000000     0.000000    12.000000     3.000000  \n",
       "50%       0.000000     1.000000     0.000000    12.000000     3.000000  \n",
       "75%       1.000000     1.000000     1.000000    13.000000     4.000000  \n",
       "max       1.000000     1.000000     1.000000    17.000000     5.000000  "
      ]
     },
     "execution_count": 36,
     "metadata": {},
     "output_type": "execute_result"
    }
   ],
   "source": [
    "# Вычисляет все статичтики по числовым признакам в таблице и выводи отчет\n",
    "df.describe()"
   ]
  },
  {
   "cell_type": "markdown",
   "metadata": {},
   "source": [
    "Можем упорядочить таблицу по колонкам с помощью методы `sort_values`."
   ]
  },
  {
   "cell_type": "code",
   "execution_count": 37,
   "metadata": {},
   "outputs": [
    {
     "data": {
      "text/html": [
       "<div>\n",
       "<style scoped>\n",
       "    .dataframe tbody tr th:only-of-type {\n",
       "        vertical-align: middle;\n",
       "    }\n",
       "\n",
       "    .dataframe tbody tr th {\n",
       "        vertical-align: top;\n",
       "    }\n",
       "\n",
       "    .dataframe thead th {\n",
       "        text-align: right;\n",
       "    }\n",
       "</style>\n",
       "<table border=\"1\" class=\"dataframe\">\n",
       "  <thead>\n",
       "    <tr style=\"text-align: right;\">\n",
       "      <th></th>\n",
       "      <th>wage</th>\n",
       "      <th>exper</th>\n",
       "      <th>union</th>\n",
       "      <th>goodhlth</th>\n",
       "      <th>black</th>\n",
       "      <th>female</th>\n",
       "      <th>married</th>\n",
       "      <th>service</th>\n",
       "      <th>educ</th>\n",
       "      <th>looks</th>\n",
       "    </tr>\n",
       "  </thead>\n",
       "  <tbody>\n",
       "    <tr>\n",
       "      <th>602</th>\n",
       "      <td>77.72</td>\n",
       "      <td>9</td>\n",
       "      <td>1</td>\n",
       "      <td>1</td>\n",
       "      <td>1</td>\n",
       "      <td>1</td>\n",
       "      <td>1</td>\n",
       "      <td>1</td>\n",
       "      <td>13</td>\n",
       "      <td>4</td>\n",
       "    </tr>\n",
       "    <tr>\n",
       "      <th>269</th>\n",
       "      <td>41.67</td>\n",
       "      <td>16</td>\n",
       "      <td>0</td>\n",
       "      <td>0</td>\n",
       "      <td>0</td>\n",
       "      <td>0</td>\n",
       "      <td>1</td>\n",
       "      <td>0</td>\n",
       "      <td>13</td>\n",
       "      <td>4</td>\n",
       "    </tr>\n",
       "    <tr>\n",
       "      <th>415</th>\n",
       "      <td>38.86</td>\n",
       "      <td>29</td>\n",
       "      <td>0</td>\n",
       "      <td>1</td>\n",
       "      <td>0</td>\n",
       "      <td>0</td>\n",
       "      <td>1</td>\n",
       "      <td>0</td>\n",
       "      <td>13</td>\n",
       "      <td>3</td>\n",
       "    </tr>\n",
       "    <tr>\n",
       "      <th>69</th>\n",
       "      <td>32.79</td>\n",
       "      <td>33</td>\n",
       "      <td>0</td>\n",
       "      <td>1</td>\n",
       "      <td>0</td>\n",
       "      <td>0</td>\n",
       "      <td>1</td>\n",
       "      <td>1</td>\n",
       "      <td>16</td>\n",
       "      <td>4</td>\n",
       "    </tr>\n",
       "    <tr>\n",
       "      <th>290</th>\n",
       "      <td>31.09</td>\n",
       "      <td>32</td>\n",
       "      <td>0</td>\n",
       "      <td>0</td>\n",
       "      <td>0</td>\n",
       "      <td>0</td>\n",
       "      <td>1</td>\n",
       "      <td>0</td>\n",
       "      <td>13</td>\n",
       "      <td>3</td>\n",
       "    </tr>\n",
       "  </tbody>\n",
       "</table>\n",
       "</div>"
      ],
      "text/plain": [
       "      wage  exper  union  goodhlth  black  female  married  service  educ  \\\n",
       "602  77.72      9      1         1      1       1        1        1    13   \n",
       "269  41.67     16      0         0      0       0        1        0    13   \n",
       "415  38.86     29      0         1      0       0        1        0    13   \n",
       "69   32.79     33      0         1      0       0        1        1    16   \n",
       "290  31.09     32      0         0      0       0        1        0    13   \n",
       "\n",
       "     looks  \n",
       "602      4  \n",
       "269      4  \n",
       "415      3  \n",
       "69       4  \n",
       "290      3  "
      ]
     },
     "execution_count": 37,
     "metadata": {},
     "output_type": "execute_result"
    }
   ],
   "source": [
    "# Упорядочим по зарплате, но если они равны, то по уровню образования\n",
    "df.sort_values(by=['wage', 'educ'], ascending=False).head()"
   ]
  },
  {
   "cell_type": "code",
   "execution_count": 38,
   "metadata": {},
   "outputs": [
    {
     "data": {
      "text/html": [
       "<div>\n",
       "<style scoped>\n",
       "    .dataframe tbody tr th:only-of-type {\n",
       "        vertical-align: middle;\n",
       "    }\n",
       "\n",
       "    .dataframe tbody tr th {\n",
       "        vertical-align: top;\n",
       "    }\n",
       "\n",
       "    .dataframe thead th {\n",
       "        text-align: right;\n",
       "    }\n",
       "</style>\n",
       "<table border=\"1\" class=\"dataframe\">\n",
       "  <thead>\n",
       "    <tr style=\"text-align: right;\">\n",
       "      <th></th>\n",
       "      <th>wage</th>\n",
       "      <th>exper</th>\n",
       "      <th>union</th>\n",
       "      <th>goodhlth</th>\n",
       "      <th>black</th>\n",
       "      <th>female</th>\n",
       "      <th>married</th>\n",
       "      <th>service</th>\n",
       "      <th>educ</th>\n",
       "      <th>looks</th>\n",
       "    </tr>\n",
       "  </thead>\n",
       "  <tbody>\n",
       "    <tr>\n",
       "      <th>323</th>\n",
       "      <td>6.41</td>\n",
       "      <td>48</td>\n",
       "      <td>0</td>\n",
       "      <td>1</td>\n",
       "      <td>0</td>\n",
       "      <td>0</td>\n",
       "      <td>1</td>\n",
       "      <td>0</td>\n",
       "      <td>8</td>\n",
       "      <td>3</td>\n",
       "    </tr>\n",
       "    <tr>\n",
       "      <th>595</th>\n",
       "      <td>8.46</td>\n",
       "      <td>48</td>\n",
       "      <td>0</td>\n",
       "      <td>1</td>\n",
       "      <td>0</td>\n",
       "      <td>0</td>\n",
       "      <td>1</td>\n",
       "      <td>0</td>\n",
       "      <td>13</td>\n",
       "      <td>3</td>\n",
       "    </tr>\n",
       "    <tr>\n",
       "      <th>1094</th>\n",
       "      <td>3.82</td>\n",
       "      <td>47</td>\n",
       "      <td>0</td>\n",
       "      <td>1</td>\n",
       "      <td>0</td>\n",
       "      <td>0</td>\n",
       "      <td>0</td>\n",
       "      <td>0</td>\n",
       "      <td>12</td>\n",
       "      <td>3</td>\n",
       "    </tr>\n",
       "    <tr>\n",
       "      <th>831</th>\n",
       "      <td>5.73</td>\n",
       "      <td>47</td>\n",
       "      <td>0</td>\n",
       "      <td>1</td>\n",
       "      <td>0</td>\n",
       "      <td>0</td>\n",
       "      <td>1</td>\n",
       "      <td>0</td>\n",
       "      <td>10</td>\n",
       "      <td>3</td>\n",
       "    </tr>\n",
       "    <tr>\n",
       "      <th>1122</th>\n",
       "      <td>6.25</td>\n",
       "      <td>47</td>\n",
       "      <td>0</td>\n",
       "      <td>0</td>\n",
       "      <td>1</td>\n",
       "      <td>1</td>\n",
       "      <td>1</td>\n",
       "      <td>0</td>\n",
       "      <td>5</td>\n",
       "      <td>4</td>\n",
       "    </tr>\n",
       "  </tbody>\n",
       "</table>\n",
       "</div>"
      ],
      "text/plain": [
       "      wage  exper  union  goodhlth  black  female  married  service  educ  \\\n",
       "323   6.41     48      0         1      0       0        1        0     8   \n",
       "595   8.46     48      0         1      0       0        1        0    13   \n",
       "1094  3.82     47      0         1      0       0        0        0    12   \n",
       "831   5.73     47      0         1      0       0        1        0    10   \n",
       "1122  6.25     47      0         0      1       1        1        0     5   \n",
       "\n",
       "      looks  \n",
       "323       3  \n",
       "595       3  \n",
       "1094      3  \n",
       "831       3  \n",
       "1122      4  "
      ]
     },
     "execution_count": 38,
     "metadata": {},
     "output_type": "execute_result"
    }
   ],
   "source": [
    "# можно задавать отдельно для каждой оси сортировки разные направления\n",
    "df.sort_values(by=['exper', 'wage'], ascending=[False, True]).head()"
   ]
  },
  {
   "cell_type": "markdown",
   "metadata": {},
   "source": [
    "Используя индексацию по колонкам, можно вычислять любые статистики с помощью методов numpy.\n",
    "\n",
    "Например медиана заработной платы и среднее значение."
   ]
  },
  {
   "cell_type": "code",
   "execution_count": 39,
   "metadata": {},
   "outputs": [
    {
     "data": {
      "text/plain": [
       "5.3"
      ]
     },
     "execution_count": 39,
     "metadata": {},
     "output_type": "execute_result"
    }
   ],
   "source": [
    "np.median(df['wage'])"
   ]
  },
  {
   "cell_type": "code",
   "execution_count": 40,
   "metadata": {},
   "outputs": [
    {
     "data": {
      "text/plain": [
       "6.306690476190475"
      ]
     },
     "execution_count": 40,
     "metadata": {},
     "output_type": "execute_result"
    }
   ],
   "source": [
    "# или встроенные в pandas\n",
    "df['wage'].mean()"
   ]
  },
  {
   "cell_type": "markdown",
   "metadata": {},
   "source": [
    "Посчитаем долю людей работающих в сервисе"
   ]
  },
  {
   "cell_type": "code",
   "execution_count": 41,
   "metadata": {},
   "outputs": [
    {
     "data": {
      "text/plain": [
       "0.27380952380952384"
      ]
     },
     "execution_count": 41,
     "metadata": {},
     "output_type": "execute_result"
    }
   ],
   "source": [
    "df['service'].mean()"
   ]
  },
  {
   "cell_type": "markdown",
   "metadata": {},
   "source": [
    "Средняя зарплата среди женщин и мужчин"
   ]
  },
  {
   "cell_type": "code",
   "execution_count": 42,
   "metadata": {},
   "outputs": [
    {
     "name": "stdout",
     "output_type": "stream",
     "text": [
      "Female avg wage: 4.299357798165137\n",
      "Male avg wage: 7.3688228155339806\n"
     ]
    }
   ],
   "source": [
    "print(\"Female avg wage: {}\\nMale avg wage: {}\".format(\n",
    "    df[df['female'] == 1]['wage'].mean(),\n",
    "    df[df['female'] == 0]['wage'].mean()\n",
    "))"
   ]
  },
  {
   "cell_type": "code",
   "execution_count": 43,
   "metadata": {},
   "outputs": [
    {
     "name": "stdout",
     "output_type": "stream",
     "text": [
      "Service avg wage: 5.899623188405796\n",
      "NotService avg wage: 6.460174863387977\n"
     ]
    }
   ],
   "source": [
    "print(\"Service avg wage: {}\\nNotService avg wage: {}\".format(\n",
    "    df[df['service'] == 1]['wage'].mean(),\n",
    "    df[df['service'] == 0]['wage'].mean()\n",
    "))"
   ]
  },
  {
   "cell_type": "markdown",
   "metadata": {},
   "source": [
    "Можно считать статистики целиком по всем колонкам. Можем сделать сложную логическую подвыборку и посмотреь разницу. Например, как отличаются средние показатели и зумужних и незамужних женщин."
   ]
  },
  {
   "cell_type": "code",
   "execution_count": 44,
   "metadata": {},
   "outputs": [
    {
     "data": {
      "text/plain": [
       "wage        -4.298879\n",
       "exper      -13.878924\n",
       "union       -0.197309\n",
       "goodhlth    -0.928251\n",
       "black       -0.139013\n",
       "female      -1.000000\n",
       "married     -0.000000\n",
       "service     -0.448430\n",
       "educ       -12.753363\n",
       "looks       -3.269058\n",
       "dtype: float64"
      ]
     },
     "execution_count": 44,
     "metadata": {},
     "output_type": "execute_result"
    }
   ],
   "source": [
    "df[(df['female'] == 1) & (df['married'] == 1)].mean() \n",
    "- df[(df['female'] == 1) & (df['married'] == 0)].mean()"
   ]
  },
  {
   "cell_type": "code",
   "execution_count": 45,
   "metadata": {},
   "outputs": [
    {
     "data": {
      "text/plain": [
       "count    1260.000000\n",
       "mean        3.185714\n",
       "std         0.684877\n",
       "min         1.000000\n",
       "25%         3.000000\n",
       "50%         3.000000\n",
       "75%         4.000000\n",
       "max         5.000000\n",
       "Name: looks, dtype: float64"
      ]
     },
     "execution_count": 45,
     "metadata": {},
     "output_type": "execute_result"
    }
   ],
   "source": [
    "# Можно считать статистики не по всей таблице а только по одной определенной\n",
    "df['looks'].describe()"
   ]
  },
  {
   "cell_type": "markdown",
   "metadata": {},
   "source": [
    "Можно посчитать статистики по подгруппам. Например, какая медиана признаков в группах по внешности?"
   ]
  },
  {
   "cell_type": "code",
   "execution_count": 46,
   "metadata": {},
   "outputs": [
    {
     "data": {
      "text/plain": [
       "<pandas.core.groupby.generic.DataFrameGroupBy object at 0x11c9f84c0>"
      ]
     },
     "execution_count": 46,
     "metadata": {},
     "output_type": "execute_result"
    }
   ],
   "source": [
    "g = df.groupby(by='looks')\n",
    "g  # это ленивая группа, то есть мы задали группировку но еще не вызвали ее. Чтобы запустить её нужны, например, аггрегации."
   ]
  },
  {
   "cell_type": "code",
   "execution_count": 47,
   "metadata": {},
   "outputs": [
    {
     "data": {
      "text/html": [
       "<div>\n",
       "<style scoped>\n",
       "    .dataframe tbody tr th:only-of-type {\n",
       "        vertical-align: middle;\n",
       "    }\n",
       "\n",
       "    .dataframe tbody tr th {\n",
       "        vertical-align: top;\n",
       "    }\n",
       "\n",
       "    .dataframe thead tr th {\n",
       "        text-align: left;\n",
       "    }\n",
       "\n",
       "    .dataframe thead tr:last-of-type th {\n",
       "        text-align: right;\n",
       "    }\n",
       "</style>\n",
       "<table border=\"1\" class=\"dataframe\">\n",
       "  <thead>\n",
       "    <tr>\n",
       "      <th></th>\n",
       "      <th colspan=\"2\" halign=\"left\">wage</th>\n",
       "      <th colspan=\"2\" halign=\"left\">exper</th>\n",
       "      <th colspan=\"2\" halign=\"left\">union</th>\n",
       "      <th colspan=\"2\" halign=\"left\">goodhlth</th>\n",
       "      <th colspan=\"2\" halign=\"left\">black</th>\n",
       "      <th colspan=\"2\" halign=\"left\">female</th>\n",
       "      <th colspan=\"2\" halign=\"left\">married</th>\n",
       "      <th colspan=\"2\" halign=\"left\">service</th>\n",
       "      <th colspan=\"2\" halign=\"left\">educ</th>\n",
       "    </tr>\n",
       "    <tr>\n",
       "      <th></th>\n",
       "      <th>mean</th>\n",
       "      <th>median</th>\n",
       "      <th>mean</th>\n",
       "      <th>median</th>\n",
       "      <th>mean</th>\n",
       "      <th>median</th>\n",
       "      <th>mean</th>\n",
       "      <th>median</th>\n",
       "      <th>mean</th>\n",
       "      <th>median</th>\n",
       "      <th>mean</th>\n",
       "      <th>median</th>\n",
       "      <th>mean</th>\n",
       "      <th>median</th>\n",
       "      <th>mean</th>\n",
       "      <th>median</th>\n",
       "      <th>mean</th>\n",
       "      <th>median</th>\n",
       "    </tr>\n",
       "    <tr>\n",
       "      <th>looks</th>\n",
       "      <th></th>\n",
       "      <th></th>\n",
       "      <th></th>\n",
       "      <th></th>\n",
       "      <th></th>\n",
       "      <th></th>\n",
       "      <th></th>\n",
       "      <th></th>\n",
       "      <th></th>\n",
       "      <th></th>\n",
       "      <th></th>\n",
       "      <th></th>\n",
       "      <th></th>\n",
       "      <th></th>\n",
       "      <th></th>\n",
       "      <th></th>\n",
       "      <th></th>\n",
       "      <th></th>\n",
       "    </tr>\n",
       "  </thead>\n",
       "  <tbody>\n",
       "    <tr>\n",
       "      <th>1</th>\n",
       "      <td>4.621538</td>\n",
       "      <td>3.460</td>\n",
       "      <td>27.000000</td>\n",
       "      <td>32.0</td>\n",
       "      <td>0.230769</td>\n",
       "      <td>0.0</td>\n",
       "      <td>0.846154</td>\n",
       "      <td>1.0</td>\n",
       "      <td>0.153846</td>\n",
       "      <td>0.0</td>\n",
       "      <td>0.384615</td>\n",
       "      <td>0.0</td>\n",
       "      <td>0.615385</td>\n",
       "      <td>1.0</td>\n",
       "      <td>0.307692</td>\n",
       "      <td>0.0</td>\n",
       "      <td>10.000000</td>\n",
       "      <td>12.0</td>\n",
       "    </tr>\n",
       "    <tr>\n",
       "      <th>2</th>\n",
       "      <td>5.328803</td>\n",
       "      <td>4.595</td>\n",
       "      <td>18.922535</td>\n",
       "      <td>18.0</td>\n",
       "      <td>0.232394</td>\n",
       "      <td>0.0</td>\n",
       "      <td>0.936620</td>\n",
       "      <td>1.0</td>\n",
       "      <td>0.035211</td>\n",
       "      <td>0.0</td>\n",
       "      <td>0.380282</td>\n",
       "      <td>0.0</td>\n",
       "      <td>0.711268</td>\n",
       "      <td>1.0</td>\n",
       "      <td>0.302817</td>\n",
       "      <td>0.0</td>\n",
       "      <td>12.105634</td>\n",
       "      <td>12.0</td>\n",
       "    </tr>\n",
       "    <tr>\n",
       "      <th>3</th>\n",
       "      <td>6.504598</td>\n",
       "      <td>5.635</td>\n",
       "      <td>19.491690</td>\n",
       "      <td>18.0</td>\n",
       "      <td>0.310249</td>\n",
       "      <td>0.0</td>\n",
       "      <td>0.921053</td>\n",
       "      <td>1.0</td>\n",
       "      <td>0.080332</td>\n",
       "      <td>0.0</td>\n",
       "      <td>0.322715</td>\n",
       "      <td>0.0</td>\n",
       "      <td>0.716066</td>\n",
       "      <td>1.0</td>\n",
       "      <td>0.254848</td>\n",
       "      <td>0.0</td>\n",
       "      <td>12.421053</td>\n",
       "      <td>12.0</td>\n",
       "    </tr>\n",
       "    <tr>\n",
       "      <th>4</th>\n",
       "      <td>6.299341</td>\n",
       "      <td>5.240</td>\n",
       "      <td>15.406593</td>\n",
       "      <td>12.5</td>\n",
       "      <td>0.219780</td>\n",
       "      <td>0.0</td>\n",
       "      <td>0.956044</td>\n",
       "      <td>1.0</td>\n",
       "      <td>0.074176</td>\n",
       "      <td>0.0</td>\n",
       "      <td>0.373626</td>\n",
       "      <td>0.0</td>\n",
       "      <td>0.651099</td>\n",
       "      <td>1.0</td>\n",
       "      <td>0.299451</td>\n",
       "      <td>0.0</td>\n",
       "      <td>13.074176</td>\n",
       "      <td>13.0</td>\n",
       "    </tr>\n",
       "    <tr>\n",
       "      <th>5</th>\n",
       "      <td>7.388421</td>\n",
       "      <td>4.810</td>\n",
       "      <td>11.631579</td>\n",
       "      <td>8.0</td>\n",
       "      <td>0.157895</td>\n",
       "      <td>0.0</td>\n",
       "      <td>1.000000</td>\n",
       "      <td>1.0</td>\n",
       "      <td>0.052632</td>\n",
       "      <td>0.0</td>\n",
       "      <td>0.421053</td>\n",
       "      <td>0.0</td>\n",
       "      <td>0.421053</td>\n",
       "      <td>0.0</td>\n",
       "      <td>0.263158</td>\n",
       "      <td>0.0</td>\n",
       "      <td>13.368421</td>\n",
       "      <td>12.0</td>\n",
       "    </tr>\n",
       "  </tbody>\n",
       "</table>\n",
       "</div>"
      ],
      "text/plain": [
       "           wage             exper            union         goodhlth         \\\n",
       "           mean median       mean median      mean median      mean median   \n",
       "looks                                                                        \n",
       "1      4.621538  3.460  27.000000   32.0  0.230769    0.0  0.846154    1.0   \n",
       "2      5.328803  4.595  18.922535   18.0  0.232394    0.0  0.936620    1.0   \n",
       "3      6.504598  5.635  19.491690   18.0  0.310249    0.0  0.921053    1.0   \n",
       "4      6.299341  5.240  15.406593   12.5  0.219780    0.0  0.956044    1.0   \n",
       "5      7.388421  4.810  11.631579    8.0  0.157895    0.0  1.000000    1.0   \n",
       "\n",
       "          black           female          married          service         \\\n",
       "           mean median      mean median      mean median      mean median   \n",
       "looks                                                                       \n",
       "1      0.153846    0.0  0.384615    0.0  0.615385    1.0  0.307692    0.0   \n",
       "2      0.035211    0.0  0.380282    0.0  0.711268    1.0  0.302817    0.0   \n",
       "3      0.080332    0.0  0.322715    0.0  0.716066    1.0  0.254848    0.0   \n",
       "4      0.074176    0.0  0.373626    0.0  0.651099    1.0  0.299451    0.0   \n",
       "5      0.052632    0.0  0.421053    0.0  0.421053    0.0  0.263158    0.0   \n",
       "\n",
       "            educ         \n",
       "            mean median  \n",
       "looks                    \n",
       "1      10.000000   12.0  \n",
       "2      12.105634   12.0  \n",
       "3      12.421053   12.0  \n",
       "4      13.074176   13.0  \n",
       "5      13.368421   12.0  "
      ]
     },
     "execution_count": 47,
     "metadata": {},
     "output_type": "execute_result"
    }
   ],
   "source": [
    "df.groupby(by='looks').agg([np.mean, np.median])"
   ]
  },
  {
   "cell_type": "code",
   "execution_count": 48,
   "metadata": {},
   "outputs": [
    {
     "data": {
      "text/html": [
       "<div>\n",
       "<style scoped>\n",
       "    .dataframe tbody tr th:only-of-type {\n",
       "        vertical-align: middle;\n",
       "    }\n",
       "\n",
       "    .dataframe tbody tr th {\n",
       "        vertical-align: top;\n",
       "    }\n",
       "\n",
       "    .dataframe thead th {\n",
       "        text-align: right;\n",
       "    }\n",
       "</style>\n",
       "<table border=\"1\" class=\"dataframe\">\n",
       "  <thead>\n",
       "    <tr style=\"text-align: right;\">\n",
       "      <th></th>\n",
       "      <th>wage</th>\n",
       "      <th>exper</th>\n",
       "      <th>union</th>\n",
       "      <th>goodhlth</th>\n",
       "      <th>black</th>\n",
       "      <th>female</th>\n",
       "      <th>married</th>\n",
       "      <th>service</th>\n",
       "      <th>educ</th>\n",
       "      <th>looks</th>\n",
       "    </tr>\n",
       "  </thead>\n",
       "  <tbody>\n",
       "    <tr>\n",
       "      <th>28</th>\n",
       "      <td>8.35</td>\n",
       "      <td>41</td>\n",
       "      <td>0</td>\n",
       "      <td>0</td>\n",
       "      <td>0</td>\n",
       "      <td>0</td>\n",
       "      <td>1</td>\n",
       "      <td>1</td>\n",
       "      <td>16</td>\n",
       "      <td>1</td>\n",
       "    </tr>\n",
       "    <tr>\n",
       "      <th>200</th>\n",
       "      <td>3.75</td>\n",
       "      <td>36</td>\n",
       "      <td>0</td>\n",
       "      <td>1</td>\n",
       "      <td>0</td>\n",
       "      <td>0</td>\n",
       "      <td>0</td>\n",
       "      <td>0</td>\n",
       "      <td>12</td>\n",
       "      <td>1</td>\n",
       "    </tr>\n",
       "    <tr>\n",
       "      <th>248</th>\n",
       "      <td>10.99</td>\n",
       "      <td>40</td>\n",
       "      <td>0</td>\n",
       "      <td>1</td>\n",
       "      <td>0</td>\n",
       "      <td>0</td>\n",
       "      <td>1</td>\n",
       "      <td>0</td>\n",
       "      <td>12</td>\n",
       "      <td>1</td>\n",
       "    </tr>\n",
       "    <tr>\n",
       "      <th>327</th>\n",
       "      <td>1.65</td>\n",
       "      <td>24</td>\n",
       "      <td>0</td>\n",
       "      <td>1</td>\n",
       "      <td>0</td>\n",
       "      <td>1</td>\n",
       "      <td>0</td>\n",
       "      <td>1</td>\n",
       "      <td>13</td>\n",
       "      <td>1</td>\n",
       "    </tr>\n",
       "    <tr>\n",
       "      <th>751</th>\n",
       "      <td>7.93</td>\n",
       "      <td>39</td>\n",
       "      <td>1</td>\n",
       "      <td>1</td>\n",
       "      <td>0</td>\n",
       "      <td>0</td>\n",
       "      <td>1</td>\n",
       "      <td>0</td>\n",
       "      <td>12</td>\n",
       "      <td>1</td>\n",
       "    </tr>\n",
       "  </tbody>\n",
       "</table>\n",
       "</div>"
      ],
      "text/plain": [
       "      wage  exper  union  goodhlth  black  female  married  service  educ  \\\n",
       "28    8.35     41      0         0      0       0        1        1    16   \n",
       "200   3.75     36      0         1      0       0        0        0    12   \n",
       "248  10.99     40      0         1      0       0        1        0    12   \n",
       "327   1.65     24      0         1      0       1        0        1    13   \n",
       "751   7.93     39      1         1      0       0        1        0    12   \n",
       "\n",
       "     looks  \n",
       "28       1  \n",
       "200      1  \n",
       "248      1  \n",
       "327      1  \n",
       "751      1  "
      ]
     },
     "execution_count": 48,
     "metadata": {},
     "output_type": "execute_result"
    }
   ],
   "source": [
    "# Можно посмотреть данные по подгруппе, если понадобится, когда у вас сложное правило группы\n",
    "g.get_group(1).head()"
   ]
  },
  {
   "cell_type": "code",
   "execution_count": 49,
   "metadata": {},
   "outputs": [
    {
     "data": {
      "text/plain": [
       "looks\n",
       "1     13\n",
       "2    142\n",
       "3    722\n",
       "4    364\n",
       "5     19\n",
       "Name: wage, dtype: int64"
      ]
     },
     "execution_count": 49,
     "metadata": {},
     "output_type": "execute_result"
    }
   ],
   "source": [
    "# Это немного странно, но так можно посмотреть сколько элементов в каждой группе\n",
    "df.groupby('looks').count()['wage']"
   ]
  },
  {
   "cell_type": "code",
   "execution_count": 50,
   "metadata": {},
   "outputs": [],
   "source": [
    "# выставим флаг jupyter, чтобы он повзолил рисовать граифики\n",
    "%matplotlib inline"
   ]
  },
  {
   "cell_type": "code",
   "execution_count": 51,
   "metadata": {},
   "outputs": [
    {
     "data": {
      "text/plain": [
       "<AxesSubplot:xlabel='looks'>"
      ]
     },
     "execution_count": 51,
     "metadata": {},
     "output_type": "execute_result"
    },
    {
     "data": {
      "image/png": "[encoded data removed]",
      "text/plain": [
       "<Figure size 432x288 with 1 Axes>"
      ]
     },
     "metadata": {
      "needs_background": "light"
     },
     "output_type": "display_data"
    }
   ],
   "source": [
    "df.groupby('looks').count()['wage'].plot(kind='bar') # типичное нормальное распределение красоты"
   ]
  },
  {
   "cell_type": "markdown",
   "metadata": {},
   "source": [
    "### Сводные таблицы\n",
    "\n",
    "Можно посмотреть как одна наблюдаемая величина распределена в контексте других признаков."
   ]
  },
  {
   "cell_type": "code",
   "execution_count": 52,
   "metadata": {},
   "outputs": [
    {
     "data": {
      "text/html": [
       "<div>\n",
       "<style scoped>\n",
       "    .dataframe tbody tr th:only-of-type {\n",
       "        vertical-align: middle;\n",
       "    }\n",
       "\n",
       "    .dataframe tbody tr th {\n",
       "        vertical-align: top;\n",
       "    }\n",
       "\n",
       "    .dataframe thead th {\n",
       "        text-align: right;\n",
       "    }\n",
       "</style>\n",
       "<table border=\"1\" class=\"dataframe\">\n",
       "  <thead>\n",
       "    <tr style=\"text-align: right;\">\n",
       "      <th>educ</th>\n",
       "      <th>5</th>\n",
       "      <th>8</th>\n",
       "      <th>10</th>\n",
       "      <th>12</th>\n",
       "      <th>13</th>\n",
       "      <th>14</th>\n",
       "      <th>16</th>\n",
       "      <th>17</th>\n",
       "    </tr>\n",
       "    <tr>\n",
       "      <th>looks</th>\n",
       "      <th></th>\n",
       "      <th></th>\n",
       "      <th></th>\n",
       "      <th></th>\n",
       "      <th></th>\n",
       "      <th></th>\n",
       "      <th></th>\n",
       "      <th></th>\n",
       "    </tr>\n",
       "  </thead>\n",
       "  <tbody>\n",
       "    <tr>\n",
       "      <th>1</th>\n",
       "      <td>4</td>\n",
       "      <td>1</td>\n",
       "      <td>0</td>\n",
       "      <td>5</td>\n",
       "      <td>2</td>\n",
       "      <td>0</td>\n",
       "      <td>1</td>\n",
       "      <td>0</td>\n",
       "    </tr>\n",
       "    <tr>\n",
       "      <th>2</th>\n",
       "      <td>8</td>\n",
       "      <td>8</td>\n",
       "      <td>21</td>\n",
       "      <td>49</td>\n",
       "      <td>27</td>\n",
       "      <td>7</td>\n",
       "      <td>6</td>\n",
       "      <td>16</td>\n",
       "    </tr>\n",
       "    <tr>\n",
       "      <th>3</th>\n",
       "      <td>23</td>\n",
       "      <td>26</td>\n",
       "      <td>111</td>\n",
       "      <td>267</td>\n",
       "      <td>134</td>\n",
       "      <td>25</td>\n",
       "      <td>73</td>\n",
       "      <td>63</td>\n",
       "    </tr>\n",
       "    <tr>\n",
       "      <th>4</th>\n",
       "      <td>7</td>\n",
       "      <td>9</td>\n",
       "      <td>23</td>\n",
       "      <td>138</td>\n",
       "      <td>80</td>\n",
       "      <td>18</td>\n",
       "      <td>39</td>\n",
       "      <td>50</td>\n",
       "    </tr>\n",
       "    <tr>\n",
       "      <th>5</th>\n",
       "      <td>0</td>\n",
       "      <td>0</td>\n",
       "      <td>1</td>\n",
       "      <td>9</td>\n",
       "      <td>3</td>\n",
       "      <td>1</td>\n",
       "      <td>2</td>\n",
       "      <td>3</td>\n",
       "    </tr>\n",
       "  </tbody>\n",
       "</table>\n",
       "</div>"
      ],
      "text/plain": [
       "educ   5   8    10   12   13  14  16  17\n",
       "looks                                   \n",
       "1       4   1    0    5    2   0   1   0\n",
       "2       8   8   21   49   27   7   6  16\n",
       "3      23  26  111  267  134  25  73  63\n",
       "4       7   9   23  138   80  18  39  50\n",
       "5       0   0    1    9    3   1   2   3"
      ]
     },
     "execution_count": 52,
     "metadata": {},
     "output_type": "execute_result"
    }
   ],
   "source": [
    "# кросстабуляция. По сути в ячейках количество элементов, удовлетворяющие одновременно двум критериям\n",
    "pd.crosstab(df['looks'], df['educ'])"
   ]
  },
  {
   "cell_type": "code",
   "execution_count": 53,
   "metadata": {},
   "outputs": [
    {
     "data": {
      "text/html": [
       "<div>\n",
       "<style scoped>\n",
       "    .dataframe tbody tr th:only-of-type {\n",
       "        vertical-align: middle;\n",
       "    }\n",
       "\n",
       "    .dataframe tbody tr th {\n",
       "        vertical-align: top;\n",
       "    }\n",
       "\n",
       "    .dataframe thead th {\n",
       "        text-align: right;\n",
       "    }\n",
       "</style>\n",
       "<table border=\"1\" class=\"dataframe\">\n",
       "  <thead>\n",
       "    <tr style=\"text-align: right;\">\n",
       "      <th>exper</th>\n",
       "      <th>0.0</th>\n",
       "      <th>1.0</th>\n",
       "      <th>1.2</th>\n",
       "      <th>1.3</th>\n",
       "      <th>1.4</th>\n",
       "      <th>1.5</th>\n",
       "      <th>1.6</th>\n",
       "      <th>1.7</th>\n",
       "      <th>1.8</th>\n",
       "      <th>1.9</th>\n",
       "      <th>2.0</th>\n",
       "      <th>2.1</th>\n",
       "      <th>2.2</th>\n",
       "      <th>2.3</th>\n",
       "      <th>2.4</th>\n",
       "      <th>2.5</th>\n",
       "      <th>2.6</th>\n",
       "    </tr>\n",
       "    <tr>\n",
       "      <th>wage</th>\n",
       "      <th></th>\n",
       "      <th></th>\n",
       "      <th></th>\n",
       "      <th></th>\n",
       "      <th></th>\n",
       "      <th></th>\n",
       "      <th></th>\n",
       "      <th></th>\n",
       "      <th></th>\n",
       "      <th></th>\n",
       "      <th></th>\n",
       "      <th></th>\n",
       "      <th></th>\n",
       "      <th></th>\n",
       "      <th></th>\n",
       "      <th></th>\n",
       "      <th></th>\n",
       "    </tr>\n",
       "  </thead>\n",
       "  <tbody>\n",
       "    <tr>\n",
       "      <th>0.0</th>\n",
       "      <td>1</td>\n",
       "      <td>1</td>\n",
       "      <td>4</td>\n",
       "      <td>0</td>\n",
       "      <td>3</td>\n",
       "      <td>3</td>\n",
       "      <td>0</td>\n",
       "      <td>3</td>\n",
       "      <td>2</td>\n",
       "      <td>3</td>\n",
       "      <td>1</td>\n",
       "      <td>1</td>\n",
       "      <td>1</td>\n",
       "      <td>2</td>\n",
       "      <td>1</td>\n",
       "      <td>1</td>\n",
       "      <td>0</td>\n",
       "    </tr>\n",
       "    <tr>\n",
       "      <th>1.0</th>\n",
       "      <td>3</td>\n",
       "      <td>14</td>\n",
       "      <td>19</td>\n",
       "      <td>33</td>\n",
       "      <td>27</td>\n",
       "      <td>31</td>\n",
       "      <td>42</td>\n",
       "      <td>41</td>\n",
       "      <td>34</td>\n",
       "      <td>42</td>\n",
       "      <td>31</td>\n",
       "      <td>32</td>\n",
       "      <td>29</td>\n",
       "      <td>23</td>\n",
       "      <td>26</td>\n",
       "      <td>16</td>\n",
       "      <td>11</td>\n",
       "    </tr>\n",
       "    <tr>\n",
       "      <th>2.0</th>\n",
       "      <td>0</td>\n",
       "      <td>4</td>\n",
       "      <td>0</td>\n",
       "      <td>11</td>\n",
       "      <td>12</td>\n",
       "      <td>25</td>\n",
       "      <td>37</td>\n",
       "      <td>39</td>\n",
       "      <td>64</td>\n",
       "      <td>69</td>\n",
       "      <td>59</td>\n",
       "      <td>92</td>\n",
       "      <td>51</td>\n",
       "      <td>71</td>\n",
       "      <td>67</td>\n",
       "      <td>73</td>\n",
       "      <td>21</td>\n",
       "    </tr>\n",
       "    <tr>\n",
       "      <th>3.0</th>\n",
       "      <td>0</td>\n",
       "      <td>0</td>\n",
       "      <td>0</td>\n",
       "      <td>1</td>\n",
       "      <td>0</td>\n",
       "      <td>0</td>\n",
       "      <td>2</td>\n",
       "      <td>3</td>\n",
       "      <td>5</td>\n",
       "      <td>9</td>\n",
       "      <td>7</td>\n",
       "      <td>4</td>\n",
       "      <td>16</td>\n",
       "      <td>12</td>\n",
       "      <td>12</td>\n",
       "      <td>8</td>\n",
       "      <td>2</td>\n",
       "    </tr>\n",
       "    <tr>\n",
       "      <th>4.0</th>\n",
       "      <td>0</td>\n",
       "      <td>0</td>\n",
       "      <td>0</td>\n",
       "      <td>0</td>\n",
       "      <td>0</td>\n",
       "      <td>0</td>\n",
       "      <td>0</td>\n",
       "      <td>1</td>\n",
       "      <td>0</td>\n",
       "      <td>0</td>\n",
       "      <td>1</td>\n",
       "      <td>0</td>\n",
       "      <td>0</td>\n",
       "      <td>1</td>\n",
       "      <td>0</td>\n",
       "      <td>0</td>\n",
       "      <td>0</td>\n",
       "    </tr>\n",
       "  </tbody>\n",
       "</table>\n",
       "</div>"
      ],
      "text/plain": [
       "exper  0.0  1.0  1.2  1.3  1.4  1.5  1.6  1.7  1.8  1.9  2.0  2.1  2.2  2.3  \\\n",
       "wage                                                                          \n",
       "0.0      1    1    4    0    3    3    0    3    2    3    1    1    1    2   \n",
       "1.0      3   14   19   33   27   31   42   41   34   42   31   32   29   23   \n",
       "2.0      0    4    0   11   12   25   37   39   64   69   59   92   51   71   \n",
       "3.0      0    0    0    1    0    0    2    3    5    9    7    4   16   12   \n",
       "4.0      0    0    0    0    0    0    0    1    0    0    1    0    0    1   \n",
       "\n",
       "exper  2.4  2.5  2.6  \n",
       "wage                  \n",
       "0.0      1    1    0  \n",
       "1.0     26   16   11  \n",
       "2.0     67   73   21  \n",
       "3.0     12    8    2  \n",
       "4.0      0    0    0  "
      ]
     },
     "execution_count": 53,
     "metadata": {},
     "output_type": "execute_result"
    }
   ],
   "source": [
    "wage_segments = np.round(np.log(df['wage']), 0)  # логарифмическая шкала зарплат с округлением, таким образом у нас 4 группы\n",
    "exper_segments = np.round(np.power(df['exper'], 0.25), 1)  # магическая шкала опыта, чтобы получить несколько групп\n",
    "pd.crosstab(wage_segments, exper_segments)\n",
    "\n",
    "# Что мы можем сказать по поводу этих данных?"
   ]
  },
  {
   "cell_type": "markdown",
   "metadata": {},
   "source": [
    "Корреляция признаков между собой - corr()"
   ]
  },
  {
   "cell_type": "code",
   "execution_count": 54,
   "metadata": {},
   "outputs": [
    {
     "data": {
      "text/html": [
       "<div>\n",
       "<style scoped>\n",
       "    .dataframe tbody tr th:only-of-type {\n",
       "        vertical-align: middle;\n",
       "    }\n",
       "\n",
       "    .dataframe tbody tr th {\n",
       "        vertical-align: top;\n",
       "    }\n",
       "\n",
       "    .dataframe thead th {\n",
       "        text-align: right;\n",
       "    }\n",
       "</style>\n",
       "<table border=\"1\" class=\"dataframe\">\n",
       "  <thead>\n",
       "    <tr style=\"text-align: right;\">\n",
       "      <th></th>\n",
       "      <th>wage</th>\n",
       "      <th>exper</th>\n",
       "      <th>union</th>\n",
       "      <th>goodhlth</th>\n",
       "      <th>black</th>\n",
       "      <th>female</th>\n",
       "      <th>married</th>\n",
       "      <th>service</th>\n",
       "      <th>educ</th>\n",
       "      <th>looks</th>\n",
       "    </tr>\n",
       "  </thead>\n",
       "  <tbody>\n",
       "    <tr>\n",
       "      <th>wage</th>\n",
       "      <td>1.000000</td>\n",
       "      <td>0.234632</td>\n",
       "      <td>0.094529</td>\n",
       "      <td>0.006756</td>\n",
       "      <td>-0.059052</td>\n",
       "      <td>-0.313419</td>\n",
       "      <td>0.184521</td>\n",
       "      <td>-0.053653</td>\n",
       "      <td>0.212333</td>\n",
       "      <td>0.055019</td>\n",
       "    </tr>\n",
       "    <tr>\n",
       "      <th>exper</th>\n",
       "      <td>0.234632</td>\n",
       "      <td>1.000000</td>\n",
       "      <td>0.089792</td>\n",
       "      <td>-0.131609</td>\n",
       "      <td>0.007566</td>\n",
       "      <td>-0.247209</td>\n",
       "      <td>0.255607</td>\n",
       "      <td>-0.057328</td>\n",
       "      <td>-0.186200</td>\n",
       "      <td>-0.155035</td>\n",
       "    </tr>\n",
       "    <tr>\n",
       "      <th>union</th>\n",
       "      <td>0.094529</td>\n",
       "      <td>0.089792</td>\n",
       "      <td>1.000000</td>\n",
       "      <td>-0.022398</td>\n",
       "      <td>0.031939</td>\n",
       "      <td>-0.100037</td>\n",
       "      <td>0.053629</td>\n",
       "      <td>-0.103633</td>\n",
       "      <td>-0.096022</td>\n",
       "      <td>-0.043495</td>\n",
       "    </tr>\n",
       "    <tr>\n",
       "      <th>goodhlth</th>\n",
       "      <td>0.006756</td>\n",
       "      <td>-0.131609</td>\n",
       "      <td>-0.022398</td>\n",
       "      <td>1.000000</td>\n",
       "      <td>-0.034073</td>\n",
       "      <td>-0.039684</td>\n",
       "      <td>-0.013315</td>\n",
       "      <td>0.049947</td>\n",
       "      <td>0.107129</td>\n",
       "      <td>0.058558</td>\n",
       "    </tr>\n",
       "    <tr>\n",
       "      <th>black</th>\n",
       "      <td>-0.059052</td>\n",
       "      <td>0.007566</td>\n",
       "      <td>0.031939</td>\n",
       "      <td>-0.034073</td>\n",
       "      <td>1.000000</td>\n",
       "      <td>0.113703</td>\n",
       "      <td>-0.133306</td>\n",
       "      <td>0.017261</td>\n",
       "      <td>-0.138157</td>\n",
       "      <td>0.012098</td>\n",
       "    </tr>\n",
       "    <tr>\n",
       "      <th>female</th>\n",
       "      <td>-0.313419</td>\n",
       "      <td>-0.247209</td>\n",
       "      <td>-0.100037</td>\n",
       "      <td>-0.039684</td>\n",
       "      <td>0.113703</td>\n",
       "      <td>1.000000</td>\n",
       "      <td>-0.319228</td>\n",
       "      <td>0.267961</td>\n",
       "      <td>0.009105</td>\n",
       "      <td>0.017129</td>\n",
       "    </tr>\n",
       "    <tr>\n",
       "      <th>married</th>\n",
       "      <td>0.184521</td>\n",
       "      <td>0.255607</td>\n",
       "      <td>0.053629</td>\n",
       "      <td>-0.013315</td>\n",
       "      <td>-0.133306</td>\n",
       "      <td>-0.319228</td>\n",
       "      <td>1.000000</td>\n",
       "      <td>-0.075082</td>\n",
       "      <td>-0.047674</td>\n",
       "      <td>-0.064636</td>\n",
       "    </tr>\n",
       "    <tr>\n",
       "      <th>service</th>\n",
       "      <td>-0.053653</td>\n",
       "      <td>-0.057328</td>\n",
       "      <td>-0.103633</td>\n",
       "      <td>0.049947</td>\n",
       "      <td>0.017261</td>\n",
       "      <td>0.267961</td>\n",
       "      <td>-0.075082</td>\n",
       "      <td>1.000000</td>\n",
       "      <td>0.301628</td>\n",
       "      <td>0.010213</td>\n",
       "    </tr>\n",
       "    <tr>\n",
       "      <th>educ</th>\n",
       "      <td>0.212333</td>\n",
       "      <td>-0.186200</td>\n",
       "      <td>-0.096022</td>\n",
       "      <td>0.107129</td>\n",
       "      <td>-0.138157</td>\n",
       "      <td>0.009105</td>\n",
       "      <td>-0.047674</td>\n",
       "      <td>0.301628</td>\n",
       "      <td>1.000000</td>\n",
       "      <td>0.153842</td>\n",
       "    </tr>\n",
       "    <tr>\n",
       "      <th>looks</th>\n",
       "      <td>0.055019</td>\n",
       "      <td>-0.155035</td>\n",
       "      <td>-0.043495</td>\n",
       "      <td>0.058558</td>\n",
       "      <td>0.012098</td>\n",
       "      <td>0.017129</td>\n",
       "      <td>-0.064636</td>\n",
       "      <td>0.010213</td>\n",
       "      <td>0.153842</td>\n",
       "      <td>1.000000</td>\n",
       "    </tr>\n",
       "  </tbody>\n",
       "</table>\n",
       "</div>"
      ],
      "text/plain": [
       "              wage     exper     union  goodhlth     black    female  \\\n",
       "wage      1.000000  0.234632  0.094529  0.006756 -0.059052 -0.313419   \n",
       "exper     0.234632  1.000000  0.089792 -0.131609  0.007566 -0.247209   \n",
       "union     0.094529  0.089792  1.000000 -0.022398  0.031939 -0.100037   \n",
       "goodhlth  0.006756 -0.131609 -0.022398  1.000000 -0.034073 -0.039684   \n",
       "black    -0.059052  0.007566  0.031939 -0.034073  1.000000  0.113703   \n",
       "female   -0.313419 -0.247209 -0.100037 -0.039684  0.113703  1.000000   \n",
       "married   0.184521  0.255607  0.053629 -0.013315 -0.133306 -0.319228   \n",
       "service  -0.053653 -0.057328 -0.103633  0.049947  0.017261  0.267961   \n",
       "educ      0.212333 -0.186200 -0.096022  0.107129 -0.138157  0.009105   \n",
       "looks     0.055019 -0.155035 -0.043495  0.058558  0.012098  0.017129   \n",
       "\n",
       "           married   service      educ     looks  \n",
       "wage      0.184521 -0.053653  0.212333  0.055019  \n",
       "exper     0.255607 -0.057328 -0.186200 -0.155035  \n",
       "union     0.053629 -0.103633 -0.096022 -0.043495  \n",
       "goodhlth -0.013315  0.049947  0.107129  0.058558  \n",
       "black    -0.133306  0.017261 -0.138157  0.012098  \n",
       "female   -0.319228  0.267961  0.009105  0.017129  \n",
       "married   1.000000 -0.075082 -0.047674 -0.064636  \n",
       "service  -0.075082  1.000000  0.301628  0.010213  \n",
       "educ     -0.047674  0.301628  1.000000  0.153842  \n",
       "looks    -0.064636  0.010213  0.153842  1.000000  "
      ]
     },
     "execution_count": 54,
     "metadata": {},
     "output_type": "execute_result"
    }
   ],
   "source": [
    "corr = df.corr()\n",
    "corr"
   ]
  },
  {
   "cell_type": "markdown",
   "metadata": {},
   "source": [
    "Корреляции обычно не очень удобно рассматривать в виде чисел, легче анализировать картинки"
   ]
  },
  {
   "cell_type": "code",
   "execution_count": 55,
   "metadata": {},
   "outputs": [
    {
     "data": {
      "text/plain": [
       "<AxesSubplot:>"
      ]
     },
     "execution_count": 55,
     "metadata": {},
     "output_type": "execute_result"
    },
    {
     "data": {
      "image/png": "[encoded data removed]",
      "text/plain": [
       "<Figure size 720x720 with 2 Axes>"
      ]
     },
     "metadata": {
      "needs_background": "light"
     },
     "output_type": "display_data"
    }
   ],
   "source": [
    "import seaborn as sns\n",
    "from matplotlib import pyplot as plt\n",
    "\n",
    "plt.figure(figsize=(10,10)) # изменим размер графика, сделаем кго больше\n",
    "sns.heatmap(corr, square=True, annot=True, fmt=\".2f\")"
   ]
  },
  {
   "cell_type": "markdown",
   "metadata": {},
   "source": [
    "### Генерация новых колонок"
   ]
  },
  {
   "cell_type": "code",
   "execution_count": 56,
   "metadata": {},
   "outputs": [
    {
     "data": {
      "text/html": [
       "<div>\n",
       "<style scoped>\n",
       "    .dataframe tbody tr th:only-of-type {\n",
       "        vertical-align: middle;\n",
       "    }\n",
       "\n",
       "    .dataframe tbody tr th {\n",
       "        vertical-align: top;\n",
       "    }\n",
       "\n",
       "    .dataframe thead th {\n",
       "        text-align: right;\n",
       "    }\n",
       "</style>\n",
       "<table border=\"1\" class=\"dataframe\">\n",
       "  <thead>\n",
       "    <tr style=\"text-align: right;\">\n",
       "      <th></th>\n",
       "      <th>wage</th>\n",
       "      <th>exper</th>\n",
       "      <th>union</th>\n",
       "      <th>goodhlth</th>\n",
       "      <th>black</th>\n",
       "      <th>female</th>\n",
       "      <th>married</th>\n",
       "      <th>service</th>\n",
       "      <th>educ</th>\n",
       "      <th>looks</th>\n",
       "    </tr>\n",
       "  </thead>\n",
       "  <tbody>\n",
       "    <tr>\n",
       "      <th>0</th>\n",
       "      <td>5.73</td>\n",
       "      <td>30</td>\n",
       "      <td>0</td>\n",
       "      <td>1</td>\n",
       "      <td>0</td>\n",
       "      <td>1</td>\n",
       "      <td>1</td>\n",
       "      <td>1</td>\n",
       "      <td>14</td>\n",
       "      <td>4</td>\n",
       "    </tr>\n",
       "    <tr>\n",
       "      <th>1</th>\n",
       "      <td>4.28</td>\n",
       "      <td>28</td>\n",
       "      <td>0</td>\n",
       "      <td>1</td>\n",
       "      <td>0</td>\n",
       "      <td>1</td>\n",
       "      <td>1</td>\n",
       "      <td>0</td>\n",
       "      <td>12</td>\n",
       "      <td>3</td>\n",
       "    </tr>\n",
       "    <tr>\n",
       "      <th>2</th>\n",
       "      <td>7.96</td>\n",
       "      <td>35</td>\n",
       "      <td>0</td>\n",
       "      <td>1</td>\n",
       "      <td>0</td>\n",
       "      <td>1</td>\n",
       "      <td>0</td>\n",
       "      <td>0</td>\n",
       "      <td>10</td>\n",
       "      <td>4</td>\n",
       "    </tr>\n",
       "    <tr>\n",
       "      <th>3</th>\n",
       "      <td>11.57</td>\n",
       "      <td>38</td>\n",
       "      <td>0</td>\n",
       "      <td>1</td>\n",
       "      <td>0</td>\n",
       "      <td>0</td>\n",
       "      <td>1</td>\n",
       "      <td>1</td>\n",
       "      <td>16</td>\n",
       "      <td>3</td>\n",
       "    </tr>\n",
       "    <tr>\n",
       "      <th>4</th>\n",
       "      <td>11.42</td>\n",
       "      <td>27</td>\n",
       "      <td>0</td>\n",
       "      <td>1</td>\n",
       "      <td>0</td>\n",
       "      <td>0</td>\n",
       "      <td>1</td>\n",
       "      <td>0</td>\n",
       "      <td>16</td>\n",
       "      <td>3</td>\n",
       "    </tr>\n",
       "  </tbody>\n",
       "</table>\n",
       "</div>"
      ],
      "text/plain": [
       "    wage  exper  union  goodhlth  black  female  married  service  educ  looks\n",
       "0   5.73     30      0         1      0       1        1        1    14      4\n",
       "1   4.28     28      0         1      0       1        1        0    12      3\n",
       "2   7.96     35      0         1      0       1        0        0    10      4\n",
       "3  11.57     38      0         1      0       0        1        1    16      3\n",
       "4  11.42     27      0         1      0       0        1        0    16      3"
      ]
     },
     "execution_count": 56,
     "metadata": {},
     "output_type": "execute_result"
    }
   ],
   "source": [
    "df.head() # посмотрим на 5 первых строк"
   ]
  },
  {
   "cell_type": "code",
   "execution_count": 57,
   "metadata": {},
   "outputs": [
    {
     "data": {
      "text/html": [
       "<div>\n",
       "<style scoped>\n",
       "    .dataframe tbody tr th:only-of-type {\n",
       "        vertical-align: middle;\n",
       "    }\n",
       "\n",
       "    .dataframe tbody tr th {\n",
       "        vertical-align: top;\n",
       "    }\n",
       "\n",
       "    .dataframe thead th {\n",
       "        text-align: right;\n",
       "    }\n",
       "</style>\n",
       "<table border=\"1\" class=\"dataframe\">\n",
       "  <thead>\n",
       "    <tr style=\"text-align: right;\">\n",
       "      <th></th>\n",
       "      <th>wage</th>\n",
       "      <th>exper</th>\n",
       "      <th>union</th>\n",
       "      <th>goodhlth</th>\n",
       "      <th>black</th>\n",
       "      <th>female</th>\n",
       "      <th>married</th>\n",
       "      <th>service</th>\n",
       "      <th>educ</th>\n",
       "      <th>looks</th>\n",
       "      <th>wage_segmens</th>\n",
       "      <th>exper_segments</th>\n",
       "    </tr>\n",
       "  </thead>\n",
       "  <tbody>\n",
       "    <tr>\n",
       "      <th>0</th>\n",
       "      <td>5.73</td>\n",
       "      <td>30</td>\n",
       "      <td>0</td>\n",
       "      <td>1</td>\n",
       "      <td>0</td>\n",
       "      <td>1</td>\n",
       "      <td>1</td>\n",
       "      <td>1</td>\n",
       "      <td>14</td>\n",
       "      <td>4</td>\n",
       "      <td>2.0</td>\n",
       "      <td>2.3</td>\n",
       "    </tr>\n",
       "    <tr>\n",
       "      <th>1</th>\n",
       "      <td>4.28</td>\n",
       "      <td>28</td>\n",
       "      <td>0</td>\n",
       "      <td>1</td>\n",
       "      <td>0</td>\n",
       "      <td>1</td>\n",
       "      <td>1</td>\n",
       "      <td>0</td>\n",
       "      <td>12</td>\n",
       "      <td>3</td>\n",
       "      <td>1.0</td>\n",
       "      <td>2.3</td>\n",
       "    </tr>\n",
       "    <tr>\n",
       "      <th>2</th>\n",
       "      <td>7.96</td>\n",
       "      <td>35</td>\n",
       "      <td>0</td>\n",
       "      <td>1</td>\n",
       "      <td>0</td>\n",
       "      <td>1</td>\n",
       "      <td>0</td>\n",
       "      <td>0</td>\n",
       "      <td>10</td>\n",
       "      <td>4</td>\n",
       "      <td>2.0</td>\n",
       "      <td>2.4</td>\n",
       "    </tr>\n",
       "    <tr>\n",
       "      <th>3</th>\n",
       "      <td>11.57</td>\n",
       "      <td>38</td>\n",
       "      <td>0</td>\n",
       "      <td>1</td>\n",
       "      <td>0</td>\n",
       "      <td>0</td>\n",
       "      <td>1</td>\n",
       "      <td>1</td>\n",
       "      <td>16</td>\n",
       "      <td>3</td>\n",
       "      <td>2.0</td>\n",
       "      <td>2.5</td>\n",
       "    </tr>\n",
       "    <tr>\n",
       "      <th>4</th>\n",
       "      <td>11.42</td>\n",
       "      <td>27</td>\n",
       "      <td>0</td>\n",
       "      <td>1</td>\n",
       "      <td>0</td>\n",
       "      <td>0</td>\n",
       "      <td>1</td>\n",
       "      <td>0</td>\n",
       "      <td>16</td>\n",
       "      <td>3</td>\n",
       "      <td>2.0</td>\n",
       "      <td>2.3</td>\n",
       "    </tr>\n",
       "  </tbody>\n",
       "</table>\n",
       "</div>"
      ],
      "text/plain": [
       "    wage  exper  union  goodhlth  black  female  married  service  educ  \\\n",
       "0   5.73     30      0         1      0       1        1        1    14   \n",
       "1   4.28     28      0         1      0       1        1        0    12   \n",
       "2   7.96     35      0         1      0       1        0        0    10   \n",
       "3  11.57     38      0         1      0       0        1        1    16   \n",
       "4  11.42     27      0         1      0       0        1        0    16   \n",
       "\n",
       "   looks  wage_segmens  exper_segments  \n",
       "0      4           2.0             2.3  \n",
       "1      3           1.0             2.3  \n",
       "2      4           2.0             2.4  \n",
       "3      3           2.0             2.5  \n",
       "4      3           2.0             2.3  "
      ]
     },
     "execution_count": 57,
     "metadata": {},
     "output_type": "execute_result"
    }
   ],
   "source": [
    "df2 = df.copy() # копируем датафрейм чтобы не сломать исходный\n",
    "df2['wage_segmens'] = np.round(np.log(df['wage']), 0)\n",
    "df2['exper_segments'] = np.round(np.power(df['exper'], 0.25), 1)\n",
    "df2.head()"
   ]
  }
 ],
 "metadata": {
  "kernelspec": {
   "display_name": "Python 3 (ipykernel)",
   "language": "python",
   "name": "python3"
  },
  "language_info": {
   "codemirror_mode": {
    "name": "ipython",
    "version": 3
   },
   "file_extension": ".py",
   "mimetype": "text/x-python",
   "name": "python",
   "nbconvert_exporter": "python",
   "pygments_lexer": "ipython3",
   "version": "3.10.1"
  }
 },
 "nbformat": 4,
 "nbformat_minor": 2
}
