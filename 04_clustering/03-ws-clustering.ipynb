{
 "cells": [
  {
   "cell_type": "markdown",
   "metadata": {
    "colab_type": "text",
    "id": "lqZzRlK2K8bQ"
   },
   "source": [
    "# Кластеризация."
   ]
  },
  {
   "cell_type": "markdown",
   "metadata": {
    "colab_type": "text",
    "id": "3MFDICFoK8bW"
   },
   "source": [
    "[Кластеризация](https://ru.wikipedia.org/wiki/%D0%9A%D0%BB%D0%B0%D1%81%D1%82%D0%B5%D1%80%D0%BD%D1%8B%D0%B9_%D0%B0%D0%BD%D0%B0%D0%BB%D0%B8%D0%B7) - это один из видов задач обучения без учителя. Задача заключается в разбиении всех объектов на группы похожих между собой объектов и сильно отличающихся от всех остальных. Так как строгого понятия похожести объектов как такового нет, то алгоритмов кластеризации много, да и каждый алгоритм имеет много вариантов работы.\n",
    "\n",
    "![](http://scikit-learn.org/stable/_images/sphx_glr_plot_cluster_comparison_0011.png)"
   ]
  },
  {
   "cell_type": "markdown",
   "metadata": {
    "colab_type": "text",
    "id": "obymGBMbK8bZ"
   },
   "source": [
    "## KMeans\n",
    "\n",
    "Метод k-means - это один из наиболее популярных методов кластеризации. Основная идея метода заключается в том, что на каждой итерации пересчитывается центр масс (центроид) для каждого кластера, полученного на предыдущем шаге, затем объекты снова разбиваются на кластеры согласно тому, какой из новых центроидов находится ближе.\n",
    "Более формально, алгоритм принимает на вход выборку $X_1, \\dots, X_N$ и параметр $k$, указывающий необходимое число кластеров. Выходом алгоритма является набор из $k$ центроидов $\\{\\mu_1, \\dots, \\mu_k\\}$, с помощью которых кластеризация осуществляется путём отнесения каждого объекту к ближайшему центроиду. Все точки внутри одного кластера ближе к центроиду этого кластера, чем к центроиду любого другого кластера.\n",
    "Метод может быть сформулирован как задача оптимизации, а именно, минимизации суммарного квадратичного отклонения точек кластеров от центров этих кластеров по центроидам и кластерам: $$\\sum_{i=1}^k \\sum_{X_n \\in C_i} ||X_n - \\mu_i||^2 \\rightarrow \\min, \\text{где $C_i$ - это $i$-ый кластер, $\\mu_i$ - это центр масс кластера $C_i$.}$$\n",
    "Решение такой задачи оптимизации является NP-трудной задачей, однако существует простой итеративный алгоритм, позволяющий найти локальный минимум указанного функционала. Алгоритм представляет собой последовательное чередование двух шагов до сходимости.\n",
    "Предположим, что как-то (например, случайно) выбраны начальные положения центроидов $\\mu_1, \\dots, \\mu_k$.\n",
    "\n",
    "1. Этап кластеризациu. На данном этапе происходит кластеризация выборки, как было описано выше: каждый объект относится к кластеру ближайшего к нему центроида. Формально, $$C_i = \\{X_n : ||X_n - \\mu_i|| \\leq ||X_n - \\mu_j||, \\text{ для всех $j \\in \\{1, \\dots, k\\}$}\\}.$$\n",
    "\n",
    "2. Этап обновления центроидов. На данном этапе центроиды пересчитываются, как центры масс только что построенных кластеров. Формально, $$\\mu_i = \\frac{1}{|C_i|}\\sum_{X_n \\in C_i} X_n.$$\n",
    "\n",
    "Этот процесс продолжается, пока центроиды и кластеризация продолжают изменяться. Алгоритм гарантированно сходится, однако не гарантируется достижение глобального минимума, а только одного из локальных минимумов. Другим недостатком алгоритма является то, что итоговая кластеризация зависит от выбора исходных центров кластеров. На практике алгоритм запускается несколько раз из различных начальных приближений, а полученные результаты некоторым образом усредняются. Стоит также отметить, что число кластеров необходимо знать заранее. Существуют различные эвристики, позволяющие выбирать в некотором смысле оптимальное число кластеров.\n",
    "\n",
    "_определение взято из материалов курса [ODS](https://habrahabr.ru/company/ods/)_\n",
    "\n",
    "### Литература\n",
    "\n",
    "- [ODS: Обучение без учителя: PCA и кластеризация](https://habrahabr.ru/company/ods/blog/325654/)\n",
    "- [Интересные алгоритмы кластеризации, часть первая: Affinity propagation](https://habrahabr.ru/post/321216/) и другие статьи цикла\n",
    "- [Глава 7: кластеризация и визуализация. К. В. Воронцов](http://www.machinelearning.ru/wiki/images/6/6d/Voron-ML-1.pdf)\n",
    "- [Документация sklearn.clustering](http://scikit-learn.org/stable/modules/clustering.html)\n",
    "- [K-Means Clustering - The Math of Intelligence. Siraj Raval](https://www.youtube.com/watch?v=9991JlKnFmk) объяснение с программированием KMeans вручную"
   ]
  },
  {
   "cell_type": "code",
   "execution_count": null,
   "metadata": {
    "colab": {},
    "colab_type": "code",
    "id": "rmHBRdnnK8bc"
   },
   "outputs": [],
   "source": [
    "import pandas as pd\n",
    "import numpy as np\n",
    "from matplotlib import pyplot as plt\n",
    "import seaborn as sns\n",
    "import random \n",
    "from tqdm.notebook import tqdm\n",
    "\n",
    "%matplotlib inline\n",
    "\n",
    "# Зафиксируем случайность, чтобы у нас получались одинаковые результаты.\n",
    "np.random.seed(seed=42)"
   ]
  },
  {
   "cell_type": "markdown",
   "metadata": {
    "colab_type": "text",
    "id": "VD09nRpv7NuO"
   },
   "source": [
    "## Рассмотрим как работает алгоритм кластеризации KMeans на синтетическом примере."
   ]
  },
  {
   "cell_type": "markdown",
   "metadata": {
    "colab_type": "text",
    "id": "HQwR0YFpK8b0"
   },
   "source": [
    "Бросим на плоскость случайно точки с разными параметрами случайности, чтобы образовались кластеры."
   ]
  },
  {
   "cell_type": "code",
   "execution_count": null,
   "metadata": {
    "colab": {
     "base_uri": "https://localhost:8080/",
     "height": 282
    },
    "colab_type": "code",
    "id": "sjRBZjbwK8b1",
    "outputId": "b44b3a8e-62e4-4605-f4ff-ec1092b5997f"
   },
   "outputs": [],
   "source": [
    "p1 = np.random.normal(loc=0, scale=1, size=(50,2))\n",
    "p2 = np.random.normal(loc=5, scale=2, size=(50,2))\n",
    "p3 = np.random.normal(loc=10, scale=0.8, size=(50,2)) - np.array([5, -5])\n",
    "\n",
    "X = np.concatenate((p1, p2, p3))\n",
    "\n",
    "plt.scatter(p1[:,0], p1[:, 1])\n",
    "plt.scatter(p2[:,0], p2[:, 1])\n",
    "plt.scatter(p3[:,0], p3[:, 1])"
   ]
  },
  {
   "cell_type": "markdown",
   "metadata": {
    "colab_type": "text",
    "id": "dNLycbIcK8b8"
   },
   "source": [
    "Нарисуем точки на плоскости, но без окрашивания точек. Так будет видеть данные алгоритм. Можем ли мы сами понять где и какие кластеры?"
   ]
  },
  {
   "cell_type": "code",
   "execution_count": null,
   "metadata": {
    "colab": {
     "base_uri": "https://localhost:8080/",
     "height": 282
    },
    "colab_type": "code",
    "id": "fxURheSZK8b_",
    "outputId": "db3f87e8-f2a0-49aa-b37d-31b300a703a5"
   },
   "outputs": [],
   "source": [
    "plt.scatter(X[:, 0], X[:, 1])"
   ]
  },
  {
   "cell_type": "markdown",
   "metadata": {
    "colab_type": "text",
    "id": "1Cq-v4DcK8cG"
   },
   "source": [
    "Рассмотрим пошагово работу алгоритма KMneans на основе обычного евклидова расстояния.  \n",
    "\n",
    "_Пример из блога ODS: https://habrahabr.ru/company/ods/blog/325654/_"
   ]
  },
  {
   "cell_type": "markdown",
   "metadata": {
    "colab_type": "text",
    "id": "brNCHa_BIa3_"
   },
   "source": [
    "### 1.1 Напишите функцию, которая рассчитывает расстояния от центров кластеров до каждой точки и возвращает, к какому кластеру принадлежит каждая точка."
   ]
  },
  {
   "cell_type": "code",
   "execution_count": null,
   "metadata": {
    "colab": {},
    "colab_type": "code",
    "id": "dva8c87hAy8u"
   },
   "outputs": [],
   "source": [
    "def kmeans_predict(x: np.ndarray, clusters) -> np.ndarray:\n",
    "    '''\n",
    "    Например, x.shape == (150, 2), clusters.shape = (3, 2)\n",
    "    \n",
    "    Args:\n",
    "        x (numpy.ndarray): [N,D] матрица, где \n",
    "            N - это количество объектов, \n",
    "            D - размерность объекта, \n",
    "            dtype=np.float32\n",
    "        clusters (numpy.ndarray): [C,D] матрица, где \n",
    "            C - это кол-во класетров, \n",
    "            D - размерность объекта, \n",
    "            dtype=np.float32\n",
    "\n",
    "    Returns:\n",
    "        np.ndarray: вектор-столбец размера [N,] типа int32.\n",
    "            Показывает то, к какому кластеру принадлежит каждый объект из x.\n",
    "    '''\n",
    "    labels = np.zeros(x.shape[0], dtype=np.int32)\n",
    "    \n",
    "    #################\n",
    "    #    Ваш код    #\n",
    "    #################\n",
    "\n",
    "    return labels\n",
    "\n",
    "# В scipy есть замечательная функция, которая считает расстояния\n",
    "# между парами точек из двух массивов, подающихся ей на вход\n",
    "# https://docs.scipy.org/doc/scipy/reference/generated/scipy.spatial.distance.cdist.html#scipy.spatial.distance.cdist\n",
    "# Это сократит кол-во for и из-за этого код будет работать намного быстрее\n",
    "# Но так нагляднее"
   ]
  },
  {
   "cell_type": "markdown",
   "metadata": {
    "colab_type": "text",
    "id": "5fWi3EV0J7tE"
   },
   "source": [
    "Проверяем что получилось"
   ]
  },
  {
   "cell_type": "code",
   "execution_count": null,
   "metadata": {
    "colab": {
     "base_uri": "https://localhost:8080/",
     "height": 609
    },
    "colab_type": "code",
    "id": "JyFdvviwHtHt",
    "outputId": "53ce32e3-131a-4136-889e-d3ca15d88b7e"
   },
   "outputs": [],
   "source": [
    "# Генерируем случайные координаты для центров кластеров\n",
    "centroids = np.random.normal(loc=0.0, scale=5., size=6)\n",
    "centroids = centroids.reshape((3, 2)) # итого получаем 3 точки в двумерном пространстве\n",
    "\n",
    "labels = kmeans_predict(X, centroids)\n",
    "assert X.shape[0] == labels.shape[0]\n",
    "\n",
    "plt.figure(figsize=(10, 10))\n",
    "plt.plot(X[labels == 0, 0], X[labels == 0, 1], 'bo', label='cluster #1')\n",
    "plt.plot(X[labels == 1, 0], X[labels == 1, 1], 'co', label='cluster #2')\n",
    "plt.plot(X[labels == 2, 0], X[labels == 2, 1], 'mo', label='cluster #3')\n",
    "plt.plot(centroids[:, 0], centroids[:, 1], 'rX')\n",
    "plt.legend(loc=0)"
   ]
  },
  {
   "cell_type": "markdown",
   "metadata": {
    "colab_type": "text",
    "id": "VhfAeSDFKVBG"
   },
   "source": [
    "### 1.2 Напишите код для обновления центров кластеров. Запоминайте центры кластеров $-$ это понадобится потом для визуализации.\n",
    "Для упрощения каждому облачку данных заранее присвоим кластер.<br>\n",
    "Положим в каждую новую центроиду геометрический центр её точек.<br>"
   ]
  },
  {
   "cell_type": "code",
   "execution_count": null,
   "metadata": {
    "colab": {},
    "colab_type": "code",
    "id": "qITkMymoK8cI"
   },
   "outputs": [],
   "source": [
    "centroids = np.random.normal(loc=0.0, scale=1., size=6).reshape((3, 2))\n",
    "\n",
    "cent_history = [] # История центров кластеров\n",
    "cent_history.append(centroids)\n",
    "\n",
    "STEPS = 5 # количество шагов итерации обновления центров кластеров\n",
    "\n",
    "for i in range(STEPS):\n",
    "    labels = kmeans_predict(X, centroids)\n",
    "\n",
    "    #################\n",
    "    #    Ваш код    #\n",
    "    #################\n",
    "\n",
    "    cent_history.append(centroids)"
   ]
  },
  {
   "cell_type": "markdown",
   "metadata": {
    "colab_type": "text",
    "id": "NbfK0_GdBtMi"
   },
   "source": [
    "А теперь нарисуем всю эту красоту"
   ]
  },
  {
   "cell_type": "code",
   "execution_count": null,
   "metadata": {
    "colab": {
     "base_uri": "https://localhost:8080/",
     "height": 592
    },
    "colab_type": "code",
    "id": "YJxWXjExBsJU",
    "outputId": "416b5074-451a-432b-f83e-fe883efbd796"
   },
   "outputs": [],
   "source": [
    "plt.figure(figsize=(15, 15))\n",
    "for i in range(STEPS + 1):\n",
    "    labels = kmeans_predict(X, cent_history[i])\n",
    "\n",
    "    plt.subplot((STEPS + 1) // 2, (STEPS + 1) // 2, i + 1)\n",
    "    plt.plot(X[labels == 0, 0], X[labels == 0, 1], 'bo', label='cluster #1')\n",
    "    plt.plot(X[labels == 1, 0], X[labels == 1, 1], 'co', label='cluster #2')\n",
    "    plt.plot(X[labels == 2, 0], X[labels == 2, 1], 'mo', label='cluster #3')\n",
    "    plt.plot(cent_history[i][:, 0], cent_history[i][:, 1], 'rX')\n",
    "    plt.legend(loc=0)\n",
    "    plt.title('Step {:}'.format(i + 1));"
   ]
  },
  {
   "cell_type": "markdown",
   "metadata": {
    "colab_type": "text",
    "id": "lKJOPKGyK8cN"
   },
   "source": [
    "Обратите внимание, последние 3 шага уже не сильно изменили координаты центров кластеров и состав кластеров."
   ]
  },
  {
   "cell_type": "markdown",
   "metadata": {
    "colab_type": "text",
    "id": "6fKWP5RULDgy"
   },
   "source": [
    "### 1.3 Напишите функцию обучения kMeans, которая возвращает центры кластеров и к какому кластеру принадлежит каждая точка. "
   ]
  },
  {
   "cell_type": "code",
   "execution_count": null,
   "metadata": {
    "colab": {},
    "colab_type": "code",
    "id": "DI6PMnLBAimu"
   },
   "outputs": [],
   "source": [
    "def kmeans_fit(x: np.ndarray, k=8, max_iter=100, tol=0.1, low=0.0, high=1.0) -> (np.ndarray, np.ndarray):\n",
    "    '''\n",
    "    Args:\n",
    "        x (numpy.ndarray): датасет, [N,D] матрица, где \n",
    "            N - это количество объектов, \n",
    "            D - размерность объекта, \n",
    "            dtype=np.float32\n",
    "        k (int): кол-во кластеров\n",
    "        max_iter (int): - через сколько итераций остановится\n",
    "        tol (float): - если сумма расстояний между прошлыми центрами кластеров и новыми центрами меньше tol, то остановится\n",
    "        low (float): - это минимально значение, которое могут принимать точки центров кластеров при генерации\n",
    "        high (float): - это максимально значение, которое могут принимать точки центров кластеров при генерации\n",
    "    Returns:\n",
    "        clusters (np.ndarray): матрица размера [k, D] - список центров класетров\n",
    "        labels (np.ndarray): вектор столбец [N,] - список лейблов для каждого объекта из x\n",
    "    '''\n",
    "    D = 1\n",
    "    if len(x.shape) == 2: # если у одномерного массива в numpy попросить shape[1] будет ошибка(\n",
    "        D = x.shape[1]\n",
    "\n",
    "    clusters = np.random.uniform(low=low, high=high, size=(k, D)) # Из равномерного распределения\n",
    "    \n",
    "    iteration = 0\n",
    "\n",
    "    while iteration <= max_iter:\n",
    "        pass\n",
    "    \n",
    "        ###########################\n",
    "        #    Много вашего кода    #\n",
    "        ###########################\n",
    "\n",
    "        iteration += 1\n",
    "\n",
    "    return clusters, labels"
   ]
  },
  {
   "cell_type": "markdown",
   "metadata": {
    "colab_type": "text",
    "id": "XJzBFwAnK8cP"
   },
   "source": [
    "## MNIST\n",
    "\n",
    "Рассморим датасет рукописных цирф MNIST http://yann.lecun.com/exdb/mnist/"
   ]
  },
  {
   "cell_type": "code",
   "execution_count": null,
   "metadata": {
    "colab": {
     "base_uri": "https://localhost:8080/",
     "height": 51
    },
    "colab_type": "code",
    "id": "Ugb2ZmrKK8cQ",
    "outputId": "2634b5ff-cab0-46d6-deb2-82e7ef1feaa4"
   },
   "outputs": [],
   "source": [
    "from sklearn import datasets\n",
    "\n",
    "X, y = datasets.load_digits(return_X_y=True) # мы можем сразу же загрузить этот игрушечный датасет\n",
    "\n",
    "print(\"Экземпляров: {}\\nРазмер изображения: {}x{}\".format(X.shape[0], np.sqrt(X.shape[1]), np.sqrt(X.shape[1])))"
   ]
  },
  {
   "cell_type": "code",
   "execution_count": null,
   "metadata": {
    "colab": {
     "base_uri": "https://localhost:8080/",
     "height": 374
    },
    "colab_type": "code",
    "id": "VGPtJQGyK8cV",
    "outputId": "beaf5034-00f7-47ed-bd44-54d59124aacf"
   },
   "outputs": [],
   "source": [
    "plt.figure(figsize=(16, 6))\n",
    "for i in range(10):\n",
    "    plt.subplot(2, 5, i + 1)\n",
    "    plt.imshow(X[i,:].reshape([8,8]), cmap='gray')"
   ]
  },
  {
   "cell_type": "markdown",
   "metadata": {},
   "source": [
    "Натренируем наш kMeans"
   ]
  },
  {
   "cell_type": "code",
   "execution_count": null,
   "metadata": {},
   "outputs": [],
   "source": [
    "clusters_mnist, labels_mnist = kmeans_fit_predict(\n",
    "    X, \n",
    "    k=?????????, # сколько у нас кластеров? \n",
    "    low=0.0, \n",
    "    high=np.max(X), \n",
    "    tol=5,\n",
    ")"
   ]
  },
  {
   "cell_type": "markdown",
   "metadata": {},
   "source": [
    "Проверим. Выведем 10 точек из какого нибудь кластера и посмотрим, что они соотвествуют одной цифре."
   ]
  },
  {
   "cell_type": "code",
   "execution_count": null,
   "metadata": {},
   "outputs": [],
   "source": [
    "number = 3 # Номер кластера\n",
    "count = 10 # Кол-во примеров\n",
    "testX = X[y == number]\n",
    "\n",
    "testX[0,:].reshape([8,8])\n",
    "f, axes = plt.subplots(1, count, sharey=True, figsize=(40,6))\n",
    "for i in range(count):\n",
    "    print(labels_mnist[y == number][i], end=' ')\n",
    "    axes[i].imshow(testX[i,:].reshape([8,8]), cmap='gray')"
   ]
  },
  {
   "cell_type": "markdown",
   "metadata": {
    "colab_type": "text",
    "id": "qvzKhopNK8dE"
   },
   "source": [
    "## Центры кластеров фотографий\n",
    "\n",
    "Можно найти центры кластеров по фотографиям людей...."
   ]
  },
  {
   "cell_type": "code",
   "execution_count": null,
   "metadata": {
    "colab": {
     "base_uri": "https://localhost:8080/",
     "height": 85
    },
    "colab_type": "code",
    "id": "ah3omas5K8dF",
    "outputId": "7be8e628-79ea-4d67-9b49-a460786e228f"
   },
   "outputs": [],
   "source": [
    "# загрузим датасет с фотографиями знаменитостей\n",
    "from sklearn import datasets\n",
    "lfw_people = datasets.fetch_lfw_people(min_faces_per_person=50, resize=0.4)"
   ]
  },
  {
   "cell_type": "code",
   "execution_count": null,
   "metadata": {
    "colab": {
     "base_uri": "https://localhost:8080/",
     "height": 565
    },
    "colab_type": "code",
    "id": "z43o_DFsK8dJ",
    "outputId": "09775436-1a8e-4f8f-c18f-02052ed2a427"
   },
   "outputs": [],
   "source": [
    "fig = plt.figure(figsize=(8, 6))\n",
    "\n",
    "for i in range(15):\n",
    "    ax = fig.add_subplot(3, 5, i + 1, xticks=[], yticks=[])\n",
    "    ax.imshow(lfw_people.images[i], cmap='bone')\n",
    "\n",
    "for i, name in enumerate(lfw_people.target_names):\n",
    "    print(\"{}: {} photos.\".format(name, (lfw_people.target == i).sum()))"
   ]
  },
  {
   "cell_type": "markdown",
   "metadata": {},
   "source": [
    "### 3.1 Натренируйте kMeans и нарисуйте центры кластеров как картинки выше."
   ]
  },
  {
   "cell_type": "code",
   "execution_count": null,
   "metadata": {
    "colab": {
     "base_uri": "https://localhost:8080/",
     "height": 1000
    },
    "colab_type": "code",
    "id": "FlKFYtgKK8dS",
    "outputId": "34cb0db5-8182-4d09-abbd-61aadd324a72"
   },
   "outputs": [],
   "source": [
    "#################\n",
    "#    Ваш код    #\n",
    "#################"
   ]
  },
  {
   "cell_type": "code",
   "execution_count": null,
   "metadata": {},
   "outputs": [],
   "source": [
    "plt.figure(figsize=(16, 6))\n",
    "\n",
    "for i, center in enumerate(clusters_):\n",
    "    plt.subplot(2, 6, i + 1)\n",
    "    plt.imshow(center[:].reshape([50,37]), cmap='bone')"
   ]
  },
  {
   "cell_type": "markdown",
   "metadata": {
    "colab_type": "text",
    "id": "q9Wh76xCOQ9p"
   },
   "source": [
    "## Птичка \n",
    "\n",
    "С помощью алгоритмов кластеризации можно уменьшить число цветов в изображении. В данном случае будут кластеризоваться похожие пиксели. Такой подход позволяет перейти к суперпиксельному представлению изображений, которое является более компактным и используется в задачах компьютерного зрения."
   ]
  },
  {
   "cell_type": "markdown",
   "metadata": {
    "colab_type": "text",
    "id": "_kXg4N4jOQ9q"
   },
   "source": [
    "Загрузим картинку `data/bird.jpg` с помощью scikit-image и выведем ее с помощью matplotlib."
   ]
  },
  {
   "cell_type": "code",
   "execution_count": null,
   "metadata": {
    "colab": {},
    "colab_type": "code",
    "id": "ZF25dcQ-OQ9r",
    "outputId": "43796fcb-1590-422e-cbde-a4d15d8a9ed8"
   },
   "outputs": [],
   "source": [
    "from PIL import Image\n",
    "import numpy as np\n",
    "\n",
    "img_pil = Image.open(\"data/bird.jpg\")\n",
    "img_pil"
   ]
  },
  {
   "cell_type": "markdown",
   "metadata": {
    "colab_type": "text",
    "id": "UqCBjq_qOQ9u"
   },
   "source": [
    "### 4.1 Scale \n",
    "\n",
    "Если вы посмотрите на содержимое numpy-массива, в котором хранится изображение, то увидите, что там будут числа от 0 до 255. Нам лучше перейти к числам от 0 до 1. \n",
    "\n",
    "**Преобразуйте вашу матрицу, как сказано выше.**\n",
    "\n",
    "**Hint**: Это можно сделать с помощью функции `skimage.img_as_float`."
   ]
  },
  {
   "cell_type": "code",
   "execution_count": null,
   "metadata": {
    "colab": {},
    "colab_type": "code",
    "id": "WWUi5FV8OQ9v"
   },
   "outputs": [],
   "source": []
  },
  {
   "cell_type": "markdown",
   "metadata": {
    "colab_type": "text",
    "id": "jq9jzX7MOQ9x"
   },
   "source": [
    "### 4.2 Reshape \n",
    "\n",
    "Мы получили матрицу размера `(300, 400, 3)`. Нам это не подходит. Чтобы запустить kMeans нам нужно иметь много-много объектов и 3 признака - значение яркости пикселя в канале Red, Green и Blue. \n",
    "\n",
    "**Преобразуйте матрицу так, чтобы получилась матрица размера `(120000, 3)`. **\n",
    "\n",
    "**Hint**: Вам пригодятся функции: `np.ravel` и `np.vstack`."
   ]
  },
  {
   "cell_type": "code",
   "execution_count": null,
   "metadata": {
    "colab": {},
    "colab_type": "code",
    "id": "CXH-nIsqOQ9y"
   },
   "outputs": [],
   "source": []
  },
  {
   "cell_type": "markdown",
   "metadata": {
    "colab_type": "text",
    "id": "z3tdCNHROQ90"
   },
   "source": [
    "### 4.3 Train \n",
    "\n",
    "Отлично. У нас есть подготовленные данные. Теперь мы будем находить кластеры похожих пикселей по цвету. Для этого создайте KMeans для, например, 8 цветов. **Обучите модель** (может занять около 10 секунд). С помощью магического макроса `%time` **покажите, сколько времени у вас занимало обучение**."
   ]
  },
  {
   "cell_type": "code",
   "execution_count": null,
   "metadata": {
    "colab": {},
    "colab_type": "code",
    "id": "FimSKrA4OQ91"
   },
   "outputs": [],
   "source": []
  },
  {
   "cell_type": "markdown",
   "metadata": {
    "colab_type": "text",
    "id": "nnEuBc0COQ93"
   },
   "source": [
    "### 4.4 Draw centroids \n",
    "\n",
    "**Нарисуйте с помощью imshow центры кластеров**: будет 8 пикселей со средним цветом по всему кластеру. \n",
    "Это называется цветовой палитрой. \n",
    "\n",
    "**Hint**: reshape в 3 мерный массив, так как у вас будет 2-мерный"
   ]
  },
  {
   "cell_type": "code",
   "execution_count": null,
   "metadata": {
    "colab": {},
    "colab_type": "code",
    "id": "SCz1YtcrOQ94"
   },
   "outputs": [],
   "source": []
  },
  {
   "cell_type": "markdown",
   "metadata": {
    "colab_type": "text",
    "id": "6dFTinWjOQ98"
   },
   "source": [
    "### 4.5 Draw final image \n",
    "\n",
    "У нас есть значения цвета для каждого центра кластера. Каждый пиксель в результате обучения KMeans теперь имеет свой лейбл кластера. Значит мы можем заменить все пиксели на соответсвующие им центры класетров. Проведите это преобразование и выведите 8-цветное изображение.\n",
    "\n",
    "**Hints**: `labels_`, `reshape`, `copy`, логические маски в numpy `arr[arr == 1] = 0`. У меня это 7 строк кода."
   ]
  },
  {
   "cell_type": "code",
   "execution_count": null,
   "metadata": {
    "colab": {},
    "colab_type": "code",
    "id": "6AD2wasPOQ99"
   },
   "outputs": [],
   "source": []
  },
  {
   "cell_type": "markdown",
   "metadata": {
    "colab_type": "text",
    "id": "mmSYDASPwPM2"
   },
   "source": [
    "## Визуализация 64-мерного простарансва MNIST использую PCA\n",
    "\n",
    "Просто так визуализировать 64-мерный (8x8 пикселей - это 64 пикселя) объект не получится, нам нужно уменьшить его размерность до 2, чтобы он укладывался на плоскость.\n",
    "\n",
    "Существует специальный алгоритм PCA - Метод главных компонент."
   ]
  },
  {
   "cell_type": "markdown",
   "metadata": {
    "colab_type": "text",
    "id": "S7bA3UmyK8bl"
   },
   "source": [
    "![](http://scikit-learn.org/stable/_static/scikit-learn-logo-small.png)\n",
    "\n",
    "Далее мы будем использовать библиотеку [scikit-learn](http://scikit-learn.org/). По сути это библиотека-набор разных алгоритмов анализа данных, машинного обучения.\n",
    "\n",
    "Документация по библиотеке всегда доступна:\n",
    "- по ? в jupyter\n",
    "- по комбинации shift-tab в jupyter\n",
    "- на сайте http://scikit-learn.org/stable/documentation.html"
   ]
  },
  {
   "cell_type": "markdown",
   "metadata": {
    "colab_type": "text",
    "id": "i8X8uxRHK8ch"
   },
   "source": [
    "Просто так визуализировать 64-мерный объект не получится, нам нужно уменьшить его размерность до 2, чтобы он укладывался на плоскость.\n",
    "\n",
    "Существует специальный алгоритм PCA -  [Метод главных компонент](https://ru.wikipedia.org/wiki/%D0%9C%D0%B5%D1%82%D0%BE%D0%B4_%D0%B3%D0%BB%D0%B0%D0%B2%D0%BD%D1%8B%D1%85_%D0%BA%D0%BE%D0%BC%D0%BF%D0%BE%D0%BD%D0%B5%D0%BD%D1%82).\n",
    "\n",
    "Нарисуем scatter plot для тренировочной выборки: на графике у нас будут точки, помеченные лейблом - цифрой которую обозначает эта точка в пространстве."
   ]
  },
  {
   "cell_type": "code",
   "execution_count": null,
   "metadata": {},
   "outputs": [],
   "source": [
    "from sklearn import datasets\n",
    "\n",
    "X, y = datasets.load_digits(return_X_y=True) # мы можем сразу же загрузить этот игрушечный датасет\n",
    "\n",
    "print(\"Экземпляров: {}\\nРазмер изображения: {}x{}\".format(X.shape[0], np.sqrt(X.shape[1]), np.sqrt(X.shape[1])))"
   ]
  },
  {
   "cell_type": "code",
   "execution_count": null,
   "metadata": {
    "colab": {},
    "colab_type": "code",
    "id": "D7XYjy3bK8ci",
    "outputId": "cc690c1e-8caa-4d11-fd88-370ea9c118b7"
   },
   "outputs": [],
   "source": [
    "from sklearn.decomposition import PCA\n",
    "pca = PCA(n_components=2, random_state=42) # 2 компоненты, значит 2-мерное представление\n",
    "\n",
    "X_reduced = pca.fit_transform(X)\n",
    "plt.figure(figsize=(14,12))\n",
    "plt.scatter(X_reduced[:,0], X_reduced[:,1], c=y, cmap=plt.cm.get_cmap('nipy_spectral', 10),\n",
    "            edgecolor='none', alpha=0.8, s=30,)\n",
    "plt.colorbar()"
   ]
  },
  {
   "cell_type": "markdown",
   "metadata": {
    "colab_type": "text",
    "id": "LiruaWPEK8cn"
   },
   "source": [
    "А теперь посмотрим как расставил границы наш алгоритм KMeans. Как видим - хоть цвета и перепутаны, но сами кластеры угадываются."
   ]
  },
  {
   "cell_type": "code",
   "execution_count": null,
   "metadata": {
    "colab": {},
    "colab_type": "code",
    "id": "F1VlPzFHK8co",
    "outputId": "d8067f9f-7642-4729-8487-9d1eaad17932"
   },
   "outputs": [],
   "source": [
    "plt.figure(figsize=(14,12))\n",
    "plt.scatter(X_reduced[:,0], X_reduced[:,1], c=clf.labels_, cmap=plt.cm.get_cmap('nipy_spectral', 10),\n",
    "            edgecolor='none', alpha=0.8, s=30,)\n",
    "plt.colorbar()"
   ]
  },
  {
   "cell_type": "markdown",
   "metadata": {
    "colab_type": "text",
    "id": "21I0YcAvK8cx"
   },
   "source": [
    "Центры кластеров представляют из себя нечто среднее, окруженное максимально \"похожими\" на них элементами. Поэтому мы можем предположить, что на визуализации, центры кластеров будут похожи на цифры.\n",
    "\n",
    "Центры кластеров можно получить у модели `clf.cluster_centers_`."
   ]
  },
  {
   "cell_type": "code",
   "execution_count": null,
   "metadata": {
    "colab": {},
    "colab_type": "code",
    "id": "RyPYF1liK8cy",
    "outputId": "cb466a94-4de4-4387-e4c0-6a5af7e7f1ac"
   },
   "outputs": [],
   "source": [
    "plt.figure(figsize=(16, 6))\n",
    "\n",
    "for i, center in enumerate(clf.cluster_centers_):\n",
    "    plt.subplot(2, 5, i + 1)\n",
    "    plt.imshow(center[:].reshape([8,8]), cmap='gray')"
   ]
  },
  {
   "cell_type": "markdown",
   "metadata": {
    "colab_type": "text",
    "id": "3FqBGb5HK8c3"
   },
   "source": [
    "Существуют и другие методы понижения размерности, например t-SNE, но он намного медленнее чем PCA.\n",
    "\n",
    "Мы пока что не изучаем как именно работают PCA и tSNE, просто восхтимся их способностями."
   ]
  },
  {
   "cell_type": "code",
   "execution_count": null,
   "metadata": {
    "colab": {},
    "colab_type": "code",
    "id": "B4cobV07K8c5",
    "outputId": "a8cad8f7-05b9-426a-d4ec-73ece40b55c4"
   },
   "outputs": [],
   "source": [
    "from sklearn.manifold import TSNE\n",
    "\n",
    "tsne = TSNE(n_components=2, init='pca', random_state=42)\n",
    "X_reduced_t = tsne.fit_transform(X)\n",
    "\n",
    "plt.figure(figsize=(14,12))\n",
    "plt.scatter(X_reduced_t[:,0], X_reduced_t[:,1], c=y, cmap=plt.cm.get_cmap('nipy_spectral', 10),\n",
    "            edgecolor='none', alpha=0.8, s=30,)\n",
    "plt.colorbar()"
   ]
  },
  {
   "cell_type": "markdown",
   "metadata": {
    "colab_type": "text",
    "id": "ww9xIfhXK8c-"
   },
   "source": [
    "Теперь нарисуем тот же scatter-plot, только на основе лейблов из kMeans. Ожидаем что кластеры будут покрашены в нужные цвета."
   ]
  },
  {
   "cell_type": "code",
   "execution_count": null,
   "metadata": {
    "colab": {},
    "colab_type": "code",
    "id": "eqf5mFEgK8c_",
    "outputId": "97a6fa06-e34f-418d-e57c-759aa496fb51"
   },
   "outputs": [],
   "source": [
    "plt.figure(figsize=(14,12))\n",
    "plt.scatter(X_reduced_t[:,0], X_reduced_t[:,1], c=clf.labels_, cmap=plt.cm.get_cmap('nipy_spectral', 10),\n",
    "            edgecolor='none', alpha=0.8, s=30,)\n",
    "plt.colorbar()"
   ]
  },
  {
   "cell_type": "markdown",
   "metadata": {},
   "source": [
    "## Бонусная секция"
   ]
  },
  {
   "cell_type": "markdown",
   "metadata": {
    "colab_type": "text",
    "id": "a8i0LBJWK8dX"
   },
   "source": [
    "## Playboy\n",
    "\n",
    "Анализ изменений стандартов красоты девушек на основе статистики журнала Playboy за последние 55 лет.\n",
    "\n",
    "Мы с вами проверим, можно ли с помощью KMeans определить кластеры по размерам и соотнести их с годом."
   ]
  },
  {
   "cell_type": "code",
   "execution_count": null,
   "metadata": {
    "colab": {},
    "colab_type": "code",
    "id": "5l3CeHYJK8dX",
    "outputId": "a7496f49-98a2-4ea1-b0f0-b2e567962392"
   },
   "outputs": [],
   "source": [
    "data = pd.read_csv('../../data/girls.csv')\n",
    "data.head()"
   ]
  },
  {
   "cell_type": "code",
   "execution_count": null,
   "metadata": {
    "colab": {},
    "colab_type": "code",
    "id": "lLYBjaTRK8dd",
    "outputId": "a31d454b-51e3-49ad-a605-12ffe956ea0d",
    "scrolled": false
   },
   "outputs": [],
   "source": [
    "sns.lmplot(x='Year', y='Height', data=data)\n",
    "sns.lmplot(x='Year', y='Weight', data=data)\n",
    "sns.lmplot(x='Year', y='Bust',   data=data)\n",
    "sns.lmplot(x='Year', y='Waist',  data=data)\n",
    "sns.lmplot(x='Year', y='Hips',   data=data)"
   ]
  },
  {
   "cell_type": "markdown",
   "metadata": {
    "colab_type": "text",
    "id": "NOCGsm0_K8dg"
   },
   "source": [
    "Вывод:\n",
    "\n",
    "|Метрика|Изменение|\n",
    "|-------|\n",
    "|Рост|+|\n",
    "|Вес|=|\n",
    "|Грудь|-|\n",
    "|Талия|=|\n",
    "|Бедра|-|"
   ]
  },
  {
   "cell_type": "code",
   "execution_count": null,
   "metadata": {
    "colab": {},
    "colab_type": "code",
    "id": "DYL68pJ4K8di",
    "outputId": "654ea4f2-47e9-437c-cfa3-ccae5f96923a"
   },
   "outputs": [],
   "source": [
    "from mpl_toolkits.mplot3d import Axes3D\n",
    "\n",
    "fig = plt.figure()\n",
    "ax = fig.add_subplot(111, projection='3d')\n",
    "ax.scatter(data['Waist'], data['Bust'], data['Hips'])"
   ]
  },
  {
   "cell_type": "markdown",
   "metadata": {
    "colab_type": "text",
    "id": "3Mv_B9kjK8dk"
   },
   "source": [
    "Ничего не видно на триде графике. Нужно спроецировать его на плоскость каким-то хитрым способом. "
   ]
  },
  {
   "cell_type": "code",
   "execution_count": null,
   "metadata": {
    "colab": {},
    "colab_type": "code",
    "id": "p1-q64acK8dm",
    "outputId": "59845609-dd0b-44a0-9c3a-9bf429a0399f"
   },
   "outputs": [],
   "source": [
    "from sklearn.decomposition import PCA  # инструмент понижения размерности\n",
    "from sklearn.preprocessing import RobustScaler  # нормализация признаков\n",
    "\n",
    "pca = PCA(n_components=2)\n",
    "s = RobustScaler()\n",
    "p = pca.fit_transform(s.fit_transform(data[['Bust','Waist','Hips', 'Height', 'Weight']]))\n",
    "\n",
    "data['px'] = p[:,0]\n",
    "data['py'] = p[:,1]\n",
    "\n",
    "date = 1990\n",
    "old = data[data['Year'] < date]\n",
    "new = data[data['Year'] >= date]\n",
    "plt.scatter(old['px'], old['py'], alpha=0.6)\n",
    "plt.scatter(new['px'], new['py'], alpha=0.6)"
   ]
  },
  {
   "cell_type": "code",
   "execution_count": null,
   "metadata": {
    "colab": {},
    "colab_type": "code",
    "id": "uK0-uzmuK8dr",
    "outputId": "ae0683e7-ebdb-4e84-ebba-f720fb90d81b"
   },
   "outputs": [],
   "source": [
    "from sklearn.cluster import KMeans\n",
    "\n",
    "clf = KMeans(n_clusters=4)\n",
    "x = data[['Bust','Waist','Hips', 'Height', 'Weight']]\n",
    "clf.fit(s.fit_transform(x))\n",
    "\n",
    "data['label'] = clf.labels_\n",
    "plt.scatter(data['px'], data['py'], c=clf.labels_)\n",
    "print(len(set(clf.labels_)))"
   ]
  },
  {
   "cell_type": "code",
   "execution_count": null,
   "metadata": {
    "colab": {},
    "colab_type": "code",
    "id": "JFXSwr6sK8dv",
    "outputId": "00b082e3-ec03-4700-e54f-3efe07c65bd8"
   },
   "outputs": [],
   "source": [
    "for i in data['label'].unique():\n",
    "    sns.distplot(data[data['label'] == i]['Year'],hist=False)\n",
    "data.groupby('label')[['Bust', 'Waist', 'Hips', 'Height', 'Weight']].mean()"
   ]
  }
 ],
 "metadata": {
  "colab": {
   "collapsed_sections": [
    "VD09nRpv7NuO",
    "XJzBFwAnK8cP",
    "qvzKhopNK8dE",
    "mmSYDASPwPM2",
    "a8i0LBJWK8dX"
   ],
   "name": "02-workshop-clustering.ipynb",
   "provenance": []
  },
  "kernelspec": {
   "display_name": "Python 3 (ipykernel)",
   "language": "python",
   "name": "python3"
  },
  "language_info": {
   "codemirror_mode": {
    "name": "ipython",
    "version": 3
   },
   "file_extension": ".py",
   "mimetype": "text/x-python",
   "name": "python",
   "nbconvert_exporter": "python",
   "pygments_lexer": "ipython3",
   "version": "3.10.1"
  }
 },
 "nbformat": 4,
 "nbformat_minor": 1
}
