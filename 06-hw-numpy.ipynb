{
 "cells": [
  {
   "cell_type": "markdown",
   "metadata": {},
   "source": [
    "# Домашняя работа. Numpy\n",
    "\n",
    "1. Скачайте этот ноутбук к себе.\n",
    "2. Заполните пропущенные ячейки, отвечая на заданные вопросы. Там должен быть код! (если не сказано обратное)\n",
    "3. Сохраните результат в своём гитхаб репозитории.\n",
    "\n",
    "#### Полезная литература\n",
    "\n",
    "- http://www.numpy.org/\n",
    "- https://jakevdp.github.io/PythonDataScienceHandbook/02.00-introduction-to-numpy.html\n",
    "- https://docs.scipy.org/doc/numpy/user/quickstart.html"
   ]
  },
  {
   "cell_type": "markdown",
   "metadata": {},
   "source": [
    "1) Импортировать numpy и написать версию"
   ]
  },
  {
   "cell_type": "code",
   "metadata": {
    "ExecuteTime": {
     "end_time": "2024-10-12T13:38:28.035708Z",
     "start_time": "2024-10-12T13:38:27.941785Z"
    }
   },
   "source": [
    "import numpy as np\n",
    "np.__version__"
   ],
   "outputs": [
    {
     "data": {
      "text/plain": [
       "'2.0.2'"
      ]
     },
     "execution_count": 1,
     "metadata": {},
     "output_type": "execute_result"
    }
   ],
   "execution_count": 1
  },
  {
   "cell_type": "markdown",
   "metadata": {},
   "source": [
    "2) Создать нулевой вектор размера 10"
   ]
  },
  {
   "cell_type": "code",
   "metadata": {
    "ExecuteTime": {
     "end_time": "2024-10-12T13:38:30.759804Z",
     "start_time": "2024-10-12T13:38:30.755031Z"
    }
   },
   "source": [
    "zeros_vector = np.zeros(10)\n",
    "zeros_vector"
   ],
   "outputs": [
    {
     "data": {
      "text/plain": [
       "array([0., 0., 0., 0., 0., 0., 0., 0., 0., 0.])"
      ]
     },
     "execution_count": 2,
     "metadata": {},
     "output_type": "execute_result"
    }
   ],
   "execution_count": 2
  },
  {
   "cell_type": "markdown",
   "metadata": {},
   "source": [
    "3) Создать вектор заполненный 7-ами размера 7"
   ]
  },
  {
   "cell_type": "code",
   "metadata": {
    "ExecuteTime": {
     "end_time": "2024-10-12T13:40:11.281738Z",
     "start_time": "2024-10-12T13:40:11.271422Z"
    }
   },
   "source": [
    "sevens_vector = np.full(7, 7)\n",
    "sevens_vector"
   ],
   "outputs": [
    {
     "data": {
      "text/plain": [
       "array([7, 7, 7, 7, 7, 7, 7])"
      ]
     },
     "execution_count": 3,
     "metadata": {},
     "output_type": "execute_result"
    }
   ],
   "execution_count": 3
  },
  {
   "cell_type": "markdown",
   "metadata": {},
   "source": [
    "4) Создать вектор заполненный четными числами от 10 до 100"
   ]
  },
  {
   "cell_type": "code",
   "metadata": {
    "ExecuteTime": {
     "end_time": "2024-10-12T13:40:48.447645Z",
     "start_time": "2024-10-12T13:40:48.438926Z"
    }
   },
   "source": [
    "even_vector = np.arange(10, 101, 2)\n",
    "even_vector"
   ],
   "outputs": [
    {
     "data": {
      "text/plain": [
       "array([ 10,  12,  14,  16,  18,  20,  22,  24,  26,  28,  30,  32,  34,\n",
       "        36,  38,  40,  42,  44,  46,  48,  50,  52,  54,  56,  58,  60,\n",
       "        62,  64,  66,  68,  70,  72,  74,  76,  78,  80,  82,  84,  86,\n",
       "        88,  90,  92,  94,  96,  98, 100])"
      ]
     },
     "execution_count": 4,
     "metadata": {},
     "output_type": "execute_result"
    }
   ],
   "execution_count": 4
  },
  {
   "cell_type": "markdown",
   "metadata": {},
   "source": [
    "5) Создать массив случайных чисел и развернуть его задом наперёд"
   ]
  },
  {
   "cell_type": "code",
   "metadata": {
    "ExecuteTime": {
     "end_time": "2024-10-12T13:43:37.262963Z",
     "start_time": "2024-10-12T13:43:37.254318Z"
    }
   },
   "source": [
    "random_array = np.random.randint(0, 100, size=10)\n",
    "reversed_array = random_array[::-1]\n",
    "random_array, reversed_array"
   ],
   "outputs": [
    {
     "data": {
      "text/plain": [
       "(array([92, 23, 44, 73, 66, 11, 67, 95, 78, 71]),\n",
       " array([71, 78, 95, 67, 11, 66, 73, 44, 23, 92]))"
      ]
     },
     "execution_count": 10,
     "metadata": {},
     "output_type": "execute_result"
    }
   ],
   "execution_count": 10
  },
  {
   "cell_type": "markdown",
   "metadata": {},
   "source": [
    "6) Создать двумерную матрицу размера 3 на 3, заполненную числами от 0 до 9"
   ]
  },
  {
   "cell_type": "code",
   "metadata": {
    "ExecuteTime": {
     "end_time": "2024-10-12T13:45:00.973427Z",
     "start_time": "2024-10-12T13:45:00.956568Z"
    }
   },
   "source": [
    "matrix_3x3 = np.arange(1, 10).reshape(3, 3)\n",
    "matrix_3x3"
   ],
   "outputs": [
    {
     "data": {
      "text/plain": [
       "array([[1, 2, 3],\n",
       "       [4, 5, 6],\n",
       "       [7, 8, 9]])"
      ]
     },
     "execution_count": 13,
     "metadata": {},
     "output_type": "execute_result"
    }
   ],
   "execution_count": 13
  },
  {
   "cell_type": "markdown",
   "metadata": {},
   "source": [
    "7) Создать матрицу размера 4 на 4 с единицами на диагонали смещеной на один наверх."
   ]
  },
  {
   "cell_type": "code",
   "metadata": {
    "ExecuteTime": {
     "end_time": "2024-10-12T13:46:14.052975Z",
     "start_time": "2024-10-12T13:46:14.045998Z"
    }
   },
   "source": [
    "matrix_4x4 = np.eye(4, k=1, dtype=int)\n",
    "matrix_4x4"
   ],
   "outputs": [
    {
     "data": {
      "text/plain": [
       "array([[0, 1, 0, 0],\n",
       "       [0, 0, 1, 0],\n",
       "       [0, 0, 0, 1],\n",
       "       [0, 0, 0, 0]])"
      ]
     },
     "execution_count": 15,
     "metadata": {},
     "output_type": "execute_result"
    }
   ],
   "execution_count": 15
  },
  {
   "cell_type": "markdown",
   "metadata": {},
   "source": [
    "8) Создать матрицу с числами в диапазоне от 1 до 4 по диагонали. В других ячейках матрицы должны быть семерки."
   ]
  },
  {
   "cell_type": "code",
   "metadata": {
    "ExecuteTime": {
     "end_time": "2024-10-12T13:47:32.041869Z",
     "start_time": "2024-10-12T13:47:32.017851Z"
    }
   },
   "source": [
    "matrix = np.full((4, 4), 7)\n",
    "np.fill_diagonal(matrix, np.arange(1, 5))\n",
    "matrix"
   ],
   "outputs": [
    {
     "data": {
      "text/plain": [
       "array([[1, 7, 7, 7],\n",
       "       [7, 2, 7, 7],\n",
       "       [7, 7, 3, 7],\n",
       "       [7, 7, 7, 4]])"
      ]
     },
     "execution_count": 16,
     "metadata": {},
     "output_type": "execute_result"
    }
   ],
   "execution_count": 16
  },
  {
   "cell_type": "markdown",
   "metadata": {},
   "source": [
    "9) Создать матрицу размера 5 на 5 заполненную чилами от 0 до 4 в строках."
   ]
  },
  {
   "metadata": {
    "ExecuteTime": {
     "end_time": "2024-10-16T15:05:09.788299Z",
     "start_time": "2024-10-16T15:05:09.778714Z"
    }
   },
   "cell_type": "code",
   "source": [
    "row = np.array([0, 1, 2, 3, 4])\n",
    "matrix_5x5 = np.tile(row, (5, 1))\n",
    "matrix_5x5"
   ],
   "outputs": [
    {
     "data": {
      "text/plain": [
       "array([[0, 1, 2, 3, 4],\n",
       "       [0, 1, 2, 3, 4],\n",
       "       [0, 1, 2, 3, 4],\n",
       "       [0, 1, 2, 3, 4],\n",
       "       [0, 1, 2, 3, 4]])"
      ]
     },
     "execution_count": 8,
     "metadata": {},
     "output_type": "execute_result"
    }
   ],
   "execution_count": 8
  },
  {
   "cell_type": "markdown",
   "metadata": {},
   "source": [
    "10) Создать матрицу случайных чисел размера 10 на 10 и отнять среднее по строкам из каждого элемента строки"
   ]
  },
  {
   "cell_type": "code",
   "metadata": {
    "ExecuteTime": {
     "end_time": "2024-10-12T13:53:03.495567Z",
     "start_time": "2024-10-12T13:53:03.485117Z"
    }
   },
   "source": [
    "matrix = np.random.uniform(1, 10, (10, 10))\n",
    "row_means = matrix.mean(axis=1)\n",
    "normalized_matrix = matrix - row_means[:, np.newaxis]\n",
    "normalized_matrix"
   ],
   "outputs": [
    {
     "data": {
      "text/plain": [
       "array([[-2.60349578e+00, -4.31972866e+00,  3.45552189e+00,\n",
       "         1.28397044e+00,  1.48094686e+00,  1.02558794e+00,\n",
       "        -2.70741484e+00, -2.70907571e+00,  1.48231219e+00,\n",
       "         3.61137567e+00],\n",
       "       [ 8.14529389e-01, -1.80272685e-02,  6.04404460e-01,\n",
       "        -1.51956174e+00,  2.80775497e-01, -1.43178452e+00,\n",
       "         1.89633879e+00, -2.00240294e+00,  7.52558245e-01,\n",
       "         6.23170084e-01],\n",
       "       [-3.52712201e+00, -1.23578408e+00,  1.92015003e+00,\n",
       "        -1.62350622e+00, -1.08907710e-01,  3.57496748e+00,\n",
       "         9.18081755e-01, -3.29889072e-01, -8.53082318e-02,\n",
       "         4.97318059e-01],\n",
       "       [-2.55931975e+00, -6.79680196e-01,  2.61849289e+00,\n",
       "        -1.21944421e+00,  1.91876109e+00,  2.70959701e+00,\n",
       "        -2.29503889e+00, -3.14499527e-01, -2.64242383e+00,\n",
       "         2.46355542e+00],\n",
       "       [-1.44350568e+00,  4.16437111e+00,  3.89749414e+00,\n",
       "        -2.13423199e+00,  3.66504238e-01, -3.16386756e-01,\n",
       "        -1.61873348e+00, -4.70563851e-01, -2.04204186e+00,\n",
       "        -4.02905874e-01],\n",
       "       [-3.51933171e+00, -4.57772880e-01,  1.00603381e+00,\n",
       "        -3.11827268e+00,  2.47300242e+00, -1.59145881e+00,\n",
       "         1.00393140e+00,  3.39995550e+00,  2.35339178e+00,\n",
       "        -1.54947883e+00],\n",
       "       [ 5.05906252e-01,  2.67535090e+00, -1.94535215e+00,\n",
       "        -6.64748141e-01,  2.92840815e+00,  8.43540084e-01,\n",
       "        -2.62097736e+00,  4.30177734e-03, -1.45428865e-01,\n",
       "        -1.58100066e+00],\n",
       "       [-3.67982111e+00,  1.99597274e-01,  3.07405602e+00,\n",
       "         1.91241381e+00,  2.20419333e+00, -4.46440369e+00,\n",
       "         1.28354192e+00,  1.34769087e-01, -2.46953358e-01,\n",
       "        -4.17393291e-01],\n",
       "       [ 2.32011429e+00, -2.36367284e+00,  2.09879898e+00,\n",
       "        -2.58992587e+00, -1.66048179e+00, -2.19102964e+00,\n",
       "         1.45041962e+00, -2.92769558e-01,  2.13667459e+00,\n",
       "         1.09187223e+00],\n",
       "       [-8.52243335e-01, -1.72843403e+00, -3.02531297e+00,\n",
       "         4.09468852e-01, -2.44119168e+00,  3.80443586e+00,\n",
       "         3.91535248e+00,  7.63381449e-01,  2.20052179e+00,\n",
       "        -3.04597842e+00]])"
      ]
     },
     "execution_count": 21,
     "metadata": {},
     "output_type": "execute_result"
    }
   ],
   "execution_count": 21
  },
  {
   "cell_type": "markdown",
   "metadata": {},
   "source": [
    "11) Создать матрицу случайных чисел размера 10 на 10 и отнять медиану по столбцам из каждого элемента столбца  "
   ]
  },
  {
   "cell_type": "code",
   "metadata": {
    "ExecuteTime": {
     "end_time": "2024-10-12T13:55:15.830391Z",
     "start_time": "2024-10-12T13:55:15.818186Z"
    }
   },
   "source": [
    "matrix = np.random.uniform(1, 10, (10, 10))\n",
    "column_medians = np.median(matrix, axis=0)\n",
    "normalized_matrix = matrix - column_medians\n",
    "normalized_matrix"
   ],
   "outputs": [
    {
     "data": {
      "text/plain": [
       "array([[-1.15358969, -0.52686694,  3.08372818, -2.48545717,  3.09787574,\n",
       "        -1.02772994, -0.86592918, -0.13123221,  4.21615845, -2.73045652],\n",
       "       [ 3.12645899,  0.50605061,  2.04329447,  0.01660483, -0.58212352,\n",
       "         1.38421637,  2.42535351,  0.13123221,  4.17976188,  2.57556689],\n",
       "       [-0.13242727, -5.77486764,  0.91221806, -2.28296815,  3.64378992,\n",
       "        -0.80612532, -2.86098463,  2.90348625, -0.69142672, -0.0197971 ],\n",
       "       [ 4.20602907,  2.34732901, -1.50237026, -4.40022773,  2.11939748,\n",
       "        -2.63988113,  4.04338425, -1.56535001,  0.34387099,  0.161957  ],\n",
       "       [ 6.17731261,  2.26379793, -0.95844938,  1.65518603, -4.10062486,\n",
       "         1.45627751,  0.37715597,  0.67299573,  3.61040607, -2.51711508],\n",
       "       [-0.71812292,  2.2972158 ,  1.02176682,  1.12122871, -3.18611153,\n",
       "        -1.29705752, -1.13685273, -2.18876704, -1.04646212,  0.0197971 ],\n",
       "       [-0.08699053, -0.50605061, -0.91221806, -3.72197991, -3.12188203,\n",
       "         0.31766839, -2.95101281, -0.55849851,  4.6263909 , -1.66215956],\n",
       "       [ 4.83107715,  2.6234331 , -4.83596814, -0.01660483,  3.21852197,\n",
       "         0.44150704,  3.20721283,  1.29345676, -0.34387099, -4.17583101],\n",
       "       [ 0.08699053, -3.64472817, -2.88461984,  1.96171743, -4.36314987,\n",
       "         1.04455616, -0.37715597, -1.42884769, -4.05011203,  1.91182705],\n",
       "       [-0.48500141, -2.27797247,  1.15508464,  1.70078282,  0.58212352,\n",
       "        -0.31766839,  3.60942815,  1.32426631, -1.38827665,  0.2332085 ]])"
      ]
     },
     "execution_count": 22,
     "metadata": {},
     "output_type": "execute_result"
    }
   ],
   "execution_count": 22
  },
  {
   "cell_type": "markdown",
   "metadata": {},
   "source": [
    "12) Создать матрицу случайных чисел 5x5. Добавить к ней столбецы максимумов и минимумов по строкам. Получится матрица 5x7.  "
   ]
  },
  {
   "cell_type": "code",
   "metadata": {
    "ExecuteTime": {
     "end_time": "2024-10-12T13:57:10.127667Z",
     "start_time": "2024-10-12T13:57:10.116764Z"
    }
   },
   "source": [
    "matrix = np.random.uniform(1, 10, (5, 5))\n",
    "row_max = matrix.max(axis=1)\n",
    "row_min = matrix.min(axis=1)\n",
    "extended_matrix = np.column_stack((matrix, row_max, row_min))\n",
    "extended_matrix"
   ],
   "outputs": [
    {
     "data": {
      "text/plain": [
       "array([[8.47469883, 3.11353006, 7.23454907, 5.62872967, 3.18031903,\n",
       "        8.47469883, 3.11353006],\n",
       "       [3.1649538 , 8.38242082, 5.02634435, 8.24884977, 1.30886342,\n",
       "        8.38242082, 1.30886342],\n",
       "       [9.0476877 , 5.65753225, 8.64448071, 4.74298338, 8.14172659,\n",
       "        9.0476877 , 4.74298338],\n",
       "       [9.03461751, 3.09709406, 4.74424484, 1.11538445, 4.66334416,\n",
       "        9.03461751, 1.11538445],\n",
       "       [3.75285425, 9.47954231, 8.36639228, 6.13460712, 7.12481634,\n",
       "        9.47954231, 3.75285425]])"
      ]
     },
     "execution_count": 23,
     "metadata": {},
     "output_type": "execute_result"
    }
   ],
   "execution_count": 23
  },
  {
   "cell_type": "markdown",
   "metadata": {},
   "source": [
    "13) Вектор чисел от 1 до 51 преобразовать в вектор нечетных чисел и в вектор четных чисел, поменять их размерности, чтобы получились две матрица. Найти произведение этих матриц. Найти обратную матрицу эётого произведения.  "
   ]
  },
  {
   "cell_type": "code",
   "metadata": {
    "ExecuteTime": {
     "end_time": "2024-10-16T15:04:51.755738Z",
     "start_time": "2024-10-16T15:04:51.752041Z"
    }
   },
   "source": [
    "import numpy as np\n",
    "\n",
    "vec = np.arange(1, 52)\n",
    "\n",
    "odd_vec = vec[vec % 2 != 0]\n",
    "even_vec = vec[vec % 2 == 0]\n",
    "\n",
    "n = min(len(odd_vec), len(even_vec))\n",
    "odd_matrix = odd_vec[:n].reshape(n, 1)  \n",
    "even_matrix = even_vec[:n].reshape(1, n)  \n",
    "\n",
    "product_matrix = odd_matrix @ even_matrix  \n",
    "\n",
    "try:\n",
    "    inverse_matrix = np.linalg.inv(product_matrix)\n",
    "    print(\"Обратная матрица:\")\n",
    "    print(inverse_matrix)\n",
    "except np.linalg.LinAlgError:\n",
    "    print(\"Матрица вырождена, обратная матрица не существует.\")"
   ],
   "outputs": [
    {
     "name": "stdout",
     "output_type": "stream",
     "text": [
      "Матрица вырождена, обратная матрица не существует.\n"
     ]
    }
   ],
   "execution_count": 7
  },
  {
   "cell_type": "markdown",
   "metadata": {},
   "source": [
    "14) Создать 8x8 матрицу и заполнить её в шахматном порядке нулями и единицами. "
   ]
  },
  {
   "cell_type": "code",
   "metadata": {
    "ExecuteTime": {
     "end_time": "2024-10-12T14:03:55.849903Z",
     "start_time": "2024-10-12T14:03:55.845556Z"
    }
   },
   "source": [
    "import numpy as np\n",
    "\n",
    "chessboard = np.zeros((8, 8), dtype=int)\n",
    "chessboard[1::2, ::2] = 1  \n",
    "chessboard[::2, 1::2] = 1  \n",
    "print(chessboard)"
   ],
   "outputs": [
    {
     "name": "stdout",
     "output_type": "stream",
     "text": [
      "[[0 1 0 1 0 1 0 1]\n",
      " [1 0 1 0 1 0 1 0]\n",
      " [0 1 0 1 0 1 0 1]\n",
      " [1 0 1 0 1 0 1 0]\n",
      " [0 1 0 1 0 1 0 1]\n",
      " [1 0 1 0 1 0 1 0]\n",
      " [0 1 0 1 0 1 0 1]\n",
      " [1 0 1 0 1 0 1 0]]\n"
     ]
    }
   ],
   "execution_count": 32
  }
 ],
 "metadata": {
  "kernelspec": {
   "display_name": "Python 3 (ipykernel)",
   "language": "python",
   "name": "python3"
  },
  "language_info": {
   "codemirror_mode": {
    "name": "ipython",
    "version": 3
   },
   "file_extension": ".py",
   "mimetype": "text/x-python",
   "name": "python",
   "nbconvert_exporter": "python",
   "pygments_lexer": "ipython3",
   "version": "3.12.4"
  }
 },
 "nbformat": 4,
 "nbformat_minor": 4
}
