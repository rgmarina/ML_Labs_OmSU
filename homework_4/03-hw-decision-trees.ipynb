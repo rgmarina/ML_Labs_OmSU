{
 "cells": [
  {
   "cell_type": "markdown",
   "metadata": {},
   "source": [
    "# Домашняя работа. Деревья решений.\n",
    "\n",
    "## Полезная литература\n",
    "\n",
    "- [Habrahabr: ODS деревья решений](https://habrahabr.ru/company/ods/blog/322534/#derevo-resheniy)\n",
    "- [ВМК МГУ семинары по решающим деревьям](99-extra__ml-course-msu-Sem04_trees.pdf)\n",
    "- [Sklearn Decision Trees](http://scikit-learn.org/stable/modules/tree.html)"
   ]
  },
  {
   "cell_type": "markdown",
   "metadata": {},
   "source": [
    "## 1. Сравнение моделей деревьев\n",
    "\n",
    "В этом блоке вы сравните разные конфигурации композиций деревьев:\n",
    "- DecisionTree\n",
    "- Bagging\n",
    "- Bagging с другими настройками подбора признаков для разбиения\n",
    "- RandomForest\n",
    "\n",
    "Будем использовать [датасет с винишком](https://archive.ics.uci.edu/ml/datasets/wine+quality) - это задача то ли классификации то ли регресси - нужно предсказывать качество вина. Будем думать что это классификация.\n",
    "\n",
    "![](https://upload.wikimedia.org/wikipedia/en/thumb/7/7c/Lulz_Security.svg/300px-Lulz_Security.svg.png)"
   ]
  },
  {
   "cell_type": "markdown",
   "metadata": {},
   "source": [
    "### 1.1 Чтение данных (1 балла)\n",
    "\n",
    "Данные лежат как обычно в `'./data/winequality-red.csv.gz'`.\n",
    "\n",
    "- Прочитайте их с помощью pandas\n",
    "- нарисуйте countplot целевого признака `quality`.\n",
    "- Что вы думаете по поводу количества представителей каждого класса.\n",
    "- Разбейте данные на X и y."
   ]
  },
  {
   "cell_type": "code",
   "metadata": {
    "ExecuteTime": {
     "end_time": "2024-12-16T12:53:27.670519Z",
     "start_time": "2024-12-16T12:53:27.660107Z"
    }
   },
   "source": [
    "import pandas as pd\n",
    "import seaborn as sns\n",
    "import matplotlib.pyplot as plt\n",
    "\n",
    "file_path = './data/winequality-red.csv'\n",
    "data = pd.read_csv(file_path, sep=';')\n",
    "data.columns = data.columns.str.strip()\n",
    "print(data.head())\n"
   ],
   "outputs": [
    {
     "name": "stdout",
     "output_type": "stream",
     "text": [
      "   fixed acidity  volatile acidity  citric acid  residual sugar  chlorides  \\\n",
      "0            7.4              0.70         0.00             1.9      0.076   \n",
      "1            7.8              0.88         0.00             2.6      0.098   \n",
      "2            7.8              0.76         0.04             2.3      0.092   \n",
      "3           11.2              0.28         0.56             1.9      0.075   \n",
      "4            7.4              0.70         0.00             1.9      0.076   \n",
      "\n",
      "   free sulfur dioxide  total sulfur dioxide  density    pH  sulphates  \\\n",
      "0                 11.0                  34.0   0.9978  3.51       0.56   \n",
      "1                 25.0                  67.0   0.9968  3.20       0.68   \n",
      "2                 15.0                  54.0   0.9970  3.26       0.65   \n",
      "3                 17.0                  60.0   0.9980  3.16       0.58   \n",
      "4                 11.0                  34.0   0.9978  3.51       0.56   \n",
      "\n",
      "   alcohol  quality  Unnamed: 12  \n",
      "0      9.4        5          NaN  \n",
      "1      9.8        5          NaN  \n",
      "2      9.8        5          NaN  \n",
      "3      9.8        6          NaN  \n",
      "4      9.4        5          NaN  \n"
     ]
    }
   ],
   "execution_count": 1
  },
  {
   "cell_type": "code",
   "metadata": {
    "ExecuteTime": {
     "end_time": "2024-12-16T12:53:30.750099Z",
     "start_time": "2024-12-16T12:53:30.613002Z"
    }
   },
   "source": [
    "plt.figure(figsize=(10, 6))\n",
    "sns.countplot(x='quality', data=data, hue='quality', palette='viridis', legend=False)\n",
    "plt.title('Распределение классов по качеству вина')\n",
    "plt.xlabel('Качество вина')\n",
    "plt.ylabel('Количество')\n",
    "plt.show()\n"
   ],
   "outputs": [
    {
     "data": {
      "text/plain": [
       "<Figure size 1000x600 with 1 Axes>"
      ],
      "image/png": "[encoded data removed]"
     },
     "metadata": {},
     "output_type": "display_data"
    }
   ],
   "execution_count": 2
  },
  {
   "cell_type": "code",
   "metadata": {
    "ExecuteTime": {
     "end_time": "2024-12-16T12:53:33.356336Z",
     "start_time": "2024-12-16T12:53:33.350416Z"
    }
   },
   "source": [
    "class_counts = data['quality'].value_counts().sort_index()\n",
    "print(\"Количество представителей каждого класса:\")\n",
    "print(class_counts)\n"
   ],
   "outputs": [
    {
     "name": "stdout",
     "output_type": "stream",
     "text": [
      "Количество представителей каждого класса:\n",
      "quality\n",
      "3     10\n",
      "4     53\n",
      "5    681\n",
      "6    638\n",
      "7    199\n",
      "8     18\n",
      "Name: count, dtype: int64\n"
     ]
    }
   ],
   "execution_count": 3
  },
  {
   "cell_type": "code",
   "metadata": {
    "ExecuteTime": {
     "end_time": "2024-12-16T12:53:35.175918Z",
     "start_time": "2024-12-16T12:53:35.172235Z"
    }
   },
   "source": [
    "X = data.drop(columns=['quality'])\n",
    "y = data['quality']\n",
    "\n",
    "print(f\"Форма признаков (X): {X.shape}\")\n",
    "print(f\"Форма целевого признака (y): {y.shape}\")\n"
   ],
   "outputs": [
    {
     "name": "stdout",
     "output_type": "stream",
     "text": [
      "Форма признаков (X): (1599, 12)\n",
      "Форма целевого признака (y): (1599,)\n"
     ]
    }
   ],
   "execution_count": 4
  },
  {
   "cell_type": "markdown",
   "metadata": {},
   "source": [
    "### 1.2 Сравнение моделей (4 балла)\n",
    "\n",
    "Задача классификации. Все признаки уже числовые. Значит можно пробовать просто все модели и выбрать лучшую. Так и поступим, сделайте кросс валидацию на 5 фолдах, используя `sklearn.model_selection.KFold` как аргумент у `cross_val_score`. Метрика качества будет `accuracy`.\n",
    "\n",
    "Алгоритмы для тестирования:\n",
    "- KNeighborsClassifier с 10 соседями\n",
    "- KNeighborsClassifier с 10 соседями и масштабированием StandartScaler\n",
    "- RidgeClassifier\n",
    "- DecisionTreeClassifier \n",
    "- BaggingClassifier c 100 деревьев\n",
    "- BaggingClassifier с 100 деревьев и каждое дерево обучается только по половине случайно выбранных признаков (см аргументы)\n",
    "- RandomForestClassifier c 100 деревьев\n",
    "\n",
    "Выведите среднее значение метрики качества для каждого из классификаторов. \n",
    "\n",
    "**hint**: каждый следующий алгоритм, будет показывать качество лучше, чем предыдущий. Если у вас не так - то что-то вы делаете неправильно. Везде зафиксируйте random_state=42."
   ]
  },
  {
   "cell_type": "code",
   "metadata": {
    "ExecuteTime": {
     "end_time": "2024-12-16T12:53:38.094550Z",
     "start_time": "2024-12-16T12:53:38.085334Z"
    }
   },
   "source": [
    "import pandas as pd\n",
    "\n",
    "file_path = './data/winequality-red.csv'\n",
    "data = pd.read_csv(file_path, sep=';')\n",
    "data.columns = data.columns.str.strip()\n",
    "\n",
    "X = data.drop(columns=['quality'])\n",
    "y = data['quality']\n",
    "\n",
    "print(\"Первые строки данных:\")\n",
    "print(data.head())\n"
   ],
   "outputs": [
    {
     "name": "stdout",
     "output_type": "stream",
     "text": [
      "Первые строки данных:\n",
      "   fixed acidity  volatile acidity  citric acid  residual sugar  chlorides  \\\n",
      "0            7.4              0.70         0.00             1.9      0.076   \n",
      "1            7.8              0.88         0.00             2.6      0.098   \n",
      "2            7.8              0.76         0.04             2.3      0.092   \n",
      "3           11.2              0.28         0.56             1.9      0.075   \n",
      "4            7.4              0.70         0.00             1.9      0.076   \n",
      "\n",
      "   free sulfur dioxide  total sulfur dioxide  density    pH  sulphates  \\\n",
      "0                 11.0                  34.0   0.9978  3.51       0.56   \n",
      "1                 25.0                  67.0   0.9968  3.20       0.68   \n",
      "2                 15.0                  54.0   0.9970  3.26       0.65   \n",
      "3                 17.0                  60.0   0.9980  3.16       0.58   \n",
      "4                 11.0                  34.0   0.9978  3.51       0.56   \n",
      "\n",
      "   alcohol  quality  Unnamed: 12  \n",
      "0      9.4        5          NaN  \n",
      "1      9.8        5          NaN  \n",
      "2      9.8        5          NaN  \n",
      "3      9.8        6          NaN  \n",
      "4      9.4        5          NaN  \n"
     ]
    }
   ],
   "execution_count": 5
  },
  {
   "cell_type": "code",
   "metadata": {
    "ExecuteTime": {
     "end_time": "2024-12-16T12:53:40.101515Z",
     "start_time": "2024-12-16T12:53:40.094862Z"
    }
   },
   "source": [
    "constant_columns = [col for col in X.columns if X[col].nunique() == 1]\n",
    "print(\"Столбцы с постоянными значениями:\", constant_columns)\n",
    "\n",
    "data = data.drop(columns=['Unnamed: 12'])\n",
    "\n",
    "X = data.drop(columns=['quality'])\n"
   ],
   "outputs": [
    {
     "name": "stdout",
     "output_type": "stream",
     "text": [
      "Столбцы с постоянными значениями: []\n"
     ]
    }
   ],
   "execution_count": 6
  },
  {
   "cell_type": "code",
   "metadata": {
    "ExecuteTime": {
     "end_time": "2024-12-16T12:53:42.175217Z",
     "start_time": "2024-12-16T12:53:41.991141Z"
    }
   },
   "source": [
    "from sklearn.impute import SimpleImputer\n",
    "import numpy as np\n",
    "\n",
    "imputer = SimpleImputer(strategy='mean')\n",
    "X = imputer.fit_transform(X)\n",
    "\n",
    "if np.isnan(X).any():\n",
    "    print(\"В данных после обработки есть NaN.\")\n",
    "if np.isinf(X).any():\n",
    "    print(\"В данных после обработки есть бесконечные значения.\")\n"
   ],
   "outputs": [],
   "execution_count": 7
  },
  {
   "cell_type": "code",
   "metadata": {
    "ExecuteTime": {
     "end_time": "2024-12-16T12:53:43.996872Z",
     "start_time": "2024-12-16T12:53:43.992114Z"
    }
   },
   "source": [
    "from sklearn.preprocessing import StandardScaler\n",
    "\n",
    "scaler = StandardScaler()\n",
    "X_scaled = scaler.fit_transform(X)\n"
   ],
   "outputs": [],
   "execution_count": 8
  },
  {
   "cell_type": "code",
   "metadata": {
    "ExecuteTime": {
     "end_time": "2024-12-16T12:53:50.782719Z",
     "start_time": "2024-12-16T12:53:45.911845Z"
    }
   },
   "source": [
    "from sklearn.model_selection import cross_val_score, KFold\n",
    "from sklearn.neighbors import KNeighborsClassifier\n",
    "from sklearn.linear_model import RidgeClassifier\n",
    "from sklearn.tree import DecisionTreeClassifier\n",
    "from sklearn.ensemble import BaggingClassifier, RandomForestClassifier\n",
    "\n",
    "cv = KFold(n_splits=5, shuffle=True, random_state=42)\n",
    "\n",
    "classifiers = {\n",
    "    \"KNeighborsClassifier (без масштабирования)\": KNeighborsClassifier(n_neighbors=10),\n",
    "    \"KNeighborsClassifier (с масштабированием)\": KNeighborsClassifier(n_neighbors=10),\n",
    "    \"RidgeClassifier\": RidgeClassifier(random_state=42),\n",
    "    \"DecisionTreeClassifier\": DecisionTreeClassifier(random_state=42),\n",
    "    \"BaggingClassifier (100 деревьев)\": BaggingClassifier(n_estimators=100, random_state=42),\n",
    "    \"BaggingClassifier (100 деревьев, 50% признаков)\": BaggingClassifier(\n",
    "        n_estimators=100, max_features=0.5, random_state=42),\n",
    "    \"RandomForestClassifier (100 деревьев)\": RandomForestClassifier(n_estimators=100, random_state=42)\n",
    "}\n",
    "\n",
    "results = {}\n",
    "\n",
    "for name, clf in classifiers.items():\n",
    "    data = X_scaled if \"масштабированием\" in name else X\n",
    "    \n",
    "    scores = cross_val_score(clf, data, y, cv=cv, scoring='accuracy')\n",
    "    \n",
    "    results[name] = np.mean(scores)\n"
   ],
   "outputs": [],
   "execution_count": 9
  },
  {
   "cell_type": "code",
   "metadata": {
    "ExecuteTime": {
     "end_time": "2024-12-16T12:53:52.669649Z",
     "start_time": "2024-12-16T12:53:52.666370Z"
    }
   },
   "source": [
    "print(\"\\nСредние значения метрики точности для каждой модели:\")\n",
    "for name, score in results.items():\n",
    "    print(f\"{name}: {score:.4f}\")\n"
   ],
   "outputs": [
    {
     "name": "stdout",
     "output_type": "stream",
     "text": [
      "\n",
      "Средние значения метрики точности для каждой модели:\n",
      "KNeighborsClassifier (без масштабирования): 0.5122\n",
      "KNeighborsClassifier (с масштабированием): 0.5798\n",
      "RidgeClassifier: 0.5835\n",
      "DecisionTreeClassifier: 0.6179\n",
      "BaggingClassifier (100 деревьев): 0.6992\n",
      "BaggingClassifier (100 деревьев, 50% признаков): 0.6955\n",
      "RandomForestClassifier (100 деревьев): 0.6998\n"
     ]
    }
   ],
   "execution_count": 10
  },
  {
   "cell_type": "markdown",
   "metadata": {},
   "source": [
    "### 1.3 Расуждения (8 баллов)\n",
    "\n",
    "Ответьте на вопросы развернуто, можете полистать литературу:\n",
    "\n",
    "- почему наблюдается значимая разница в качестве у KNeighborsClassifier с масштабированием и без\n",
    "- почему масштабирование не важно для деревьев решений\n",
    "- почему бэггинг на половине признаков для каждого дерева дал качество предсказания больше, чем на всех? (а он дал!)\n",
    "- у какой модели наибольшей отклонение от среднего качества предсказаний? А почему??\n",
    "\n",
    "#### Ответы:\n",
    "\n",
    "1. **KNeighborsClassifier** зависит от вычисления расстояний между объектами, а масштабирование признаков (например, с помощью StandardScaler) приводит все признаки к одному масштабу. Без масштабирования признаки с большими диапазонами значений могут доминировать в расчете расстояний, искажая результаты. Масштабирование улучшает качество, так как все признаки оказывают равный вклад в определение ближайших соседей.\n",
    "\n",
    "2. **Деревья решений** не зависят от расстояний между объектами, так как они принимают решения на основе пороговых значений признаков. Масштабирование не влияет на то, как дерево строит разделяющие гиперплоскости, поскольку разбиение происходит по конкретным значениям признаков, а не по их относительным величинам. Таким образом, дерево решений не чувствительно к масштабу данных.\n",
    "\n",
    "3. Использование случайного подмножества признаков для каждого дерева (например, в **Random Forest**) снижает **корреляцию** между деревьями, что улучшает **общую стабильность** и точность ансамбля. Это позволяет избежать переобучения, так как каждое дерево обучается на меньшем количестве признаков и не может «запомнить» все данные, что повышает обобщающую способность ансамбля.\n",
    "\n",
    "4. Модель с наибольшим отклонением от среднего качества предсказаний обычно — это **KNeighborsClassifier** (особенно без масштабирования), потому что она чувствительна к локальным колебаниям в данных. KNN может сильно варьироваться в зависимости от распределения данных, выбросов и расположения соседей. Переобучение или недостаточная обобщающая способность могут привести к сильному отклонению точности на разных фолдах в кросс-валидации."
   ]
  },
  {
   "metadata": {},
   "cell_type": "markdown",
   "source": [
    "## 2 Переобучение и Ко\n",
    "\n",
    "В последнем задании вы уже заметили, что случайный лес может вести себя немного нестабильно. В этом задании мы возьмем опять датасет MNIST(простите) и будем его решать деревьями. Почему мы взяли его? Потому что в нем фактически много разных признаков (значения пикселей в пространстве), а деревья строятся делая разбиения по признакам. Обычно на эти разбиения не обращают внимание, так как главное что тюнят - это глубина дереьвев, количество деревьев, а кучу других параметров обходят стороной, так как они \"неясные\". Попробуем прояснить их."
   ]
  },
  {
   "cell_type": "markdown",
   "metadata": {},
   "source": [
    "### 2.1 Загрузка датасета (1 балл)\n",
    "\n",
    "Загрузите датасет с помощью функции `sklearn.datasets.load_digits`. В нем будут 64px картинки в векторной форме.\n",
    "\n",
    "Нарисуйте первые 10 цифр в одной ячейке, чтобы было красиво."
   ]
  },
  {
   "cell_type": "code",
   "metadata": {
    "ExecuteTime": {
     "end_time": "2024-12-16T12:53:56.546845Z",
     "start_time": "2024-12-16T12:53:56.266135Z"
    }
   },
   "source": [
    "from sklearn.datasets import load_digits\n",
    "import matplotlib.pyplot as plt\n",
    "\n",
    "digits = load_digits()\n",
    "\n",
    "X = digits.data\n",
    "y = digits.target\n",
    "\n",
    "fig, axes = plt.subplots(1, 10, figsize=(10, 2))\n",
    "\n",
    "for i in range(10):\n",
    "    axes[i].imshow(X[i].reshape(8, 8), cmap='gray')\n",
    "    axes[i].axis('off')\n",
    "    axes[i].set_title(f\"Label: {y[i]}\")\n",
    "\n",
    "plt.show()\n"
   ],
   "outputs": [
    {
     "data": {
      "text/plain": [
       "<Figure size 1000x200 with 10 Axes>"
      ],
      "image/png": "[encoded data removed]"
     },
     "metadata": {},
     "output_type": "display_data"
    }
   ],
   "execution_count": 11
  },
  {
   "cell_type": "markdown",
   "metadata": {},
   "source": [
    "### 2.2 Перебор классификаторов (3 балла)\n",
    "\n",
    "В этом задании вам снова придется перебрать несколько классификаторов, но теперь мы обратим внимание на другие гиперпараметры и их влияние на качество классификации, кстати опять `accuracy`.\n",
    "\n",
    "Сделайте кроссвалидацию на 10 фолдах, указав `cv=10` для следующих классификаторов:\n",
    "\n",
    "- DecisionTreeClassifier с параметрами по-умолчанию\n",
    "- BaggingClassifier с 100 деревьвев\n",
    "- BaggingClassifier с 100 деревьев, НО с ограничением на максимальное количество признаков, участвующих при обучении каждого из деревьев в $\\sqrt{N}$, где $N$ - это число признаков.\n",
    "- BaggingClassifier с 100 деревьев, НО с ограничением на количество признаков участвующих в разбиении для каждого из деревьев в $\\sqrt{N}$, где $N$ - это число признаков. Это отличается от предыдущей модели тем, где ограничивается `max_features`. Читайте документацию :trollface:\n",
    "- обычный случайный лес со 100 деревьями"
   ]
  },
  {
   "cell_type": "code",
   "metadata": {
    "ExecuteTime": {
     "end_time": "2024-12-16T12:54:17.579895Z",
     "start_time": "2024-12-16T12:53:59.220265Z"
    }
   },
   "source": [
    "from sklearn.model_selection import cross_val_score, KFold\n",
    "from sklearn.tree import DecisionTreeClassifier\n",
    "from sklearn.ensemble import BaggingClassifier, RandomForestClassifier\n",
    "from sklearn.datasets import load_digits\n",
    "import numpy as np\n",
    "\n",
    "digits = load_digits()\n",
    "X = digits.data\n",
    "y = digits.target\n",
    "\n",
    "cv = KFold(n_splits=10, shuffle=True, random_state=42)\n",
    "\n",
    "classifiers = {\n",
    "    \"DecisionTreeClassifier (по умолчанию)\": DecisionTreeClassifier(random_state=42),\n",
    "    \"BaggingClassifier (100 деревьев)\": BaggingClassifier(n_estimators=100, random_state=42),\n",
    "    \"BaggingClassifier (100 деревьев, max_features = sqrt(n_features))\": BaggingClassifier(\n",
    "        n_estimators=100, max_features=int(np.sqrt(X.shape[1])), random_state=42),\n",
    "    \"BaggingClassifier (100 деревьев, max_features = n_features // 2)\": BaggingClassifier(\n",
    "        n_estimators=100, max_features=X.shape[1] // 2, random_state=42),\n",
    "    \"RandomForestClassifier (100 деревьев)\": RandomForestClassifier(n_estimators=100, random_state=42)\n",
    "}\n",
    "\n",
    "def evaluate_classifiers(X, y, classifiers, cv):\n",
    "    results = {}\n",
    "    \n",
    "    for name, clf in classifiers.items():\n",
    "        scores = cross_val_score(clf, X, y, cv=cv, scoring='accuracy')\n",
    "        results[name] = np.mean(scores)\n",
    "    \n",
    "    return results\n",
    "\n",
    "results = evaluate_classifiers(X, y, classifiers, cv)\n",
    "\n",
    "print(\"\\nСредние значения метрики точности для каждой модели:\")\n",
    "for name, score in results.items():\n",
    "    print(f\"{name}: {score:.4f}\")\n"
   ],
   "outputs": [
    {
     "name": "stdout",
     "output_type": "stream",
     "text": [
      "\n",
      "Средние значения метрики точности для каждой модели:\n",
      "DecisionTreeClassifier (по умолчанию): 0.8548\n",
      "BaggingClassifier (100 деревьев): 0.9494\n",
      "BaggingClassifier (100 деревьев, max_features = sqrt(n_features)): 0.9521\n",
      "BaggingClassifier (100 деревьев, max_features = n_features // 2): 0.9739\n",
      "RandomForestClassifier (100 деревьев): 0.9783\n"
     ]
    }
   ],
   "execution_count": 12
  },
  {
   "cell_type": "markdown",
   "metadata": {},
   "source": [
    "### 2.3 В чём разница? (3 балла)\n",
    "\n",
    "Ответье на вопрос: \n",
    "\n",
    "Странно то как? Почему ограничение на количество признаков в разбиении дерева и ограничение в количестве признаков для построения каждого дерева в BaggingClasifier дало СОВСЕМ разный результат в качестве предсказания? В чем магия?\n",
    "\n",
    "\n",
    "\n",
    "\n",
    "- **Ограничение на количество признаков для разбиений дерева** (в DecisionTreeClassifier) ограничивает выбор признаков только на уровне разбиений, но дерево строится на всём наборе признаков, что может привести к переобучению. Это ограничение снижает гибкость дерева в поиске наилучших разбиений, что ухудшает качество.\n",
    "  \n",
    "- **Ограничение на количество признаков для построения дерева** в BaggingClassifier ограничивает выбор признаков при построении каждого дерева. Это снижает корреляцию между деревьями в ансамбле, что улучшает обобщающую способность и снижает переобучение.\n",
    "\n",
    "#### В чём магия?\n",
    "Магия заключается в том, что ограничение на количество признаков при обучении каждого дерева в BaggingClassifier уменьшает зависимость деревьев друг от друга, повышая устойчивость модели. Это снижает переобучение и улучшает качество предсказания, поскольку каждый классификатор работает с разными признаками."
   ]
  },
  {
   "cell_type": "markdown",
   "metadata": {},
   "source": [
    "### 2.4 Количество деревьев (2 балла)\n",
    "\n",
    "Сделайте перебор количества деревьев для `RandomForestClassifier`. Сохраните качества кросс валидации на 10 фолдах для `[1,5,10,15,50,100,150,200,300]` количества деревьев. Нарисуйте график, где по оси x - количество деревьев, а по оси y - качество. При каком количестве деревьев получается самое хорошее качество?"
   ]
  },
  {
   "cell_type": "code",
   "metadata": {
    "ExecuteTime": {
     "end_time": "2024-12-16T12:54:36.818882Z",
     "start_time": "2024-12-16T12:54:20.893658Z"
    }
   },
   "source": [
    "import numpy as np\n",
    "import matplotlib.pyplot as plt\n",
    "from sklearn.model_selection import cross_val_score, KFold\n",
    "from sklearn.ensemble import RandomForestClassifier\n",
    "from sklearn.datasets import load_digits\n",
    "\n",
    "digits = load_digits()\n",
    "X, y = digits.data, digits.target\n",
    "\n",
    "cv = KFold(n_splits=10, shuffle=True, random_state=42)\n",
    "\n",
    "n_estimators_list = [1, 5, 10, 15, 50, 100, 150, 200, 300]\n",
    "\n",
    "scores = []\n",
    "\n",
    "for n_estimators in n_estimators_list:\n",
    "    rf = RandomForestClassifier(n_estimators=n_estimators, random_state=42)\n",
    "    score = cross_val_score(rf, X, y, cv=cv, scoring='accuracy').mean()\n",
    "    scores.append(score)\n"
   ],
   "outputs": [],
   "execution_count": 13
  },
  {
   "cell_type": "code",
   "metadata": {
    "ExecuteTime": {
     "end_time": "2024-12-16T12:54:41.047415Z",
     "start_time": "2024-12-16T12:54:40.945334Z"
    }
   },
   "source": [
    "plt.figure(figsize=(8, 6))\n",
    "plt.plot(n_estimators_list, scores, marker='o', linestyle='-', color='b')\n",
    "plt.title('Влияние количества деревьев на качество RandomForest')\n",
    "plt.xlabel('Количество деревьев')\n",
    "plt.ylabel('Точность')\n",
    "plt.grid(True)\n",
    "plt.xticks(n_estimators_list)\n",
    "plt.show()\n",
    "\n",
    "best_n_estimators = n_estimators_list[np.argmax(scores)]\n",
    "best_score = max(scores)\n",
    "\n",
    "print(f\"Наилучшее качество достигается при {best_n_estimators} деревьях: {best_score:.4f}\")\n"
   ],
   "outputs": [
    {
     "data": {
      "text/plain": [
       "<Figure size 800x600 with 1 Axes>"
      ],
      "image/png": "[encoded data removed]"
     },
     "metadata": {},
     "output_type": "display_data"
    },
    {
     "name": "stdout",
     "output_type": "stream",
     "text": [
      "Наилучшее качество достигается при 150 деревьях: 0.9800\n"
     ]
    }
   ],
   "execution_count": 14
  },
  {
   "cell_type": "markdown",
   "metadata": {},
   "source": [
    "### 2.5 Количество признаков  (2 балла)\n",
    "\n",
    "Переберите теперь максимальное количество признаков для `RandomForestClassifier` на 100 деревьях, от 1 до 64 с шагом 5. Постройте график качества по кроссвалидации на 10 фолдах."
   ]
  },
  {
   "cell_type": "code",
   "metadata": {
    "ExecuteTime": {
     "end_time": "2024-12-16T12:55:43.330672Z",
     "start_time": "2024-12-16T12:54:43.548565Z"
    }
   },
   "source": [
    "import numpy as np\n",
    "import matplotlib.pyplot as plt\n",
    "from sklearn.model_selection import cross_val_score, KFold\n",
    "from sklearn.ensemble import RandomForestClassifier\n",
    "from sklearn.datasets import load_digits\n",
    "\n",
    "digits = load_digits()\n",
    "X, y = digits.data, digits.target\n",
    "\n",
    "cv = KFold(n_splits=10, shuffle=True, random_state=42)\n",
    "\n",
    "max_features_list = list(range(1, 65, 5))\n",
    "\n",
    "scores = []\n",
    "\n",
    "for max_features in max_features_list:\n",
    "    rf = RandomForestClassifier(n_estimators=100, max_features=max_features, random_state=42)\n",
    "    score = cross_val_score(rf, X, y, cv=cv, scoring='accuracy').mean()\n",
    "    scores.append(score)\n",
    "\n",
    "plt.figure(figsize=(8, 6))\n",
    "plt.plot(max_features_list, scores, marker='o', linestyle='-', color='g')\n",
    "plt.title('Влияние max_features на качество RandomForest')\n",
    "plt.xlabel('Количество признаков (max_features)')\n",
    "plt.ylabel('Точность')\n",
    "plt.grid(True)\n",
    "plt.xticks(max_features_list)\n",
    "plt.show()\n",
    "\n",
    "best_max_features = max_features_list[np.argmax(scores)]\n",
    "best_score = max(scores)\n",
    "\n",
    "print(f\"Наилучшее качество достигается при {best_max_features} признаках: {best_score:.4f}\")\n"
   ],
   "outputs": [
    {
     "data": {
      "text/plain": [
       "<Figure size 800x600 with 1 Axes>"
      ],
      "image/png": "[encoded data removed]"
     },
     "metadata": {},
     "output_type": "display_data"
    },
    {
     "name": "stdout",
     "output_type": "stream",
     "text": [
      "Наилучшее качество достигается при 11 признаках: 0.9789\n"
     ]
    }
   ],
   "execution_count": 15
  },
  {
   "cell_type": "markdown",
   "metadata": {},
   "source": [
    "### 2.5 Вопросы по RandomForest (8 баллов)\n",
    "\n",
    "Ответьте на вопросы:\n",
    "\n",
    "- Что происходит с ростом числа деревьев у случайного леса. Можно ли просто всегда брать 5000 деревьев и быть счастливым?\n",
    "- Как зависит качество предсказания в дереве в зависимости от max_features?\n",
    "- Почему качество зависит от max_features?\n",
    "- Как глубина деревьев влияет на качество случайного леса?\n",
    "\n",
    "\n",
    "1. **Что происходит с ростом числа деревьев у случайного леса? Можно ли просто всегда брать 5000 деревьев и быть счастливым?**  \n",
    "   - С ростом числа деревьев качество предсказаний стабилизируется, а ошибка на тестовых данных уменьшается (снижается дисперсия модели). Однако, после определённого количества деревьев (например, 100-200) улучшения становятся незначительными, а вычислительные затраты продолжают расти. Поэтому брать 5000 деревьев нецелесообразно в большинстве задач.\n",
    "\n",
    "2. **Как зависит качество предсказания в дереве в зависимости от max_features?**  \n",
    "   - Качество предсказания сначала увеличивается с ростом `max_features`, так как деревья получают больше информации для разбиений, но после определённого значения может начать снижаться из-за уменьшения разнообразия деревьев, что увеличивает переобучение.\n",
    "\n",
    "3. **Почему качество зависит от max_features?**  \n",
    "   - max_features контролирует количество признаков, доступных для разбиения в каждом узле дерева. Малое значение способствует разнообразию деревьев (увеличивает устойчивость к переобучению), а большое значение позволяет каждому дереву лучше подстраиваться под данные (но риск переобучения возрастает).\n",
    "\n",
    "4. **Как глубина деревьев влияет на качество случайного леса?**  \n",
    "   - Небольшая глубина может привести к недообучению (модель недостаточно сложна для захвата закономерностей в данных). Слишком большая глубина ведёт к переобучению деревьев, но случайный лес за счёт ансамблирования частично нивелирует этот эффект. Оптимальная глубина зависит от данных."
   ]
  },
  {
   "cell_type": "markdown",
   "metadata": {},
   "source": [
    "![](https://habrastorage.org/web/ad8/366/a44/ad8366a4469346c6b2e1306495b05d1a.jpg)"
   ]
  }
 ],
 "metadata": {
  "kernelspec": {
   "display_name": "Python 3 (ipykernel)",
   "language": "python",
   "name": "python3"
  },
  "language_info": {
   "codemirror_mode": {
    "name": "ipython",
    "version": 3
   },
   "file_extension": ".py",
   "mimetype": "text/x-python",
   "name": "python",
   "nbconvert_exporter": "python",
   "pygments_lexer": "ipython3",
   "version": "3.10.1"
  }
 },
 "nbformat": 4,
 "nbformat_minor": 2
}
